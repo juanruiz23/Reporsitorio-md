{
  "nbformat": 4,
  "nbformat_minor": 0,
  "metadata": {
    "colab": {
      "provenance": []
    },
    "kernelspec": {
      "name": "python3",
      "display_name": "Python 3"
    },
    "language_info": {
      "name": "python"
    }
  },
  "cells": [
    {
      "cell_type": "markdown",
      "source": [
        "# Parcial 2, Mineria de Datos\n",
        "## Juan Sebastián Ruiz Caro\n",
        "\n",
        "El objetivo de este trabajo es modelar el comportamiento de la variable 'activities', que describe si el estudiante tiene actividades extracurriculares en caso de ser $1$ y $0$ en caso contrario, esto, por medio de un modelo de regresión logistico."
      ],
      "metadata": {
        "id": "6xtWAYXNAZbl"
      }
    },
    {
      "cell_type": "code",
      "source": [
        "from google.colab import drive\n",
        "drive.mount('/content/drive')\n",
        "import pandas as pd\n",
        "import numpy as np\n",
        "import seaborn as sns\n",
        "import matplotlib as plt\n",
        "import matplotlib.pyplot as plt\n",
        "import altair as alt\n",
        "from vega_datasets import data\n",
        "import csv\n",
        "from itertools import combinations\n",
        "from  scipy.stats import chi2_contingency\n",
        "from sklearn.model_selection import train_test_split\n",
        "from sklearn.model_selection import KFold\n",
        "from sklearn.model_selection import cross_val_score\n",
        "from numpy.lib.arraysetops import setxor1d\n",
        "from sklearn.linear_model import LogisticRegression\n",
        "from sklearn import metrics\n",
        "from sklearn.model_selection import train_test_split\n",
        "from sklearn.model_selection import KFold\n",
        "from sklearn.model_selection import cross_val_score"
      ],
      "metadata": {
        "id": "7JoSc0u5AcwC",
        "colab": {
          "base_uri": "https://localhost:8080/"
        },
        "outputId": "635d4e12-4495-46df-be12-dc9bbb3efe46"
      },
      "execution_count": 123,
      "outputs": [
        {
          "output_type": "stream",
          "name": "stdout",
          "text": [
            "Drive already mounted at /content/drive; to attempt to forcibly remount, call drive.mount(\"/content/drive\", force_remount=True).\n"
          ]
        }
      ]
    },
    {
      "cell_type": "code",
      "source": [
        "pd.set_option('display.max_columns', None)\n",
        "!pip install -U -q PyDrive"
      ],
      "metadata": {
        "id": "7XFg4NxJLkSp"
      },
      "execution_count": 124,
      "outputs": []
    },
    {
      "cell_type": "code",
      "source": [
        "pip install pingouin"
      ],
      "metadata": {
        "id": "HPcVECY4O0JE"
      },
      "execution_count": 125,
      "outputs": []
    },
    {
      "cell_type": "code",
      "source": [
        "import pingouin as pg"
      ],
      "metadata": {
        "id": "-FGZmaDUO20Z"
      },
      "execution_count": 126,
      "outputs": []
    },
    {
      "cell_type": "code",
      "source": [
        "Data = pd.read_csv('/content/drive/MyDrive/2022-2/Mineria de datos/parcial/student-por.csv',\n",
        "                   sep = \";\")"
      ],
      "metadata": {
        "id": "JmlIgbV8CHKp"
      },
      "execution_count": 131,
      "outputs": []
    },
    {
      "cell_type": "markdown",
      "source": [
        "# verificación de calidad de datos y limpieza "
      ],
      "metadata": {
        "id": "FYd0tishNK2f"
      }
    },
    {
      "cell_type": "code",
      "source": [
        "Data.head(4)"
      ],
      "metadata": {
        "id": "iBmAtkWKDJ0I",
        "colab": {
          "base_uri": "https://localhost:8080/",
          "height": 239
        },
        "outputId": "4bc4ce28-95d6-448c-ebb7-e79d4c542646"
      },
      "execution_count": 132,
      "outputs": [
        {
          "output_type": "execute_result",
          "data": {
            "text/plain": [
              "  school sex  age address famsize Pstatus  Medu  Fedu     Mjob      Fjob  \\\n",
              "0     GP   F   18       U     GT3       A     4     4  at_home   teacher   \n",
              "1     GP   F   17       U     GT3       T     1     1  at_home     other   \n",
              "2     GP   F   15       U     LE3       T     1     1  at_home     other   \n",
              "3     GP   F   15       U     GT3       T     4     2   health  services   \n",
              "\n",
              "   reason guardian  traveltime  studytime  failures schoolsup famsup paid  \\\n",
              "0  course   mother           2          2         0       yes     no   no   \n",
              "1  course   father           1          2         0        no    yes   no   \n",
              "2   other   mother           1          2         0       yes     no   no   \n",
              "3    home   mother           1          3         0        no    yes   no   \n",
              "\n",
              "  activities nursery higher internet romantic  famrel  freetime  goout  Dalc  \\\n",
              "0         no     yes    yes       no       no       4         3      4     1   \n",
              "1         no      no    yes      yes       no       5         3      3     1   \n",
              "2         no     yes    yes      yes       no       4         3      2     2   \n",
              "3        yes     yes    yes      yes      yes       3         2      2     1   \n",
              "\n",
              "   Walc  health  absences  G1  G2  G3  \n",
              "0     1       3         4   0  11  11  \n",
              "1     1       3         2   9  11  11  \n",
              "2     3       3         6  12  13  12  \n",
              "3     1       5         0  14  14  14  "
            ],
            "text/html": [
              "\n",
              "  <div id=\"df-17d0fbe2-9524-480f-9360-bc7bf549d772\">\n",
              "    <div class=\"colab-df-container\">\n",
              "      <div>\n",
              "<style scoped>\n",
              "    .dataframe tbody tr th:only-of-type {\n",
              "        vertical-align: middle;\n",
              "    }\n",
              "\n",
              "    .dataframe tbody tr th {\n",
              "        vertical-align: top;\n",
              "    }\n",
              "\n",
              "    .dataframe thead th {\n",
              "        text-align: right;\n",
              "    }\n",
              "</style>\n",
              "<table border=\"1\" class=\"dataframe\">\n",
              "  <thead>\n",
              "    <tr style=\"text-align: right;\">\n",
              "      <th></th>\n",
              "      <th>school</th>\n",
              "      <th>sex</th>\n",
              "      <th>age</th>\n",
              "      <th>address</th>\n",
              "      <th>famsize</th>\n",
              "      <th>Pstatus</th>\n",
              "      <th>Medu</th>\n",
              "      <th>Fedu</th>\n",
              "      <th>Mjob</th>\n",
              "      <th>Fjob</th>\n",
              "      <th>reason</th>\n",
              "      <th>guardian</th>\n",
              "      <th>traveltime</th>\n",
              "      <th>studytime</th>\n",
              "      <th>failures</th>\n",
              "      <th>schoolsup</th>\n",
              "      <th>famsup</th>\n",
              "      <th>paid</th>\n",
              "      <th>activities</th>\n",
              "      <th>nursery</th>\n",
              "      <th>higher</th>\n",
              "      <th>internet</th>\n",
              "      <th>romantic</th>\n",
              "      <th>famrel</th>\n",
              "      <th>freetime</th>\n",
              "      <th>goout</th>\n",
              "      <th>Dalc</th>\n",
              "      <th>Walc</th>\n",
              "      <th>health</th>\n",
              "      <th>absences</th>\n",
              "      <th>G1</th>\n",
              "      <th>G2</th>\n",
              "      <th>G3</th>\n",
              "    </tr>\n",
              "  </thead>\n",
              "  <tbody>\n",
              "    <tr>\n",
              "      <th>0</th>\n",
              "      <td>GP</td>\n",
              "      <td>F</td>\n",
              "      <td>18</td>\n",
              "      <td>U</td>\n",
              "      <td>GT3</td>\n",
              "      <td>A</td>\n",
              "      <td>4</td>\n",
              "      <td>4</td>\n",
              "      <td>at_home</td>\n",
              "      <td>teacher</td>\n",
              "      <td>course</td>\n",
              "      <td>mother</td>\n",
              "      <td>2</td>\n",
              "      <td>2</td>\n",
              "      <td>0</td>\n",
              "      <td>yes</td>\n",
              "      <td>no</td>\n",
              "      <td>no</td>\n",
              "      <td>no</td>\n",
              "      <td>yes</td>\n",
              "      <td>yes</td>\n",
              "      <td>no</td>\n",
              "      <td>no</td>\n",
              "      <td>4</td>\n",
              "      <td>3</td>\n",
              "      <td>4</td>\n",
              "      <td>1</td>\n",
              "      <td>1</td>\n",
              "      <td>3</td>\n",
              "      <td>4</td>\n",
              "      <td>0</td>\n",
              "      <td>11</td>\n",
              "      <td>11</td>\n",
              "    </tr>\n",
              "    <tr>\n",
              "      <th>1</th>\n",
              "      <td>GP</td>\n",
              "      <td>F</td>\n",
              "      <td>17</td>\n",
              "      <td>U</td>\n",
              "      <td>GT3</td>\n",
              "      <td>T</td>\n",
              "      <td>1</td>\n",
              "      <td>1</td>\n",
              "      <td>at_home</td>\n",
              "      <td>other</td>\n",
              "      <td>course</td>\n",
              "      <td>father</td>\n",
              "      <td>1</td>\n",
              "      <td>2</td>\n",
              "      <td>0</td>\n",
              "      <td>no</td>\n",
              "      <td>yes</td>\n",
              "      <td>no</td>\n",
              "      <td>no</td>\n",
              "      <td>no</td>\n",
              "      <td>yes</td>\n",
              "      <td>yes</td>\n",
              "      <td>no</td>\n",
              "      <td>5</td>\n",
              "      <td>3</td>\n",
              "      <td>3</td>\n",
              "      <td>1</td>\n",
              "      <td>1</td>\n",
              "      <td>3</td>\n",
              "      <td>2</td>\n",
              "      <td>9</td>\n",
              "      <td>11</td>\n",
              "      <td>11</td>\n",
              "    </tr>\n",
              "    <tr>\n",
              "      <th>2</th>\n",
              "      <td>GP</td>\n",
              "      <td>F</td>\n",
              "      <td>15</td>\n",
              "      <td>U</td>\n",
              "      <td>LE3</td>\n",
              "      <td>T</td>\n",
              "      <td>1</td>\n",
              "      <td>1</td>\n",
              "      <td>at_home</td>\n",
              "      <td>other</td>\n",
              "      <td>other</td>\n",
              "      <td>mother</td>\n",
              "      <td>1</td>\n",
              "      <td>2</td>\n",
              "      <td>0</td>\n",
              "      <td>yes</td>\n",
              "      <td>no</td>\n",
              "      <td>no</td>\n",
              "      <td>no</td>\n",
              "      <td>yes</td>\n",
              "      <td>yes</td>\n",
              "      <td>yes</td>\n",
              "      <td>no</td>\n",
              "      <td>4</td>\n",
              "      <td>3</td>\n",
              "      <td>2</td>\n",
              "      <td>2</td>\n",
              "      <td>3</td>\n",
              "      <td>3</td>\n",
              "      <td>6</td>\n",
              "      <td>12</td>\n",
              "      <td>13</td>\n",
              "      <td>12</td>\n",
              "    </tr>\n",
              "    <tr>\n",
              "      <th>3</th>\n",
              "      <td>GP</td>\n",
              "      <td>F</td>\n",
              "      <td>15</td>\n",
              "      <td>U</td>\n",
              "      <td>GT3</td>\n",
              "      <td>T</td>\n",
              "      <td>4</td>\n",
              "      <td>2</td>\n",
              "      <td>health</td>\n",
              "      <td>services</td>\n",
              "      <td>home</td>\n",
              "      <td>mother</td>\n",
              "      <td>1</td>\n",
              "      <td>3</td>\n",
              "      <td>0</td>\n",
              "      <td>no</td>\n",
              "      <td>yes</td>\n",
              "      <td>no</td>\n",
              "      <td>yes</td>\n",
              "      <td>yes</td>\n",
              "      <td>yes</td>\n",
              "      <td>yes</td>\n",
              "      <td>yes</td>\n",
              "      <td>3</td>\n",
              "      <td>2</td>\n",
              "      <td>2</td>\n",
              "      <td>1</td>\n",
              "      <td>1</td>\n",
              "      <td>5</td>\n",
              "      <td>0</td>\n",
              "      <td>14</td>\n",
              "      <td>14</td>\n",
              "      <td>14</td>\n",
              "    </tr>\n",
              "  </tbody>\n",
              "</table>\n",
              "</div>\n",
              "      <button class=\"colab-df-convert\" onclick=\"convertToInteractive('df-17d0fbe2-9524-480f-9360-bc7bf549d772')\"\n",
              "              title=\"Convert this dataframe to an interactive table.\"\n",
              "              style=\"display:none;\">\n",
              "        \n",
              "  <svg xmlns=\"http://www.w3.org/2000/svg\" height=\"24px\"viewBox=\"0 0 24 24\"\n",
              "       width=\"24px\">\n",
              "    <path d=\"M0 0h24v24H0V0z\" fill=\"none\"/>\n",
              "    <path d=\"M18.56 5.44l.94 2.06.94-2.06 2.06-.94-2.06-.94-.94-2.06-.94 2.06-2.06.94zm-11 1L8.5 8.5l.94-2.06 2.06-.94-2.06-.94L8.5 2.5l-.94 2.06-2.06.94zm10 10l.94 2.06.94-2.06 2.06-.94-2.06-.94-.94-2.06-.94 2.06-2.06.94z\"/><path d=\"M17.41 7.96l-1.37-1.37c-.4-.4-.92-.59-1.43-.59-.52 0-1.04.2-1.43.59L10.3 9.45l-7.72 7.72c-.78.78-.78 2.05 0 2.83L4 21.41c.39.39.9.59 1.41.59.51 0 1.02-.2 1.41-.59l7.78-7.78 2.81-2.81c.8-.78.8-2.07 0-2.86zM5.41 20L4 18.59l7.72-7.72 1.47 1.35L5.41 20z\"/>\n",
              "  </svg>\n",
              "      </button>\n",
              "      \n",
              "  <style>\n",
              "    .colab-df-container {\n",
              "      display:flex;\n",
              "      flex-wrap:wrap;\n",
              "      gap: 12px;\n",
              "    }\n",
              "\n",
              "    .colab-df-convert {\n",
              "      background-color: #E8F0FE;\n",
              "      border: none;\n",
              "      border-radius: 50%;\n",
              "      cursor: pointer;\n",
              "      display: none;\n",
              "      fill: #1967D2;\n",
              "      height: 32px;\n",
              "      padding: 0 0 0 0;\n",
              "      width: 32px;\n",
              "    }\n",
              "\n",
              "    .colab-df-convert:hover {\n",
              "      background-color: #E2EBFA;\n",
              "      box-shadow: 0px 1px 2px rgba(60, 64, 67, 0.3), 0px 1px 3px 1px rgba(60, 64, 67, 0.15);\n",
              "      fill: #174EA6;\n",
              "    }\n",
              "\n",
              "    [theme=dark] .colab-df-convert {\n",
              "      background-color: #3B4455;\n",
              "      fill: #D2E3FC;\n",
              "    }\n",
              "\n",
              "    [theme=dark] .colab-df-convert:hover {\n",
              "      background-color: #434B5C;\n",
              "      box-shadow: 0px 1px 3px 1px rgba(0, 0, 0, 0.15);\n",
              "      filter: drop-shadow(0px 1px 2px rgba(0, 0, 0, 0.3));\n",
              "      fill: #FFFFFF;\n",
              "    }\n",
              "  </style>\n",
              "\n",
              "      <script>\n",
              "        const buttonEl =\n",
              "          document.querySelector('#df-17d0fbe2-9524-480f-9360-bc7bf549d772 button.colab-df-convert');\n",
              "        buttonEl.style.display =\n",
              "          google.colab.kernel.accessAllowed ? 'block' : 'none';\n",
              "\n",
              "        async function convertToInteractive(key) {\n",
              "          const element = document.querySelector('#df-17d0fbe2-9524-480f-9360-bc7bf549d772');\n",
              "          const dataTable =\n",
              "            await google.colab.kernel.invokeFunction('convertToInteractive',\n",
              "                                                     [key], {});\n",
              "          if (!dataTable) return;\n",
              "\n",
              "          const docLinkHtml = 'Like what you see? Visit the ' +\n",
              "            '<a target=\"_blank\" href=https://colab.research.google.com/notebooks/data_table.ipynb>data table notebook</a>'\n",
              "            + ' to learn more about interactive tables.';\n",
              "          element.innerHTML = '';\n",
              "          dataTable['output_type'] = 'display_data';\n",
              "          await google.colab.output.renderOutput(dataTable, element);\n",
              "          const docLink = document.createElement('div');\n",
              "          docLink.innerHTML = docLinkHtml;\n",
              "          element.appendChild(docLink);\n",
              "        }\n",
              "      </script>\n",
              "    </div>\n",
              "  </div>\n",
              "  "
            ]
          },
          "metadata": {},
          "execution_count": 132
        }
      ]
    },
    {
      "cell_type": "markdown",
      "source": [
        "Dimensión de los datos"
      ],
      "metadata": {
        "id": "SiTFNbC8Lspu"
      }
    },
    {
      "cell_type": "code",
      "source": [
        "n = Data.shape[0]\n",
        "print('Rendimiento Portugues')\n",
        "print('Individuos:', n)\n",
        "print('Variables:', Data.shape[1])"
      ],
      "metadata": {
        "colab": {
          "base_uri": "https://localhost:8080/"
        },
        "id": "qaPXavpzPHFv",
        "outputId": "ab46d718-c9b4-4fe8-df2f-fbb15ce29355"
      },
      "execution_count": 133,
      "outputs": [
        {
          "output_type": "stream",
          "name": "stdout",
          "text": [
            "Rendimiento Portugues\n",
            "Individuos: 649\n",
            "Variables: 33\n"
          ]
        }
      ]
    },
    {
      "cell_type": "markdown",
      "source": [
        "La base de datos suministrada cuenta con $33$ variables y $649$ individuos."
      ],
      "metadata": {
        "id": "B0vDyxfP47TV"
      }
    },
    {
      "cell_type": "markdown",
      "source": [
        "Atributos y tipos de atributos"
      ],
      "metadata": {
        "id": "qKJ4gNrhMji7"
      }
    },
    {
      "cell_type": "code",
      "source": [
        "Data.dtypes"
      ],
      "metadata": {
        "colab": {
          "base_uri": "https://localhost:8080/"
        },
        "id": "5HPzyrteMwVx",
        "outputId": "912153e1-e0ef-484d-ea11-3a072ae5ef64"
      },
      "execution_count": 134,
      "outputs": [
        {
          "output_type": "execute_result",
          "data": {
            "text/plain": [
              "school        object\n",
              "sex           object\n",
              "age            int64\n",
              "address       object\n",
              "famsize       object\n",
              "Pstatus       object\n",
              "Medu           int64\n",
              "Fedu           int64\n",
              "Mjob          object\n",
              "Fjob          object\n",
              "reason        object\n",
              "guardian      object\n",
              "traveltime     int64\n",
              "studytime      int64\n",
              "failures       int64\n",
              "schoolsup     object\n",
              "famsup        object\n",
              "paid          object\n",
              "activities    object\n",
              "nursery       object\n",
              "higher        object\n",
              "internet      object\n",
              "romantic      object\n",
              "famrel         int64\n",
              "freetime       int64\n",
              "goout          int64\n",
              "Dalc           int64\n",
              "Walc           int64\n",
              "health         int64\n",
              "absences       int64\n",
              "G1             int64\n",
              "G2             int64\n",
              "G3             int64\n",
              "dtype: object"
            ]
          },
          "metadata": {},
          "execution_count": 134
        }
      ]
    },
    {
      "cell_type": "markdown",
      "source": [
        "## Análisis de datos faltantes"
      ],
      "metadata": {
        "id": "4kM-3lyuNmWv"
      }
    },
    {
      "cell_type": "markdown",
      "source": [
        "En la variable de interes, 'Activities', que toma el valor de $1$ si el estudiante toma clases extra-curriculares y $0$ en caso constrario, se tiene la información cumpleta."
      ],
      "metadata": {
        "id": "CIH9WbB64oTg"
      }
    },
    {
      "cell_type": "code",
      "source": [
        "DF = pd.DataFrame()\n",
        "DF['Variable'] = list(Data.columns)\n",
        "DF['datos faltantes'] = list(Data.isnull().sum())\n",
        "DF['% de datos faltantes'] =  list(100 * round(Data.isnull().sum() / n, 3)) ; DF"
      ],
      "metadata": {
        "colab": {
          "base_uri": "https://localhost:8080/",
          "height": 1000
        },
        "id": "DUvSdoRcPZ7M",
        "outputId": "95d372d1-da69-49fb-9af2-db26e2e60b26"
      },
      "execution_count": 136,
      "outputs": [
        {
          "output_type": "execute_result",
          "data": {
            "text/plain": [
              "      Variable  datos faltantes  % de datos faltantes\n",
              "0       school                0                   0.0\n",
              "1          sex                2                   0.3\n",
              "2          age                0                   0.0\n",
              "3      address                0                   0.0\n",
              "4      famsize                2                   0.3\n",
              "5      Pstatus                2                   0.3\n",
              "6         Medu                0                   0.0\n",
              "7         Fedu                0                   0.0\n",
              "8         Mjob                0                   0.0\n",
              "9         Fjob                1                   0.2\n",
              "10      reason                0                   0.0\n",
              "11    guardian                2                   0.3\n",
              "12  traveltime                0                   0.0\n",
              "13   studytime                0                   0.0\n",
              "14    failures                0                   0.0\n",
              "15   schoolsup                0                   0.0\n",
              "16      famsup                2                   0.3\n",
              "17        paid                0                   0.0\n",
              "18  activities                0                   0.0\n",
              "19     nursery                1                   0.2\n",
              "20      higher                1                   0.2\n",
              "21    internet                0                   0.0\n",
              "22    romantic                0                   0.0\n",
              "23      famrel                0                   0.0\n",
              "24    freetime                0                   0.0\n",
              "25       goout                0                   0.0\n",
              "26        Dalc                0                   0.0\n",
              "27        Walc                0                   0.0\n",
              "28      health                0                   0.0\n",
              "29    absences                0                   0.0\n",
              "30          G1                0                   0.0\n",
              "31          G2                0                   0.0\n",
              "32          G3                0                   0.0"
            ],
            "text/html": [
              "\n",
              "  <div id=\"df-9e7d1f8f-cb9a-4d4f-8bfb-55995c9ebc23\">\n",
              "    <div class=\"colab-df-container\">\n",
              "      <div>\n",
              "<style scoped>\n",
              "    .dataframe tbody tr th:only-of-type {\n",
              "        vertical-align: middle;\n",
              "    }\n",
              "\n",
              "    .dataframe tbody tr th {\n",
              "        vertical-align: top;\n",
              "    }\n",
              "\n",
              "    .dataframe thead th {\n",
              "        text-align: right;\n",
              "    }\n",
              "</style>\n",
              "<table border=\"1\" class=\"dataframe\">\n",
              "  <thead>\n",
              "    <tr style=\"text-align: right;\">\n",
              "      <th></th>\n",
              "      <th>Variable</th>\n",
              "      <th>datos faltantes</th>\n",
              "      <th>% de datos faltantes</th>\n",
              "    </tr>\n",
              "  </thead>\n",
              "  <tbody>\n",
              "    <tr>\n",
              "      <th>0</th>\n",
              "      <td>school</td>\n",
              "      <td>0</td>\n",
              "      <td>0.0</td>\n",
              "    </tr>\n",
              "    <tr>\n",
              "      <th>1</th>\n",
              "      <td>sex</td>\n",
              "      <td>2</td>\n",
              "      <td>0.3</td>\n",
              "    </tr>\n",
              "    <tr>\n",
              "      <th>2</th>\n",
              "      <td>age</td>\n",
              "      <td>0</td>\n",
              "      <td>0.0</td>\n",
              "    </tr>\n",
              "    <tr>\n",
              "      <th>3</th>\n",
              "      <td>address</td>\n",
              "      <td>0</td>\n",
              "      <td>0.0</td>\n",
              "    </tr>\n",
              "    <tr>\n",
              "      <th>4</th>\n",
              "      <td>famsize</td>\n",
              "      <td>2</td>\n",
              "      <td>0.3</td>\n",
              "    </tr>\n",
              "    <tr>\n",
              "      <th>5</th>\n",
              "      <td>Pstatus</td>\n",
              "      <td>2</td>\n",
              "      <td>0.3</td>\n",
              "    </tr>\n",
              "    <tr>\n",
              "      <th>6</th>\n",
              "      <td>Medu</td>\n",
              "      <td>0</td>\n",
              "      <td>0.0</td>\n",
              "    </tr>\n",
              "    <tr>\n",
              "      <th>7</th>\n",
              "      <td>Fedu</td>\n",
              "      <td>0</td>\n",
              "      <td>0.0</td>\n",
              "    </tr>\n",
              "    <tr>\n",
              "      <th>8</th>\n",
              "      <td>Mjob</td>\n",
              "      <td>0</td>\n",
              "      <td>0.0</td>\n",
              "    </tr>\n",
              "    <tr>\n",
              "      <th>9</th>\n",
              "      <td>Fjob</td>\n",
              "      <td>1</td>\n",
              "      <td>0.2</td>\n",
              "    </tr>\n",
              "    <tr>\n",
              "      <th>10</th>\n",
              "      <td>reason</td>\n",
              "      <td>0</td>\n",
              "      <td>0.0</td>\n",
              "    </tr>\n",
              "    <tr>\n",
              "      <th>11</th>\n",
              "      <td>guardian</td>\n",
              "      <td>2</td>\n",
              "      <td>0.3</td>\n",
              "    </tr>\n",
              "    <tr>\n",
              "      <th>12</th>\n",
              "      <td>traveltime</td>\n",
              "      <td>0</td>\n",
              "      <td>0.0</td>\n",
              "    </tr>\n",
              "    <tr>\n",
              "      <th>13</th>\n",
              "      <td>studytime</td>\n",
              "      <td>0</td>\n",
              "      <td>0.0</td>\n",
              "    </tr>\n",
              "    <tr>\n",
              "      <th>14</th>\n",
              "      <td>failures</td>\n",
              "      <td>0</td>\n",
              "      <td>0.0</td>\n",
              "    </tr>\n",
              "    <tr>\n",
              "      <th>15</th>\n",
              "      <td>schoolsup</td>\n",
              "      <td>0</td>\n",
              "      <td>0.0</td>\n",
              "    </tr>\n",
              "    <tr>\n",
              "      <th>16</th>\n",
              "      <td>famsup</td>\n",
              "      <td>2</td>\n",
              "      <td>0.3</td>\n",
              "    </tr>\n",
              "    <tr>\n",
              "      <th>17</th>\n",
              "      <td>paid</td>\n",
              "      <td>0</td>\n",
              "      <td>0.0</td>\n",
              "    </tr>\n",
              "    <tr>\n",
              "      <th>18</th>\n",
              "      <td>activities</td>\n",
              "      <td>0</td>\n",
              "      <td>0.0</td>\n",
              "    </tr>\n",
              "    <tr>\n",
              "      <th>19</th>\n",
              "      <td>nursery</td>\n",
              "      <td>1</td>\n",
              "      <td>0.2</td>\n",
              "    </tr>\n",
              "    <tr>\n",
              "      <th>20</th>\n",
              "      <td>higher</td>\n",
              "      <td>1</td>\n",
              "      <td>0.2</td>\n",
              "    </tr>\n",
              "    <tr>\n",
              "      <th>21</th>\n",
              "      <td>internet</td>\n",
              "      <td>0</td>\n",
              "      <td>0.0</td>\n",
              "    </tr>\n",
              "    <tr>\n",
              "      <th>22</th>\n",
              "      <td>romantic</td>\n",
              "      <td>0</td>\n",
              "      <td>0.0</td>\n",
              "    </tr>\n",
              "    <tr>\n",
              "      <th>23</th>\n",
              "      <td>famrel</td>\n",
              "      <td>0</td>\n",
              "      <td>0.0</td>\n",
              "    </tr>\n",
              "    <tr>\n",
              "      <th>24</th>\n",
              "      <td>freetime</td>\n",
              "      <td>0</td>\n",
              "      <td>0.0</td>\n",
              "    </tr>\n",
              "    <tr>\n",
              "      <th>25</th>\n",
              "      <td>goout</td>\n",
              "      <td>0</td>\n",
              "      <td>0.0</td>\n",
              "    </tr>\n",
              "    <tr>\n",
              "      <th>26</th>\n",
              "      <td>Dalc</td>\n",
              "      <td>0</td>\n",
              "      <td>0.0</td>\n",
              "    </tr>\n",
              "    <tr>\n",
              "      <th>27</th>\n",
              "      <td>Walc</td>\n",
              "      <td>0</td>\n",
              "      <td>0.0</td>\n",
              "    </tr>\n",
              "    <tr>\n",
              "      <th>28</th>\n",
              "      <td>health</td>\n",
              "      <td>0</td>\n",
              "      <td>0.0</td>\n",
              "    </tr>\n",
              "    <tr>\n",
              "      <th>29</th>\n",
              "      <td>absences</td>\n",
              "      <td>0</td>\n",
              "      <td>0.0</td>\n",
              "    </tr>\n",
              "    <tr>\n",
              "      <th>30</th>\n",
              "      <td>G1</td>\n",
              "      <td>0</td>\n",
              "      <td>0.0</td>\n",
              "    </tr>\n",
              "    <tr>\n",
              "      <th>31</th>\n",
              "      <td>G2</td>\n",
              "      <td>0</td>\n",
              "      <td>0.0</td>\n",
              "    </tr>\n",
              "    <tr>\n",
              "      <th>32</th>\n",
              "      <td>G3</td>\n",
              "      <td>0</td>\n",
              "      <td>0.0</td>\n",
              "    </tr>\n",
              "  </tbody>\n",
              "</table>\n",
              "</div>\n",
              "      <button class=\"colab-df-convert\" onclick=\"convertToInteractive('df-9e7d1f8f-cb9a-4d4f-8bfb-55995c9ebc23')\"\n",
              "              title=\"Convert this dataframe to an interactive table.\"\n",
              "              style=\"display:none;\">\n",
              "        \n",
              "  <svg xmlns=\"http://www.w3.org/2000/svg\" height=\"24px\"viewBox=\"0 0 24 24\"\n",
              "       width=\"24px\">\n",
              "    <path d=\"M0 0h24v24H0V0z\" fill=\"none\"/>\n",
              "    <path d=\"M18.56 5.44l.94 2.06.94-2.06 2.06-.94-2.06-.94-.94-2.06-.94 2.06-2.06.94zm-11 1L8.5 8.5l.94-2.06 2.06-.94-2.06-.94L8.5 2.5l-.94 2.06-2.06.94zm10 10l.94 2.06.94-2.06 2.06-.94-2.06-.94-.94-2.06-.94 2.06-2.06.94z\"/><path d=\"M17.41 7.96l-1.37-1.37c-.4-.4-.92-.59-1.43-.59-.52 0-1.04.2-1.43.59L10.3 9.45l-7.72 7.72c-.78.78-.78 2.05 0 2.83L4 21.41c.39.39.9.59 1.41.59.51 0 1.02-.2 1.41-.59l7.78-7.78 2.81-2.81c.8-.78.8-2.07 0-2.86zM5.41 20L4 18.59l7.72-7.72 1.47 1.35L5.41 20z\"/>\n",
              "  </svg>\n",
              "      </button>\n",
              "      \n",
              "  <style>\n",
              "    .colab-df-container {\n",
              "      display:flex;\n",
              "      flex-wrap:wrap;\n",
              "      gap: 12px;\n",
              "    }\n",
              "\n",
              "    .colab-df-convert {\n",
              "      background-color: #E8F0FE;\n",
              "      border: none;\n",
              "      border-radius: 50%;\n",
              "      cursor: pointer;\n",
              "      display: none;\n",
              "      fill: #1967D2;\n",
              "      height: 32px;\n",
              "      padding: 0 0 0 0;\n",
              "      width: 32px;\n",
              "    }\n",
              "\n",
              "    .colab-df-convert:hover {\n",
              "      background-color: #E2EBFA;\n",
              "      box-shadow: 0px 1px 2px rgba(60, 64, 67, 0.3), 0px 1px 3px 1px rgba(60, 64, 67, 0.15);\n",
              "      fill: #174EA6;\n",
              "    }\n",
              "\n",
              "    [theme=dark] .colab-df-convert {\n",
              "      background-color: #3B4455;\n",
              "      fill: #D2E3FC;\n",
              "    }\n",
              "\n",
              "    [theme=dark] .colab-df-convert:hover {\n",
              "      background-color: #434B5C;\n",
              "      box-shadow: 0px 1px 3px 1px rgba(0, 0, 0, 0.15);\n",
              "      filter: drop-shadow(0px 1px 2px rgba(0, 0, 0, 0.3));\n",
              "      fill: #FFFFFF;\n",
              "    }\n",
              "  </style>\n",
              "\n",
              "      <script>\n",
              "        const buttonEl =\n",
              "          document.querySelector('#df-9e7d1f8f-cb9a-4d4f-8bfb-55995c9ebc23 button.colab-df-convert');\n",
              "        buttonEl.style.display =\n",
              "          google.colab.kernel.accessAllowed ? 'block' : 'none';\n",
              "\n",
              "        async function convertToInteractive(key) {\n",
              "          const element = document.querySelector('#df-9e7d1f8f-cb9a-4d4f-8bfb-55995c9ebc23');\n",
              "          const dataTable =\n",
              "            await google.colab.kernel.invokeFunction('convertToInteractive',\n",
              "                                                     [key], {});\n",
              "          if (!dataTable) return;\n",
              "\n",
              "          const docLinkHtml = 'Like what you see? Visit the ' +\n",
              "            '<a target=\"_blank\" href=https://colab.research.google.com/notebooks/data_table.ipynb>data table notebook</a>'\n",
              "            + ' to learn more about interactive tables.';\n",
              "          element.innerHTML = '';\n",
              "          dataTable['output_type'] = 'display_data';\n",
              "          await google.colab.output.renderOutput(dataTable, element);\n",
              "          const docLink = document.createElement('div');\n",
              "          docLink.innerHTML = docLinkHtml;\n",
              "          element.appendChild(docLink);\n",
              "        }\n",
              "      </script>\n",
              "    </div>\n",
              "  </div>\n",
              "  "
            ]
          },
          "metadata": {},
          "execution_count": 136
        }
      ]
    },
    {
      "cell_type": "markdown",
      "source": [
        "De las $33$ variables con las que cuenta la base de datos, solamente $8$ tienen la información imcompleta, ademas, como maximo se tienen dos datos faltantes por variable, por lo tanto, al ser tan pocas estan observaciones faltantes, se realizara un proceso de imputación simple, dado que todas las variables son cualitativas, cada una de ellas se imputara con la moda.  "
      ],
      "metadata": {
        "id": "txtFC59_5Nw0"
      }
    },
    {
      "cell_type": "markdown",
      "source": [
        "## Imputación de datos faltantes"
      ],
      "metadata": {
        "id": "B4_BGmBmSL3D"
      }
    },
    {
      "cell_type": "markdown",
      "source": [
        "## Variables cualitativas"
      ],
      "metadata": {
        "id": "tYmx-PWOTYk1"
      }
    },
    {
      "cell_type": "markdown",
      "source": [
        "### Sexo"
      ],
      "metadata": {
        "id": "XV7vqLDSTrjN"
      }
    },
    {
      "cell_type": "code",
      "source": [
        "Data['sex'].value_counts()\n",
        "Data['sex'][Data['sex'].isna()] = ['F', 'F']\n"
      ],
      "metadata": {
        "colab": {
          "base_uri": "https://localhost:8080/"
        },
        "id": "kL4d5udtTJQX",
        "outputId": "cf2f162a-00e0-4bc6-b6b5-3082a2959f78"
      },
      "execution_count": 137,
      "outputs": [
        {
          "output_type": "stream",
          "name": "stderr",
          "text": [
            "/usr/local/lib/python3.7/dist-packages/ipykernel_launcher.py:2: SettingWithCopyWarning: \n",
            "A value is trying to be set on a copy of a slice from a DataFrame\n",
            "\n",
            "See the caveats in the documentation: https://pandas.pydata.org/pandas-docs/stable/user_guide/indexing.html#returning-a-view-versus-a-copy\n",
            "  \n"
          ]
        }
      ]
    },
    {
      "cell_type": "markdown",
      "source": [
        "### Tamaño de la familia"
      ],
      "metadata": {
        "id": "r5LR5zGjTuwU"
      }
    },
    {
      "cell_type": "code",
      "source": [
        "Data['famsize'].value_counts()\n",
        "Data['famsize'][Data['famsize'].isna()] = ['GT3', 'GT3']"
      ],
      "metadata": {
        "colab": {
          "base_uri": "https://localhost:8080/"
        },
        "id": "YdULSJJET2A3",
        "outputId": "3650b9a8-36b7-426d-9d6f-f5ccb0a71db1"
      },
      "execution_count": 138,
      "outputs": [
        {
          "output_type": "stream",
          "name": "stderr",
          "text": [
            "/usr/local/lib/python3.7/dist-packages/ipykernel_launcher.py:2: SettingWithCopyWarning: \n",
            "A value is trying to be set on a copy of a slice from a DataFrame\n",
            "\n",
            "See the caveats in the documentation: https://pandas.pydata.org/pandas-docs/stable/user_guide/indexing.html#returning-a-view-versus-a-copy\n",
            "  \n"
          ]
        }
      ]
    },
    {
      "cell_type": "markdown",
      "source": [
        "### Estado de convicencia de los padres"
      ],
      "metadata": {
        "id": "KyqPXQH1UGiy"
      }
    },
    {
      "cell_type": "code",
      "source": [
        "Data['Pstatus'].value_counts()\n",
        "Data['Pstatus'][Data['Pstatus'].isna()] = ['T', 'T']"
      ],
      "metadata": {
        "colab": {
          "base_uri": "https://localhost:8080/"
        },
        "id": "Lt5s_ougUB4M",
        "outputId": "0ffcc05e-aede-4112-e598-a9d90ec82655"
      },
      "execution_count": 139,
      "outputs": [
        {
          "output_type": "stream",
          "name": "stderr",
          "text": [
            "/usr/local/lib/python3.7/dist-packages/ipykernel_launcher.py:2: SettingWithCopyWarning: \n",
            "A value is trying to be set on a copy of a slice from a DataFrame\n",
            "\n",
            "See the caveats in the documentation: https://pandas.pydata.org/pandas-docs/stable/user_guide/indexing.html#returning-a-view-versus-a-copy\n",
            "  \n"
          ]
        }
      ]
    },
    {
      "cell_type": "markdown",
      "source": [
        "### Trabajo del padre"
      ],
      "metadata": {
        "id": "bvLOcwbyU59y"
      }
    },
    {
      "cell_type": "code",
      "source": [
        "Data['Fjob'].value_counts()\n",
        "Data['Fjob'][Data['Fjob'].isna()] = 'other'"
      ],
      "metadata": {
        "colab": {
          "base_uri": "https://localhost:8080/"
        },
        "id": "E0SulOMVSefs",
        "outputId": "44b8ae3a-802b-44da-dc19-246740328e30"
      },
      "execution_count": 140,
      "outputs": [
        {
          "output_type": "stream",
          "name": "stderr",
          "text": [
            "/usr/local/lib/python3.7/dist-packages/ipykernel_launcher.py:2: SettingWithCopyWarning: \n",
            "A value is trying to be set on a copy of a slice from a DataFrame\n",
            "\n",
            "See the caveats in the documentation: https://pandas.pydata.org/pandas-docs/stable/user_guide/indexing.html#returning-a-view-versus-a-copy\n",
            "  \n"
          ]
        }
      ]
    },
    {
      "cell_type": "markdown",
      "source": [
        "### Tutor del estudiante"
      ],
      "metadata": {
        "id": "5oGARWf6VIOh"
      }
    },
    {
      "cell_type": "code",
      "source": [
        "Data['guardian'].value_counts()\n",
        "Data['guardian'][Data['guardian'].isna()] = ['mother', 'mother']"
      ],
      "metadata": {
        "colab": {
          "base_uri": "https://localhost:8080/"
        },
        "id": "2OC4_3ZFVOgH",
        "outputId": "9ca38659-21f3-4a2f-944f-92dfc7a40e56"
      },
      "execution_count": 141,
      "outputs": [
        {
          "output_type": "stream",
          "name": "stderr",
          "text": [
            "/usr/local/lib/python3.7/dist-packages/ipykernel_launcher.py:2: SettingWithCopyWarning: \n",
            "A value is trying to be set on a copy of a slice from a DataFrame\n",
            "\n",
            "See the caveats in the documentation: https://pandas.pydata.org/pandas-docs/stable/user_guide/indexing.html#returning-a-view-versus-a-copy\n",
            "  \n"
          ]
        }
      ]
    },
    {
      "cell_type": "markdown",
      "source": [
        "### Apoyo educativo familiar"
      ],
      "metadata": {
        "id": "lMOkGeKQVbd0"
      }
    },
    {
      "cell_type": "code",
      "source": [
        "Data['famsup'].value_counts()\n",
        "Data['famsup'][Data['famsup'].isna()] = ['yes', 'yes']"
      ],
      "metadata": {
        "colab": {
          "base_uri": "https://localhost:8080/"
        },
        "id": "Ya4WRci4Viwm",
        "outputId": "af32c4a2-07a5-4c8e-c9cf-842e4521e14f"
      },
      "execution_count": 142,
      "outputs": [
        {
          "output_type": "stream",
          "name": "stderr",
          "text": [
            "/usr/local/lib/python3.7/dist-packages/ipykernel_launcher.py:2: SettingWithCopyWarning: \n",
            "A value is trying to be set on a copy of a slice from a DataFrame\n",
            "\n",
            "See the caveats in the documentation: https://pandas.pydata.org/pandas-docs/stable/user_guide/indexing.html#returning-a-view-versus-a-copy\n",
            "  \n"
          ]
        }
      ]
    },
    {
      "cell_type": "markdown",
      "source": [
        "### asistió a la escuela de párvulos"
      ],
      "metadata": {
        "id": "8tNiKeZlV0z7"
      }
    },
    {
      "cell_type": "code",
      "source": [
        "Data['nursery'].value_counts()\n",
        "Data['nursery'][Data['nursery'].isna()] = 'yes'"
      ],
      "metadata": {
        "colab": {
          "base_uri": "https://localhost:8080/"
        },
        "id": "Ziy96WeXVqjK",
        "outputId": "c6e82c1d-cc28-4d1a-92f6-d38e0fd83c86"
      },
      "execution_count": 143,
      "outputs": [
        {
          "output_type": "stream",
          "name": "stderr",
          "text": [
            "/usr/local/lib/python3.7/dist-packages/ipykernel_launcher.py:2: SettingWithCopyWarning: \n",
            "A value is trying to be set on a copy of a slice from a DataFrame\n",
            "\n",
            "See the caveats in the documentation: https://pandas.pydata.org/pandas-docs/stable/user_guide/indexing.html#returning-a-view-versus-a-copy\n",
            "  \n"
          ]
        }
      ]
    },
    {
      "cell_type": "markdown",
      "source": [
        "### ¿Quiere cursar estudios superiores?"
      ],
      "metadata": {
        "id": "q1CJZ0FQWO1k"
      }
    },
    {
      "cell_type": "code",
      "source": [
        "Data['higher'].value_counts()\n",
        "Data['higher'][Data['higher'].isna()] = 'yes'"
      ],
      "metadata": {
        "colab": {
          "base_uri": "https://localhost:8080/"
        },
        "id": "AJ3pkSKaSaNM",
        "outputId": "95172847-5078-40e1-bb99-406f9a8a8078"
      },
      "execution_count": 144,
      "outputs": [
        {
          "output_type": "stream",
          "name": "stderr",
          "text": [
            "/usr/local/lib/python3.7/dist-packages/ipykernel_launcher.py:2: SettingWithCopyWarning: \n",
            "A value is trying to be set on a copy of a slice from a DataFrame\n",
            "\n",
            "See the caveats in the documentation: https://pandas.pydata.org/pandas-docs/stable/user_guide/indexing.html#returning-a-view-versus-a-copy\n",
            "  \n"
          ]
        }
      ]
    },
    {
      "cell_type": "code",
      "source": [
        "sum(Data.isna().sum() == 0)"
      ],
      "metadata": {
        "colab": {
          "base_uri": "https://localhost:8080/"
        },
        "id": "PWMyrgQ_XbM8",
        "outputId": "3f0a8890-d721-4aca-d69d-013b75514acb"
      },
      "execution_count": 145,
      "outputs": [
        {
          "output_type": "execute_result",
          "data": {
            "text/plain": [
              "33"
            ]
          },
          "metadata": {},
          "execution_count": 145
        }
      ]
    },
    {
      "cell_type": "code",
      "source": [
        "Data['paid'].value_counts()"
      ],
      "metadata": {
        "colab": {
          "base_uri": "https://localhost:8080/"
        },
        "id": "NWvulw93KQCe",
        "outputId": "474e0a78-36f9-46fd-ddf9-f7d9717c53e7"
      },
      "execution_count": 146,
      "outputs": [
        {
          "output_type": "execute_result",
          "data": {
            "text/plain": [
              "no     608\n",
              "yes     39\n",
              "No       2\n",
              "Name: paid, dtype: int64"
            ]
          },
          "metadata": {},
          "execution_count": 146
        }
      ]
    },
    {
      "cell_type": "code",
      "source": [],
      "metadata": {
        "id": "NlIVnQBsKV7w"
      },
      "execution_count": 146,
      "outputs": []
    },
    {
      "cell_type": "code",
      "source": [],
      "metadata": {
        "id": "Ua4dC-rEKT8L"
      },
      "execution_count": 146,
      "outputs": []
    },
    {
      "cell_type": "code",
      "source": [],
      "metadata": {
        "id": "Jf5Uu6hVKSUu"
      },
      "execution_count": 146,
      "outputs": []
    },
    {
      "cell_type": "markdown",
      "source": [
        "## Datos duplicados"
      ],
      "metadata": {
        "id": "YMrKEHgRYD4J"
      }
    },
    {
      "cell_type": "code",
      "source": [
        "Data.duplicated().sum()"
      ],
      "metadata": {
        "colab": {
          "base_uri": "https://localhost:8080/"
        },
        "id": "DBmBcAmJYGXd",
        "outputId": "45f588df-67ab-444b-bf3a-70d0f3de9c74"
      },
      "execution_count": 147,
      "outputs": [
        {
          "output_type": "execute_result",
          "data": {
            "text/plain": [
              "0"
            ]
          },
          "metadata": {},
          "execution_count": 147
        }
      ]
    },
    {
      "cell_type": "code",
      "source": [
        "Data['paid'].value_counts()"
      ],
      "metadata": {
        "colab": {
          "base_uri": "https://localhost:8080/"
        },
        "id": "5jnA_4epKpnT",
        "outputId": "ba84cce6-9122-4183-bec5-4cd1a0009368"
      },
      "execution_count": 148,
      "outputs": [
        {
          "output_type": "execute_result",
          "data": {
            "text/plain": [
              "no     608\n",
              "yes     39\n",
              "No       2\n",
              "Name: paid, dtype: int64"
            ]
          },
          "metadata": {},
          "execution_count": 148
        }
      ]
    },
    {
      "cell_type": "code",
      "source": [],
      "metadata": {
        "id": "OIYjs8tlKvyR"
      },
      "execution_count": 148,
      "outputs": []
    },
    {
      "cell_type": "code",
      "source": [],
      "metadata": {
        "id": "knAW2vOrKtfk"
      },
      "execution_count": 148,
      "outputs": []
    },
    {
      "cell_type": "markdown",
      "source": [
        "No se tiene información duplicada."
      ],
      "metadata": {
        "id": "ROFn9o6R55_4"
      }
    },
    {
      "cell_type": "markdown",
      "source": [
        "## Consistencia de datos"
      ],
      "metadata": {
        "id": "uOt8zUZUY8Mz"
      }
    },
    {
      "cell_type": "code",
      "source": [
        "Cualitativas = ['school', 'traveltime', 'studytime', 'failures',  'sex',  'address', 'famsize', 'Pstatus', 'Medu', 'Fedu',\n",
        "       'Mjob', 'Fjob', 'reason', 'guardian', 'schoolsup', 'famsup', 'paid', 'activities', 'nursery',\n",
        "       'higher', 'internet','romantic','famrel','freetime', 'goout', 'Dalc', 'Walc', 'health']"
      ],
      "metadata": {
        "id": "Z-FHRbTTZupB"
      },
      "execution_count": 149,
      "outputs": []
    },
    {
      "cell_type": "code",
      "source": [
        "Cuantitativas = ['age','absences', 'G1', 'G2', 'G3']"
      ],
      "metadata": {
        "id": "kW3sSxnacFol"
      },
      "execution_count": 150,
      "outputs": []
    },
    {
      "cell_type": "markdown",
      "source": [
        "### Variables cuantitativas"
      ],
      "metadata": {
        "id": "KnoIWC-Se66p"
      }
    },
    {
      "cell_type": "code",
      "source": [
        "Data.loc[:, Cuantitativas].describe()"
      ],
      "metadata": {
        "colab": {
          "base_uri": "https://localhost:8080/",
          "height": 300
        },
        "id": "zOk_AWOGdw-r",
        "outputId": "49941e06-4d81-48c0-d1be-ff884f014e5a"
      },
      "execution_count": 151,
      "outputs": [
        {
          "output_type": "execute_result",
          "data": {
            "text/plain": [
              "              age    absences          G1          G2          G3\n",
              "count  649.000000  649.000000  649.000000  649.000000  649.000000\n",
              "mean    16.744222    3.659476   11.414484   11.570108   11.952234\n",
              "std      1.218138    4.640759    2.793153    2.913639    3.358130\n",
              "min     15.000000    0.000000    0.000000    0.000000    0.000000\n",
              "25%     16.000000    0.000000   10.000000   10.000000   10.000000\n",
              "50%     17.000000    2.000000   11.000000   11.000000   12.000000\n",
              "75%     18.000000    6.000000   13.000000   13.000000   14.000000\n",
              "max     22.000000   32.000000   25.000000   19.000000   36.000000"
            ],
            "text/html": [
              "\n",
              "  <div id=\"df-0445a2fb-f9fc-4890-ab4d-86cdb61c9a7f\">\n",
              "    <div class=\"colab-df-container\">\n",
              "      <div>\n",
              "<style scoped>\n",
              "    .dataframe tbody tr th:only-of-type {\n",
              "        vertical-align: middle;\n",
              "    }\n",
              "\n",
              "    .dataframe tbody tr th {\n",
              "        vertical-align: top;\n",
              "    }\n",
              "\n",
              "    .dataframe thead th {\n",
              "        text-align: right;\n",
              "    }\n",
              "</style>\n",
              "<table border=\"1\" class=\"dataframe\">\n",
              "  <thead>\n",
              "    <tr style=\"text-align: right;\">\n",
              "      <th></th>\n",
              "      <th>age</th>\n",
              "      <th>absences</th>\n",
              "      <th>G1</th>\n",
              "      <th>G2</th>\n",
              "      <th>G3</th>\n",
              "    </tr>\n",
              "  </thead>\n",
              "  <tbody>\n",
              "    <tr>\n",
              "      <th>count</th>\n",
              "      <td>649.000000</td>\n",
              "      <td>649.000000</td>\n",
              "      <td>649.000000</td>\n",
              "      <td>649.000000</td>\n",
              "      <td>649.000000</td>\n",
              "    </tr>\n",
              "    <tr>\n",
              "      <th>mean</th>\n",
              "      <td>16.744222</td>\n",
              "      <td>3.659476</td>\n",
              "      <td>11.414484</td>\n",
              "      <td>11.570108</td>\n",
              "      <td>11.952234</td>\n",
              "    </tr>\n",
              "    <tr>\n",
              "      <th>std</th>\n",
              "      <td>1.218138</td>\n",
              "      <td>4.640759</td>\n",
              "      <td>2.793153</td>\n",
              "      <td>2.913639</td>\n",
              "      <td>3.358130</td>\n",
              "    </tr>\n",
              "    <tr>\n",
              "      <th>min</th>\n",
              "      <td>15.000000</td>\n",
              "      <td>0.000000</td>\n",
              "      <td>0.000000</td>\n",
              "      <td>0.000000</td>\n",
              "      <td>0.000000</td>\n",
              "    </tr>\n",
              "    <tr>\n",
              "      <th>25%</th>\n",
              "      <td>16.000000</td>\n",
              "      <td>0.000000</td>\n",
              "      <td>10.000000</td>\n",
              "      <td>10.000000</td>\n",
              "      <td>10.000000</td>\n",
              "    </tr>\n",
              "    <tr>\n",
              "      <th>50%</th>\n",
              "      <td>17.000000</td>\n",
              "      <td>2.000000</td>\n",
              "      <td>11.000000</td>\n",
              "      <td>11.000000</td>\n",
              "      <td>12.000000</td>\n",
              "    </tr>\n",
              "    <tr>\n",
              "      <th>75%</th>\n",
              "      <td>18.000000</td>\n",
              "      <td>6.000000</td>\n",
              "      <td>13.000000</td>\n",
              "      <td>13.000000</td>\n",
              "      <td>14.000000</td>\n",
              "    </tr>\n",
              "    <tr>\n",
              "      <th>max</th>\n",
              "      <td>22.000000</td>\n",
              "      <td>32.000000</td>\n",
              "      <td>25.000000</td>\n",
              "      <td>19.000000</td>\n",
              "      <td>36.000000</td>\n",
              "    </tr>\n",
              "  </tbody>\n",
              "</table>\n",
              "</div>\n",
              "      <button class=\"colab-df-convert\" onclick=\"convertToInteractive('df-0445a2fb-f9fc-4890-ab4d-86cdb61c9a7f')\"\n",
              "              title=\"Convert this dataframe to an interactive table.\"\n",
              "              style=\"display:none;\">\n",
              "        \n",
              "  <svg xmlns=\"http://www.w3.org/2000/svg\" height=\"24px\"viewBox=\"0 0 24 24\"\n",
              "       width=\"24px\">\n",
              "    <path d=\"M0 0h24v24H0V0z\" fill=\"none\"/>\n",
              "    <path d=\"M18.56 5.44l.94 2.06.94-2.06 2.06-.94-2.06-.94-.94-2.06-.94 2.06-2.06.94zm-11 1L8.5 8.5l.94-2.06 2.06-.94-2.06-.94L8.5 2.5l-.94 2.06-2.06.94zm10 10l.94 2.06.94-2.06 2.06-.94-2.06-.94-.94-2.06-.94 2.06-2.06.94z\"/><path d=\"M17.41 7.96l-1.37-1.37c-.4-.4-.92-.59-1.43-.59-.52 0-1.04.2-1.43.59L10.3 9.45l-7.72 7.72c-.78.78-.78 2.05 0 2.83L4 21.41c.39.39.9.59 1.41.59.51 0 1.02-.2 1.41-.59l7.78-7.78 2.81-2.81c.8-.78.8-2.07 0-2.86zM5.41 20L4 18.59l7.72-7.72 1.47 1.35L5.41 20z\"/>\n",
              "  </svg>\n",
              "      </button>\n",
              "      \n",
              "  <style>\n",
              "    .colab-df-container {\n",
              "      display:flex;\n",
              "      flex-wrap:wrap;\n",
              "      gap: 12px;\n",
              "    }\n",
              "\n",
              "    .colab-df-convert {\n",
              "      background-color: #E8F0FE;\n",
              "      border: none;\n",
              "      border-radius: 50%;\n",
              "      cursor: pointer;\n",
              "      display: none;\n",
              "      fill: #1967D2;\n",
              "      height: 32px;\n",
              "      padding: 0 0 0 0;\n",
              "      width: 32px;\n",
              "    }\n",
              "\n",
              "    .colab-df-convert:hover {\n",
              "      background-color: #E2EBFA;\n",
              "      box-shadow: 0px 1px 2px rgba(60, 64, 67, 0.3), 0px 1px 3px 1px rgba(60, 64, 67, 0.15);\n",
              "      fill: #174EA6;\n",
              "    }\n",
              "\n",
              "    [theme=dark] .colab-df-convert {\n",
              "      background-color: #3B4455;\n",
              "      fill: #D2E3FC;\n",
              "    }\n",
              "\n",
              "    [theme=dark] .colab-df-convert:hover {\n",
              "      background-color: #434B5C;\n",
              "      box-shadow: 0px 1px 3px 1px rgba(0, 0, 0, 0.15);\n",
              "      filter: drop-shadow(0px 1px 2px rgba(0, 0, 0, 0.3));\n",
              "      fill: #FFFFFF;\n",
              "    }\n",
              "  </style>\n",
              "\n",
              "      <script>\n",
              "        const buttonEl =\n",
              "          document.querySelector('#df-0445a2fb-f9fc-4890-ab4d-86cdb61c9a7f button.colab-df-convert');\n",
              "        buttonEl.style.display =\n",
              "          google.colab.kernel.accessAllowed ? 'block' : 'none';\n",
              "\n",
              "        async function convertToInteractive(key) {\n",
              "          const element = document.querySelector('#df-0445a2fb-f9fc-4890-ab4d-86cdb61c9a7f');\n",
              "          const dataTable =\n",
              "            await google.colab.kernel.invokeFunction('convertToInteractive',\n",
              "                                                     [key], {});\n",
              "          if (!dataTable) return;\n",
              "\n",
              "          const docLinkHtml = 'Like what you see? Visit the ' +\n",
              "            '<a target=\"_blank\" href=https://colab.research.google.com/notebooks/data_table.ipynb>data table notebook</a>'\n",
              "            + ' to learn more about interactive tables.';\n",
              "          element.innerHTML = '';\n",
              "          dataTable['output_type'] = 'display_data';\n",
              "          await google.colab.output.renderOutput(dataTable, element);\n",
              "          const docLink = document.createElement('div');\n",
              "          docLink.innerHTML = docLinkHtml;\n",
              "          element.appendChild(docLink);\n",
              "        }\n",
              "      </script>\n",
              "    </div>\n",
              "  </div>\n",
              "  "
            ]
          },
          "metadata": {},
          "execution_count": 151
        }
      ]
    },
    {
      "cell_type": "code",
      "source": [
        "(Data['G3'] > 20).sum()"
      ],
      "metadata": {
        "colab": {
          "base_uri": "https://localhost:8080/"
        },
        "id": "cmts4hA4eo03",
        "outputId": "e1effc84-4724-45ca-928d-da2fc6a62d8a"
      },
      "execution_count": 152,
      "outputs": [
        {
          "output_type": "execute_result",
          "data": {
            "text/plain": [
              "1"
            ]
          },
          "metadata": {},
          "execution_count": 152
        }
      ]
    },
    {
      "cell_type": "code",
      "source": [
        "Data[(Data['G3'] > 20)]"
      ],
      "metadata": {
        "colab": {
          "base_uri": "https://localhost:8080/",
          "height": 145
        },
        "id": "gDB-xaZQxlP5",
        "outputId": "5e1aa305-73d3-4083-debf-8269b407c9c6"
      },
      "execution_count": 153,
      "outputs": [
        {
          "output_type": "execute_result",
          "data": {
            "text/plain": [
              "    school sex  age address famsize Pstatus  Medu  Fedu   Mjob   Fjob reason  \\\n",
              "155     GP   M   17       U     GT3       T     2     1  other  other   home   \n",
              "\n",
              "    guardian  traveltime  studytime  failures schoolsup famsup paid  \\\n",
              "155   mother           1          1         0        no    yes   no   \n",
              "\n",
              "    activities nursery higher internet romantic  famrel  freetime  goout  \\\n",
              "155         no     yes    yes      yes       no       5         4      5   \n",
              "\n",
              "     Dalc  Walc  health  absences  G1  G2  G3  \n",
              "155     1     2       5        22   9   7  36  "
            ],
            "text/html": [
              "\n",
              "  <div id=\"df-3b3da9fa-b570-4cc2-9e73-247cf23c3aab\">\n",
              "    <div class=\"colab-df-container\">\n",
              "      <div>\n",
              "<style scoped>\n",
              "    .dataframe tbody tr th:only-of-type {\n",
              "        vertical-align: middle;\n",
              "    }\n",
              "\n",
              "    .dataframe tbody tr th {\n",
              "        vertical-align: top;\n",
              "    }\n",
              "\n",
              "    .dataframe thead th {\n",
              "        text-align: right;\n",
              "    }\n",
              "</style>\n",
              "<table border=\"1\" class=\"dataframe\">\n",
              "  <thead>\n",
              "    <tr style=\"text-align: right;\">\n",
              "      <th></th>\n",
              "      <th>school</th>\n",
              "      <th>sex</th>\n",
              "      <th>age</th>\n",
              "      <th>address</th>\n",
              "      <th>famsize</th>\n",
              "      <th>Pstatus</th>\n",
              "      <th>Medu</th>\n",
              "      <th>Fedu</th>\n",
              "      <th>Mjob</th>\n",
              "      <th>Fjob</th>\n",
              "      <th>reason</th>\n",
              "      <th>guardian</th>\n",
              "      <th>traveltime</th>\n",
              "      <th>studytime</th>\n",
              "      <th>failures</th>\n",
              "      <th>schoolsup</th>\n",
              "      <th>famsup</th>\n",
              "      <th>paid</th>\n",
              "      <th>activities</th>\n",
              "      <th>nursery</th>\n",
              "      <th>higher</th>\n",
              "      <th>internet</th>\n",
              "      <th>romantic</th>\n",
              "      <th>famrel</th>\n",
              "      <th>freetime</th>\n",
              "      <th>goout</th>\n",
              "      <th>Dalc</th>\n",
              "      <th>Walc</th>\n",
              "      <th>health</th>\n",
              "      <th>absences</th>\n",
              "      <th>G1</th>\n",
              "      <th>G2</th>\n",
              "      <th>G3</th>\n",
              "    </tr>\n",
              "  </thead>\n",
              "  <tbody>\n",
              "    <tr>\n",
              "      <th>155</th>\n",
              "      <td>GP</td>\n",
              "      <td>M</td>\n",
              "      <td>17</td>\n",
              "      <td>U</td>\n",
              "      <td>GT3</td>\n",
              "      <td>T</td>\n",
              "      <td>2</td>\n",
              "      <td>1</td>\n",
              "      <td>other</td>\n",
              "      <td>other</td>\n",
              "      <td>home</td>\n",
              "      <td>mother</td>\n",
              "      <td>1</td>\n",
              "      <td>1</td>\n",
              "      <td>0</td>\n",
              "      <td>no</td>\n",
              "      <td>yes</td>\n",
              "      <td>no</td>\n",
              "      <td>no</td>\n",
              "      <td>yes</td>\n",
              "      <td>yes</td>\n",
              "      <td>yes</td>\n",
              "      <td>no</td>\n",
              "      <td>5</td>\n",
              "      <td>4</td>\n",
              "      <td>5</td>\n",
              "      <td>1</td>\n",
              "      <td>2</td>\n",
              "      <td>5</td>\n",
              "      <td>22</td>\n",
              "      <td>9</td>\n",
              "      <td>7</td>\n",
              "      <td>36</td>\n",
              "    </tr>\n",
              "  </tbody>\n",
              "</table>\n",
              "</div>\n",
              "      <button class=\"colab-df-convert\" onclick=\"convertToInteractive('df-3b3da9fa-b570-4cc2-9e73-247cf23c3aab')\"\n",
              "              title=\"Convert this dataframe to an interactive table.\"\n",
              "              style=\"display:none;\">\n",
              "        \n",
              "  <svg xmlns=\"http://www.w3.org/2000/svg\" height=\"24px\"viewBox=\"0 0 24 24\"\n",
              "       width=\"24px\">\n",
              "    <path d=\"M0 0h24v24H0V0z\" fill=\"none\"/>\n",
              "    <path d=\"M18.56 5.44l.94 2.06.94-2.06 2.06-.94-2.06-.94-.94-2.06-.94 2.06-2.06.94zm-11 1L8.5 8.5l.94-2.06 2.06-.94-2.06-.94L8.5 2.5l-.94 2.06-2.06.94zm10 10l.94 2.06.94-2.06 2.06-.94-2.06-.94-.94-2.06-.94 2.06-2.06.94z\"/><path d=\"M17.41 7.96l-1.37-1.37c-.4-.4-.92-.59-1.43-.59-.52 0-1.04.2-1.43.59L10.3 9.45l-7.72 7.72c-.78.78-.78 2.05 0 2.83L4 21.41c.39.39.9.59 1.41.59.51 0 1.02-.2 1.41-.59l7.78-7.78 2.81-2.81c.8-.78.8-2.07 0-2.86zM5.41 20L4 18.59l7.72-7.72 1.47 1.35L5.41 20z\"/>\n",
              "  </svg>\n",
              "      </button>\n",
              "      \n",
              "  <style>\n",
              "    .colab-df-container {\n",
              "      display:flex;\n",
              "      flex-wrap:wrap;\n",
              "      gap: 12px;\n",
              "    }\n",
              "\n",
              "    .colab-df-convert {\n",
              "      background-color: #E8F0FE;\n",
              "      border: none;\n",
              "      border-radius: 50%;\n",
              "      cursor: pointer;\n",
              "      display: none;\n",
              "      fill: #1967D2;\n",
              "      height: 32px;\n",
              "      padding: 0 0 0 0;\n",
              "      width: 32px;\n",
              "    }\n",
              "\n",
              "    .colab-df-convert:hover {\n",
              "      background-color: #E2EBFA;\n",
              "      box-shadow: 0px 1px 2px rgba(60, 64, 67, 0.3), 0px 1px 3px 1px rgba(60, 64, 67, 0.15);\n",
              "      fill: #174EA6;\n",
              "    }\n",
              "\n",
              "    [theme=dark] .colab-df-convert {\n",
              "      background-color: #3B4455;\n",
              "      fill: #D2E3FC;\n",
              "    }\n",
              "\n",
              "    [theme=dark] .colab-df-convert:hover {\n",
              "      background-color: #434B5C;\n",
              "      box-shadow: 0px 1px 3px 1px rgba(0, 0, 0, 0.15);\n",
              "      filter: drop-shadow(0px 1px 2px rgba(0, 0, 0, 0.3));\n",
              "      fill: #FFFFFF;\n",
              "    }\n",
              "  </style>\n",
              "\n",
              "      <script>\n",
              "        const buttonEl =\n",
              "          document.querySelector('#df-3b3da9fa-b570-4cc2-9e73-247cf23c3aab button.colab-df-convert');\n",
              "        buttonEl.style.display =\n",
              "          google.colab.kernel.accessAllowed ? 'block' : 'none';\n",
              "\n",
              "        async function convertToInteractive(key) {\n",
              "          const element = document.querySelector('#df-3b3da9fa-b570-4cc2-9e73-247cf23c3aab');\n",
              "          const dataTable =\n",
              "            await google.colab.kernel.invokeFunction('convertToInteractive',\n",
              "                                                     [key], {});\n",
              "          if (!dataTable) return;\n",
              "\n",
              "          const docLinkHtml = 'Like what you see? Visit the ' +\n",
              "            '<a target=\"_blank\" href=https://colab.research.google.com/notebooks/data_table.ipynb>data table notebook</a>'\n",
              "            + ' to learn more about interactive tables.';\n",
              "          element.innerHTML = '';\n",
              "          dataTable['output_type'] = 'display_data';\n",
              "          await google.colab.output.renderOutput(dataTable, element);\n",
              "          const docLink = document.createElement('div');\n",
              "          docLink.innerHTML = docLinkHtml;\n",
              "          element.appendChild(docLink);\n",
              "        }\n",
              "      </script>\n",
              "    </div>\n",
              "  </div>\n",
              "  "
            ]
          },
          "metadata": {},
          "execution_count": 153
        }
      ]
    },
    {
      "cell_type": "code",
      "source": [
        "(Data['G1'] > 20).sum()"
      ],
      "metadata": {
        "colab": {
          "base_uri": "https://localhost:8080/"
        },
        "id": "CtwATPIge4RN",
        "outputId": "0492b16f-f2a4-4036-8fcc-9a5275a3076e"
      },
      "execution_count": 154,
      "outputs": [
        {
          "output_type": "execute_result",
          "data": {
            "text/plain": [
              "1"
            ]
          },
          "metadata": {},
          "execution_count": 154
        }
      ]
    },
    {
      "cell_type": "code",
      "source": [
        "Data[(Data['G1'] > 20)]"
      ],
      "metadata": {
        "colab": {
          "base_uri": "https://localhost:8080/",
          "height": 145
        },
        "id": "_OaYdmPqxytz",
        "outputId": "b2e26503-1578-4423-dcc6-253dfb508f26"
      },
      "execution_count": 155,
      "outputs": [
        {
          "output_type": "execute_result",
          "data": {
            "text/plain": [
              "    school sex  age address famsize Pstatus  Medu  Fedu     Mjob      Fjob  \\\n",
              "623     MS   M   18       U     LE3       T     4     4  teacher  services   \n",
              "\n",
              "    reason guardian  traveltime  studytime  failures schoolsup famsup paid  \\\n",
              "623  other   mother           2          3         0        no     no   no   \n",
              "\n",
              "    activities nursery higher internet romantic  famrel  freetime  goout  \\\n",
              "623         no     yes    yes      yes      yes       4         2      2   \n",
              "\n",
              "     Dalc  Walc  health  absences  G1  G2  G3  \n",
              "623     2     2       5         0  25  16  16  "
            ],
            "text/html": [
              "\n",
              "  <div id=\"df-3d3aabb8-47a8-44de-9b40-5852aefc30ba\">\n",
              "    <div class=\"colab-df-container\">\n",
              "      <div>\n",
              "<style scoped>\n",
              "    .dataframe tbody tr th:only-of-type {\n",
              "        vertical-align: middle;\n",
              "    }\n",
              "\n",
              "    .dataframe tbody tr th {\n",
              "        vertical-align: top;\n",
              "    }\n",
              "\n",
              "    .dataframe thead th {\n",
              "        text-align: right;\n",
              "    }\n",
              "</style>\n",
              "<table border=\"1\" class=\"dataframe\">\n",
              "  <thead>\n",
              "    <tr style=\"text-align: right;\">\n",
              "      <th></th>\n",
              "      <th>school</th>\n",
              "      <th>sex</th>\n",
              "      <th>age</th>\n",
              "      <th>address</th>\n",
              "      <th>famsize</th>\n",
              "      <th>Pstatus</th>\n",
              "      <th>Medu</th>\n",
              "      <th>Fedu</th>\n",
              "      <th>Mjob</th>\n",
              "      <th>Fjob</th>\n",
              "      <th>reason</th>\n",
              "      <th>guardian</th>\n",
              "      <th>traveltime</th>\n",
              "      <th>studytime</th>\n",
              "      <th>failures</th>\n",
              "      <th>schoolsup</th>\n",
              "      <th>famsup</th>\n",
              "      <th>paid</th>\n",
              "      <th>activities</th>\n",
              "      <th>nursery</th>\n",
              "      <th>higher</th>\n",
              "      <th>internet</th>\n",
              "      <th>romantic</th>\n",
              "      <th>famrel</th>\n",
              "      <th>freetime</th>\n",
              "      <th>goout</th>\n",
              "      <th>Dalc</th>\n",
              "      <th>Walc</th>\n",
              "      <th>health</th>\n",
              "      <th>absences</th>\n",
              "      <th>G1</th>\n",
              "      <th>G2</th>\n",
              "      <th>G3</th>\n",
              "    </tr>\n",
              "  </thead>\n",
              "  <tbody>\n",
              "    <tr>\n",
              "      <th>623</th>\n",
              "      <td>MS</td>\n",
              "      <td>M</td>\n",
              "      <td>18</td>\n",
              "      <td>U</td>\n",
              "      <td>LE3</td>\n",
              "      <td>T</td>\n",
              "      <td>4</td>\n",
              "      <td>4</td>\n",
              "      <td>teacher</td>\n",
              "      <td>services</td>\n",
              "      <td>other</td>\n",
              "      <td>mother</td>\n",
              "      <td>2</td>\n",
              "      <td>3</td>\n",
              "      <td>0</td>\n",
              "      <td>no</td>\n",
              "      <td>no</td>\n",
              "      <td>no</td>\n",
              "      <td>no</td>\n",
              "      <td>yes</td>\n",
              "      <td>yes</td>\n",
              "      <td>yes</td>\n",
              "      <td>yes</td>\n",
              "      <td>4</td>\n",
              "      <td>2</td>\n",
              "      <td>2</td>\n",
              "      <td>2</td>\n",
              "      <td>2</td>\n",
              "      <td>5</td>\n",
              "      <td>0</td>\n",
              "      <td>25</td>\n",
              "      <td>16</td>\n",
              "      <td>16</td>\n",
              "    </tr>\n",
              "  </tbody>\n",
              "</table>\n",
              "</div>\n",
              "      <button class=\"colab-df-convert\" onclick=\"convertToInteractive('df-3d3aabb8-47a8-44de-9b40-5852aefc30ba')\"\n",
              "              title=\"Convert this dataframe to an interactive table.\"\n",
              "              style=\"display:none;\">\n",
              "        \n",
              "  <svg xmlns=\"http://www.w3.org/2000/svg\" height=\"24px\"viewBox=\"0 0 24 24\"\n",
              "       width=\"24px\">\n",
              "    <path d=\"M0 0h24v24H0V0z\" fill=\"none\"/>\n",
              "    <path d=\"M18.56 5.44l.94 2.06.94-2.06 2.06-.94-2.06-.94-.94-2.06-.94 2.06-2.06.94zm-11 1L8.5 8.5l.94-2.06 2.06-.94-2.06-.94L8.5 2.5l-.94 2.06-2.06.94zm10 10l.94 2.06.94-2.06 2.06-.94-2.06-.94-.94-2.06-.94 2.06-2.06.94z\"/><path d=\"M17.41 7.96l-1.37-1.37c-.4-.4-.92-.59-1.43-.59-.52 0-1.04.2-1.43.59L10.3 9.45l-7.72 7.72c-.78.78-.78 2.05 0 2.83L4 21.41c.39.39.9.59 1.41.59.51 0 1.02-.2 1.41-.59l7.78-7.78 2.81-2.81c.8-.78.8-2.07 0-2.86zM5.41 20L4 18.59l7.72-7.72 1.47 1.35L5.41 20z\"/>\n",
              "  </svg>\n",
              "      </button>\n",
              "      \n",
              "  <style>\n",
              "    .colab-df-container {\n",
              "      display:flex;\n",
              "      flex-wrap:wrap;\n",
              "      gap: 12px;\n",
              "    }\n",
              "\n",
              "    .colab-df-convert {\n",
              "      background-color: #E8F0FE;\n",
              "      border: none;\n",
              "      border-radius: 50%;\n",
              "      cursor: pointer;\n",
              "      display: none;\n",
              "      fill: #1967D2;\n",
              "      height: 32px;\n",
              "      padding: 0 0 0 0;\n",
              "      width: 32px;\n",
              "    }\n",
              "\n",
              "    .colab-df-convert:hover {\n",
              "      background-color: #E2EBFA;\n",
              "      box-shadow: 0px 1px 2px rgba(60, 64, 67, 0.3), 0px 1px 3px 1px rgba(60, 64, 67, 0.15);\n",
              "      fill: #174EA6;\n",
              "    }\n",
              "\n",
              "    [theme=dark] .colab-df-convert {\n",
              "      background-color: #3B4455;\n",
              "      fill: #D2E3FC;\n",
              "    }\n",
              "\n",
              "    [theme=dark] .colab-df-convert:hover {\n",
              "      background-color: #434B5C;\n",
              "      box-shadow: 0px 1px 3px 1px rgba(0, 0, 0, 0.15);\n",
              "      filter: drop-shadow(0px 1px 2px rgba(0, 0, 0, 0.3));\n",
              "      fill: #FFFFFF;\n",
              "    }\n",
              "  </style>\n",
              "\n",
              "      <script>\n",
              "        const buttonEl =\n",
              "          document.querySelector('#df-3d3aabb8-47a8-44de-9b40-5852aefc30ba button.colab-df-convert');\n",
              "        buttonEl.style.display =\n",
              "          google.colab.kernel.accessAllowed ? 'block' : 'none';\n",
              "\n",
              "        async function convertToInteractive(key) {\n",
              "          const element = document.querySelector('#df-3d3aabb8-47a8-44de-9b40-5852aefc30ba');\n",
              "          const dataTable =\n",
              "            await google.colab.kernel.invokeFunction('convertToInteractive',\n",
              "                                                     [key], {});\n",
              "          if (!dataTable) return;\n",
              "\n",
              "          const docLinkHtml = 'Like what you see? Visit the ' +\n",
              "            '<a target=\"_blank\" href=https://colab.research.google.com/notebooks/data_table.ipynb>data table notebook</a>'\n",
              "            + ' to learn more about interactive tables.';\n",
              "          element.innerHTML = '';\n",
              "          dataTable['output_type'] = 'display_data';\n",
              "          await google.colab.output.renderOutput(dataTable, element);\n",
              "          const docLink = document.createElement('div');\n",
              "          docLink.innerHTML = docLinkHtml;\n",
              "          element.appendChild(docLink);\n",
              "        }\n",
              "      </script>\n",
              "    </div>\n",
              "  </div>\n",
              "  "
            ]
          },
          "metadata": {},
          "execution_count": 155
        }
      ]
    },
    {
      "cell_type": "markdown",
      "source": [
        "No pueden existir notas por fuera del intervalo $[0,20]$, sin embargo, posiblemente por un error de digitación se encontro que existen dos individuos que tienen una nota superior a $20$. Por lo tanto, se borran estos dos individuos de la base de datos."
      ],
      "metadata": {
        "id": "hZNlxESbwQ6N"
      }
    },
    {
      "cell_type": "code",
      "source": [
        "Data = Data.drop([155, 623])"
      ],
      "metadata": {
        "id": "P9LT4JOIwknZ"
      },
      "execution_count": 156,
      "outputs": []
    },
    {
      "cell_type": "code",
      "source": [
        "n = Data.shape[0]"
      ],
      "metadata": {
        "id": "0LTgouttyeK0"
      },
      "execution_count": 157,
      "outputs": []
    },
    {
      "cell_type": "code",
      "source": [
        "print('Rendimiento Portugues')\n",
        "print('Individuos:', n)\n",
        "print('Variables:', Data.shape[1])"
      ],
      "metadata": {
        "colab": {
          "base_uri": "https://localhost:8080/"
        },
        "id": "aoFvtSKRdDpK",
        "outputId": "cef27f9e-f708-4441-f0b4-1e8ad022de4e"
      },
      "execution_count": 158,
      "outputs": [
        {
          "output_type": "stream",
          "name": "stdout",
          "text": [
            "Rendimiento Portugues\n",
            "Individuos: 647\n",
            "Variables: 33\n"
          ]
        }
      ]
    },
    {
      "cell_type": "markdown",
      "source": [
        "### Variables cualitativas\n",
        "\n",
        "Dado que algunas variable cualitativas se encuentran errores de digitación, como, por ejemplo, escribir una misma modalidad con y sin mayuscula, se corrigue este problema reescribiendo las modalidades en caso de ser necesario."
      ],
      "metadata": {
        "id": "skWP1iCsyxus"
      }
    },
    {
      "cell_type": "code",
      "source": [
        "len(Cualitativas)"
      ],
      "metadata": {
        "colab": {
          "base_uri": "https://localhost:8080/"
        },
        "id": "YU8EmwfZzBrS",
        "outputId": "e407f87e-6cc3-41e5-acaf-0592cd6f74bb"
      },
      "execution_count": 159,
      "outputs": [
        {
          "output_type": "execute_result",
          "data": {
            "text/plain": [
              "28"
            ]
          },
          "metadata": {},
          "execution_count": 159
        }
      ]
    },
    {
      "cell_type": "code",
      "source": [
        "for i in range(28):\n",
        "  print(Data[Cualitativas[i]].value_counts())"
      ],
      "metadata": {
        "colab": {
          "base_uri": "https://localhost:8080/"
        },
        "id": "Ymka7WEDy6mh",
        "outputId": "8508b69a-69c0-47fe-8522-af33c9a5d524"
      },
      "execution_count": 160,
      "outputs": [
        {
          "output_type": "stream",
          "name": "stdout",
          "text": [
            "GP    422\n",
            "MS    225\n",
            "Name: school, dtype: int64\n",
            "1    365\n",
            "2    212\n",
            "3     54\n",
            "4     16\n",
            "Name: traveltime, dtype: int64\n",
            "2    305\n",
            "1    211\n",
            "3     96\n",
            "4     35\n",
            "Name: studytime, dtype: int64\n",
            "0    547\n",
            "1     70\n",
            "2     16\n",
            "3     14\n",
            "Name: failures, dtype: int64\n",
            "F    384\n",
            "M    263\n",
            "Name: sex, dtype: int64\n",
            "U    450\n",
            "R    197\n",
            "Name: address, dtype: int64\n",
            "GT3    456\n",
            "LE3    191\n",
            "Name: famsize, dtype: int64\n",
            "T    567\n",
            "A     79\n",
            "B      1\n",
            "Name: Pstatus, dtype: int64\n",
            "2    185\n",
            "4    174\n",
            "1    143\n",
            "3    139\n",
            "0      6\n",
            "Name: Medu, dtype: int64\n",
            "2    209\n",
            "1    173\n",
            "3    131\n",
            "4    127\n",
            "0      7\n",
            "Name: Fedu, dtype: int64\n",
            "other       257\n",
            "services    136\n",
            "at_home     135\n",
            "teacher      71\n",
            "health       48\n",
            "Name: Mjob, dtype: int64\n",
            "other       367\n",
            "services    179\n",
            "at_home      42\n",
            "teacher      36\n",
            "health       23\n",
            "Name: Fjob, dtype: int64\n",
            "course        285\n",
            "home          148\n",
            "reputation    143\n",
            "other          71\n",
            "Name: reason, dtype: int64\n",
            "mother    454\n",
            "father    153\n",
            "other      40\n",
            "Name: guardian, dtype: int64\n",
            "no     578\n",
            "yes     67\n",
            "Yes      1\n",
            "No       1\n",
            "Name: schoolsup, dtype: int64\n",
            "yes    398\n",
            "no     249\n",
            "Name: famsup, dtype: int64\n",
            "no     606\n",
            "yes     39\n",
            "No       2\n",
            "Name: paid, dtype: int64\n",
            "no     331\n",
            "yes    314\n",
            "Yes      1\n",
            "No       1\n",
            "Name: activities, dtype: int64\n",
            "yes    520\n",
            "no     126\n",
            "No       1\n",
            "Name: nursery, dtype: int64\n",
            "yes    578\n",
            "no      69\n",
            "Name: higher, dtype: int64\n",
            "yes    495\n",
            "no     151\n",
            "Yes      1\n",
            "Name: internet, dtype: int64\n",
            "no     408\n",
            "yes    238\n",
            "No       1\n",
            "Name: romantic, dtype: int64\n",
            "4    316\n",
            "5    179\n",
            "3    101\n",
            "2     29\n",
            "1     22\n",
            "Name: famrel, dtype: int64\n",
            "3    251\n",
            "4    177\n",
            "2    106\n",
            "5     68\n",
            "1     45\n",
            "Name: freetime, dtype: int64\n",
            "3    205\n",
            "2    144\n",
            "4    141\n",
            "5    109\n",
            "1     48\n",
            "Name: goout, dtype: int64\n",
            "1    450\n",
            "2    120\n",
            "3     43\n",
            "5     17\n",
            "4     17\n",
            "Name: Dalc, dtype: int64\n",
            "1    247\n",
            "2    148\n",
            "3    120\n",
            "4     87\n",
            "5     45\n",
            "Name: Walc, dtype: int64\n",
            "5    247\n",
            "3    124\n",
            "4    108\n",
            "1     90\n",
            "2     78\n",
            "Name: health, dtype: int64\n"
          ]
        }
      ]
    },
    {
      "cell_type": "code",
      "source": [
        "Data['Pstatus'].value_counts()\n",
        "Data[Data['Pstatus'] == 'B']\n",
        "Data = Data.drop(67)\n",
        "Data['schoolsup'].value_counts()\n",
        "Data['schoolsup'][Data['schoolsup'] == 'Yes'] = 'yes'\n",
        "Data['schoolsup'][Data['schoolsup'] == 'No'] = 'no'\n",
        "Data['schoolsup'].value_counts()\n",
        "Data['paid'].value_counts()\n",
        "Data['paid'][Data['paid'] == 'No'] = 'no'\n",
        "Data['paid'].value_counts()\n",
        "Data['activities'].value_counts()\n",
        "Data['activities'][Data['activities'] == 'No'] = 'no'\n",
        "Data['activities'][Data['activities'] == 'Yes'] = 'yes'\n",
        "Data['activities'].value_counts()\n",
        "Data['nursery'].value_counts()\n",
        "Data['nursery'][Data['nursery'] == 'No'] = 'no'\n",
        "Data['nursery'].value_counts()\n",
        "Data['internet'].value_counts()\n",
        "Data['internet'][Data['internet'] == 'Yes'] = 'yes'\n",
        "Data['romantic'].value_counts()\n",
        "Data['romantic'][Data['romantic'] == 'No'] = 'no'\n",
        "Data['romantic'].value_counts"
      ],
      "metadata": {
        "id": "8ij4rNZ3zQ6u",
        "colab": {
          "base_uri": "https://localhost:8080/"
        },
        "outputId": "d6e6ef28-fc12-40a6-e31d-4eb69b21f74a"
      },
      "execution_count": 161,
      "outputs": [
        {
          "output_type": "stream",
          "name": "stderr",
          "text": [
            "/usr/local/lib/python3.7/dist-packages/ipykernel_launcher.py:5: SettingWithCopyWarning: \n",
            "A value is trying to be set on a copy of a slice from a DataFrame\n",
            "\n",
            "See the caveats in the documentation: https://pandas.pydata.org/pandas-docs/stable/user_guide/indexing.html#returning-a-view-versus-a-copy\n",
            "  \"\"\"\n",
            "/usr/local/lib/python3.7/dist-packages/ipykernel_launcher.py:6: SettingWithCopyWarning: \n",
            "A value is trying to be set on a copy of a slice from a DataFrame\n",
            "\n",
            "See the caveats in the documentation: https://pandas.pydata.org/pandas-docs/stable/user_guide/indexing.html#returning-a-view-versus-a-copy\n",
            "  \n",
            "/usr/local/lib/python3.7/dist-packages/ipykernel_launcher.py:9: SettingWithCopyWarning: \n",
            "A value is trying to be set on a copy of a slice from a DataFrame\n",
            "\n",
            "See the caveats in the documentation: https://pandas.pydata.org/pandas-docs/stable/user_guide/indexing.html#returning-a-view-versus-a-copy\n",
            "  if __name__ == '__main__':\n",
            "/usr/local/lib/python3.7/dist-packages/ipykernel_launcher.py:12: SettingWithCopyWarning: \n",
            "A value is trying to be set on a copy of a slice from a DataFrame\n",
            "\n",
            "See the caveats in the documentation: https://pandas.pydata.org/pandas-docs/stable/user_guide/indexing.html#returning-a-view-versus-a-copy\n",
            "  if sys.path[0] == '':\n",
            "/usr/local/lib/python3.7/dist-packages/ipykernel_launcher.py:13: SettingWithCopyWarning: \n",
            "A value is trying to be set on a copy of a slice from a DataFrame\n",
            "\n",
            "See the caveats in the documentation: https://pandas.pydata.org/pandas-docs/stable/user_guide/indexing.html#returning-a-view-versus-a-copy\n",
            "  del sys.path[0]\n",
            "/usr/local/lib/python3.7/dist-packages/ipykernel_launcher.py:16: SettingWithCopyWarning: \n",
            "A value is trying to be set on a copy of a slice from a DataFrame\n",
            "\n",
            "See the caveats in the documentation: https://pandas.pydata.org/pandas-docs/stable/user_guide/indexing.html#returning-a-view-versus-a-copy\n",
            "  app.launch_new_instance()\n",
            "/usr/local/lib/python3.7/dist-packages/ipykernel_launcher.py:19: SettingWithCopyWarning: \n",
            "A value is trying to be set on a copy of a slice from a DataFrame\n",
            "\n",
            "See the caveats in the documentation: https://pandas.pydata.org/pandas-docs/stable/user_guide/indexing.html#returning-a-view-versus-a-copy\n",
            "/usr/local/lib/python3.7/dist-packages/ipykernel_launcher.py:21: SettingWithCopyWarning: \n",
            "A value is trying to be set on a copy of a slice from a DataFrame\n",
            "\n",
            "See the caveats in the documentation: https://pandas.pydata.org/pandas-docs/stable/user_guide/indexing.html#returning-a-view-versus-a-copy\n"
          ]
        },
        {
          "output_type": "execute_result",
          "data": {
            "text/plain": [
              "<bound method IndexOpsMixin.value_counts of 0       no\n",
              "1       no\n",
              "2       no\n",
              "3      yes\n",
              "4       no\n",
              "      ... \n",
              "644     no\n",
              "645     no\n",
              "646     no\n",
              "647     no\n",
              "648     no\n",
              "Name: romantic, Length: 646, dtype: object>"
            ]
          },
          "metadata": {},
          "execution_count": 161
        }
      ]
    },
    {
      "cell_type": "code",
      "source": [
        "# Verificación:\n",
        "\n",
        "for i in range(28):\n",
        "  print(Data[Cualitativas[i]].value_counts())"
      ],
      "metadata": {
        "colab": {
          "base_uri": "https://localhost:8080/"
        },
        "id": "xJy3oiNr2W6O",
        "outputId": "640bc4a5-e0d8-4ab1-c4d3-a19afb17890e"
      },
      "execution_count": 162,
      "outputs": [
        {
          "output_type": "stream",
          "name": "stdout",
          "text": [
            "GP    421\n",
            "MS    225\n",
            "Name: school, dtype: int64\n",
            "1    364\n",
            "2    212\n",
            "3     54\n",
            "4     16\n",
            "Name: traveltime, dtype: int64\n",
            "2    305\n",
            "1    211\n",
            "3     96\n",
            "4     34\n",
            "Name: studytime, dtype: int64\n",
            "0    546\n",
            "1     70\n",
            "2     16\n",
            "3     14\n",
            "Name: failures, dtype: int64\n",
            "F    383\n",
            "M    263\n",
            "Name: sex, dtype: int64\n",
            "U    449\n",
            "R    197\n",
            "Name: address, dtype: int64\n",
            "GT3    455\n",
            "LE3    191\n",
            "Name: famsize, dtype: int64\n",
            "T    567\n",
            "A     79\n",
            "Name: Pstatus, dtype: int64\n",
            "2    185\n",
            "4    174\n",
            "1    143\n",
            "3    138\n",
            "0      6\n",
            "Name: Medu, dtype: int64\n",
            "2    209\n",
            "1    172\n",
            "3    131\n",
            "4    127\n",
            "0      7\n",
            "Name: Fedu, dtype: int64\n",
            "other       257\n",
            "at_home     135\n",
            "services    135\n",
            "teacher      71\n",
            "health       48\n",
            "Name: Mjob, dtype: int64\n",
            "other       366\n",
            "services    179\n",
            "at_home      42\n",
            "teacher      36\n",
            "health       23\n",
            "Name: Fjob, dtype: int64\n",
            "course        284\n",
            "home          148\n",
            "reputation    143\n",
            "other          71\n",
            "Name: reason, dtype: int64\n",
            "mother    453\n",
            "father    153\n",
            "other      40\n",
            "Name: guardian, dtype: int64\n",
            "no     579\n",
            "yes     67\n",
            "Name: schoolsup, dtype: int64\n",
            "yes    397\n",
            "no     249\n",
            "Name: famsup, dtype: int64\n",
            "no     607\n",
            "yes     39\n",
            "Name: paid, dtype: int64\n",
            "no     331\n",
            "yes    315\n",
            "Name: activities, dtype: int64\n",
            "yes    519\n",
            "no     127\n",
            "Name: nursery, dtype: int64\n",
            "yes    577\n",
            "no      69\n",
            "Name: higher, dtype: int64\n",
            "yes    495\n",
            "no     151\n",
            "Name: internet, dtype: int64\n",
            "no     408\n",
            "yes    238\n",
            "Name: romantic, dtype: int64\n",
            "4    315\n",
            "5    179\n",
            "3    101\n",
            "2     29\n",
            "1     22\n",
            "Name: famrel, dtype: int64\n",
            "3    250\n",
            "4    177\n",
            "2    106\n",
            "5     68\n",
            "1     45\n",
            "Name: freetime, dtype: int64\n",
            "3    204\n",
            "2    144\n",
            "4    141\n",
            "5    109\n",
            "1     48\n",
            "Name: goout, dtype: int64\n",
            "1    449\n",
            "2    120\n",
            "3     43\n",
            "5     17\n",
            "4     17\n",
            "Name: Dalc, dtype: int64\n",
            "1    247\n",
            "2    147\n",
            "3    120\n",
            "4     87\n",
            "5     45\n",
            "Name: Walc, dtype: int64\n",
            "5    246\n",
            "3    124\n",
            "4    108\n",
            "1     90\n",
            "2     78\n",
            "Name: health, dtype: int64\n"
          ]
        }
      ]
    },
    {
      "cell_type": "markdown",
      "source": [
        "En el proceso de verificación de la calidad de datos y limpieza, se encontro que la base cuenta con muy pocos datos faltantes, unicamente en variable cualitativas los cuales fueron imputados por medio de la moda. Se eliminaron aquellas filas en las cuales habian errores de digitación incorregibles, como por ejemplo, notas con un puntaje mayor a $20$ y variables en las cuales existian modalidades no validas (Como ocurrio en la variable Psatus), por otra parte, en cuanto a los errores de digitación por mayusculas se realizaron las correciones respectivas."
      ],
      "metadata": {
        "id": "AjTRGeWb6mWb"
      }
    },
    {
      "cell_type": "markdown",
      "source": [
        "# Análisis exploratorio de Datos\n"
      ],
      "metadata": {
        "id": "vYMcfVt77hgi"
      }
    },
    {
      "cell_type": "markdown",
      "source": [
        "El 51.238% de los estudiantes de la muestra no tiene actividades extracurriculares, en contra parte, únicamente el 48.762% de los estudiantes si tienen este tipo de actividades"
      ],
      "metadata": {
        "id": "h9g84jfrV4nM"
      }
    },
    {
      "cell_type": "code",
      "source": [
        "SS = Data['activities'].value_counts()\n",
        "SS.prop = SS/SS.sum() "
      ],
      "metadata": {
        "id": "QEuiebp8CGZD"
      },
      "execution_count": 163,
      "outputs": []
    },
    {
      "cell_type": "code",
      "source": [
        "print(SS) ; print(round(100 * SS.prop, 3))"
      ],
      "metadata": {
        "colab": {
          "base_uri": "https://localhost:8080/"
        },
        "id": "oAIxfEP5GH-1",
        "outputId": "1c950ff0-88ae-4eae-bdbe-1b912e3e3690"
      },
      "execution_count": 164,
      "outputs": [
        {
          "output_type": "stream",
          "name": "stdout",
          "text": [
            "no     331\n",
            "yes    315\n",
            "Name: activities, dtype: int64\n",
            "no     51.238\n",
            "yes    48.762\n",
            "Name: activities, dtype: float64\n"
          ]
        }
      ]
    },
    {
      "cell_type": "code",
      "source": [
        "plt.bar(SS.index, SS.values/SS.values.sum())"
      ],
      "metadata": {
        "colab": {
          "base_uri": "https://localhost:8080/",
          "height": 283
        },
        "id": "WP0DZQoQFmvk",
        "outputId": "c45d00dd-a085-41f5-ddeb-9cb563d6cb60"
      },
      "execution_count": 165,
      "outputs": [
        {
          "output_type": "execute_result",
          "data": {
            "text/plain": [
              "<BarContainer object of 2 artists>"
            ]
          },
          "metadata": {},
          "execution_count": 165
        },
        {
          "output_type": "display_data",
          "data": {
            "text/plain": [
              "<Figure size 432x288 with 1 Axes>"
            ],
            "image/png": "[encoded data removed]"
          },
          "metadata": {
            "needs_background": "light"
          }
        }
      ]
    },
    {
      "cell_type": "markdown",
      "source": [
        "## Variables cualitativas\n",
        "\n",
        "Con la finalidad de examinar las relaciones que existen entre la variable cualitativa de interes 'activities' y las demas variables cualitativas, se procede a, por medio de la prueba Chi-cuadrado, contrastar para los pares de variables la siguiente hipótesis:\n",
        "\n",
        "$$\n",
        "\\left\\{\n",
        "\\begin{array}{ll}\n",
        "H_{0}: &  Las \\thinspace \\thinspace variables \\thinspace \\thinspace son \\thinspace \\thinspace independientes\\\\\n",
        "H_{1}: & Las \\thinspace \\thinspace variables \\thinspace \\thinspace no \\thinspace \\thinspace son \\thinspace \\thinspace independientes\n",
        "\\end{array}\n",
        "\\right.\n",
        "$$\n",
        "\n",
        "Con la cual, se busca concluir si las variables tienen algún tipo de relación, o por lo contrario, son independientes, cada uno de estos contrastes se realiza a un nivel de significancia del $1$%\n"
      ],
      "metadata": {
        "id": "6xpRBIkTGxmD"
      }
    },
    {
      "cell_type": "code",
      "source": [
        "var_exp = ['schoolsup','school','traveltime','studytime', 'failures','sex','address','famsize','Pstatus','Medu','Fedu','Mjob','Fjob','reason',\n",
        " 'guardian','famsup','paid','nursery','higher','internet','romantic','famrel','freetime','goout','Dalc',\n",
        " 'Walc','health']\n",
        "p_valores = []"
      ],
      "metadata": {
        "id": "UarF6EX4Hjcs"
      },
      "execution_count": 166,
      "outputs": []
    },
    {
      "cell_type": "code",
      "source": [
        "for i in range(27):\n",
        "  Conjunta = pd.crosstab(Data[var_exp[i]], Data['activities'])\n",
        "  kf = chi2_contingency(Conjunta)\n",
        "  p_valores.append(round(kf[1], 5))"
      ],
      "metadata": {
        "id": "5kfGsy0UH9dt"
      },
      "execution_count": 167,
      "outputs": []
    },
    {
      "cell_type": "code",
      "source": [
        "Prueba = pd.DataFrame()\n",
        "Prueba['variable'] = var_exp\n",
        "Prueba['p - valor'] = p_valores"
      ],
      "metadata": {
        "id": "iNT1MApnLBiq"
      },
      "execution_count": 168,
      "outputs": []
    },
    {
      "cell_type": "code",
      "source": [
        "Prueba['variable'][Prueba['p - valor']< 0.05]"
      ],
      "metadata": {
        "colab": {
          "base_uri": "https://localhost:8080/"
        },
        "id": "bPqgDWD_LD9m",
        "outputId": "cf58699e-d540-41a6-aace-479b150fd5f0"
      },
      "execution_count": 169,
      "outputs": [
        {
          "output_type": "execute_result",
          "data": {
            "text/plain": [
              "1       school\n",
              "5          sex\n",
              "8      Pstatus\n",
              "9         Medu\n",
              "11        Mjob\n",
              "13      reason\n",
              "19    internet\n",
              "22    freetime\n",
              "Name: variable, dtype: object"
            ]
          },
          "metadata": {},
          "execution_count": 169
        }
      ]
    },
    {
      "cell_type": "markdown",
      "source": [
        "Las variables cualitativas que tienen algún tipo de asosiación con la variable de actividades extracurriculares es el colegio, el sexo, si los padren convives, educación de la madre, trabajo de la madre, razon para elegir la escuela, si tiene internet en la casa y el tiempo libre despues de la escuela."
      ],
      "metadata": {
        "id": "uwTBtJD-LeQX"
      }
    },
    {
      "cell_type": "markdown",
      "source": [
        "## Variables cuantitativas\n",
        "Las variables cuantitativas en estudio tienen en general asociaciones bajas entre si, excepto por las variables de las notas de los tres periodos, entre estas tres variable existe una correlación alta para los diferentes pares de variables. Esta asociación es positiva, es decir, por ejemplo, para las notas del corte 1 y 2, cuando aumenta la nota de un periodo, aumenta la del otro. Ademas, por medio del grafico de dispersión, podemos observar que estas relaciones son lineales.\n",
        "\n"
      ],
      "metadata": {
        "id": "oA20QAIgMTnF"
      }
    },
    {
      "cell_type": "code",
      "source": [
        "Data.loc[:,Cuantitativas].corr()"
      ],
      "metadata": {
        "colab": {
          "base_uri": "https://localhost:8080/",
          "height": 0
        },
        "id": "Li8OlG7ST_sB",
        "outputId": "75c99e84-aa48-466e-dd8f-98ca4081c748"
      },
      "execution_count": 170,
      "outputs": [
        {
          "output_type": "execute_result",
          "data": {
            "text/plain": [
              "               age  absences        G1        G2        G3\n",
              "age       1.000000  0.151379 -0.177184 -0.110460 -0.109054\n",
              "absences  0.151379  1.000000 -0.143016 -0.116415 -0.080784\n",
              "G1       -0.177184 -0.143016  1.000000  0.864631  0.826020\n",
              "G2       -0.110460 -0.116415  0.864631  1.000000  0.918029\n",
              "G3       -0.109054 -0.080784  0.826020  0.918029  1.000000"
            ],
            "text/html": [
              "\n",
              "  <div id=\"df-9874fd36-3e9a-4b07-80ff-4886572dd9a8\">\n",
              "    <div class=\"colab-df-container\">\n",
              "      <div>\n",
              "<style scoped>\n",
              "    .dataframe tbody tr th:only-of-type {\n",
              "        vertical-align: middle;\n",
              "    }\n",
              "\n",
              "    .dataframe tbody tr th {\n",
              "        vertical-align: top;\n",
              "    }\n",
              "\n",
              "    .dataframe thead th {\n",
              "        text-align: right;\n",
              "    }\n",
              "</style>\n",
              "<table border=\"1\" class=\"dataframe\">\n",
              "  <thead>\n",
              "    <tr style=\"text-align: right;\">\n",
              "      <th></th>\n",
              "      <th>age</th>\n",
              "      <th>absences</th>\n",
              "      <th>G1</th>\n",
              "      <th>G2</th>\n",
              "      <th>G3</th>\n",
              "    </tr>\n",
              "  </thead>\n",
              "  <tbody>\n",
              "    <tr>\n",
              "      <th>age</th>\n",
              "      <td>1.000000</td>\n",
              "      <td>0.151379</td>\n",
              "      <td>-0.177184</td>\n",
              "      <td>-0.110460</td>\n",
              "      <td>-0.109054</td>\n",
              "    </tr>\n",
              "    <tr>\n",
              "      <th>absences</th>\n",
              "      <td>0.151379</td>\n",
              "      <td>1.000000</td>\n",
              "      <td>-0.143016</td>\n",
              "      <td>-0.116415</td>\n",
              "      <td>-0.080784</td>\n",
              "    </tr>\n",
              "    <tr>\n",
              "      <th>G1</th>\n",
              "      <td>-0.177184</td>\n",
              "      <td>-0.143016</td>\n",
              "      <td>1.000000</td>\n",
              "      <td>0.864631</td>\n",
              "      <td>0.826020</td>\n",
              "    </tr>\n",
              "    <tr>\n",
              "      <th>G2</th>\n",
              "      <td>-0.110460</td>\n",
              "      <td>-0.116415</td>\n",
              "      <td>0.864631</td>\n",
              "      <td>1.000000</td>\n",
              "      <td>0.918029</td>\n",
              "    </tr>\n",
              "    <tr>\n",
              "      <th>G3</th>\n",
              "      <td>-0.109054</td>\n",
              "      <td>-0.080784</td>\n",
              "      <td>0.826020</td>\n",
              "      <td>0.918029</td>\n",
              "      <td>1.000000</td>\n",
              "    </tr>\n",
              "  </tbody>\n",
              "</table>\n",
              "</div>\n",
              "      <button class=\"colab-df-convert\" onclick=\"convertToInteractive('df-9874fd36-3e9a-4b07-80ff-4886572dd9a8')\"\n",
              "              title=\"Convert this dataframe to an interactive table.\"\n",
              "              style=\"display:none;\">\n",
              "        \n",
              "  <svg xmlns=\"http://www.w3.org/2000/svg\" height=\"24px\"viewBox=\"0 0 24 24\"\n",
              "       width=\"24px\">\n",
              "    <path d=\"M0 0h24v24H0V0z\" fill=\"none\"/>\n",
              "    <path d=\"M18.56 5.44l.94 2.06.94-2.06 2.06-.94-2.06-.94-.94-2.06-.94 2.06-2.06.94zm-11 1L8.5 8.5l.94-2.06 2.06-.94-2.06-.94L8.5 2.5l-.94 2.06-2.06.94zm10 10l.94 2.06.94-2.06 2.06-.94-2.06-.94-.94-2.06-.94 2.06-2.06.94z\"/><path d=\"M17.41 7.96l-1.37-1.37c-.4-.4-.92-.59-1.43-.59-.52 0-1.04.2-1.43.59L10.3 9.45l-7.72 7.72c-.78.78-.78 2.05 0 2.83L4 21.41c.39.39.9.59 1.41.59.51 0 1.02-.2 1.41-.59l7.78-7.78 2.81-2.81c.8-.78.8-2.07 0-2.86zM5.41 20L4 18.59l7.72-7.72 1.47 1.35L5.41 20z\"/>\n",
              "  </svg>\n",
              "      </button>\n",
              "      \n",
              "  <style>\n",
              "    .colab-df-container {\n",
              "      display:flex;\n",
              "      flex-wrap:wrap;\n",
              "      gap: 12px;\n",
              "    }\n",
              "\n",
              "    .colab-df-convert {\n",
              "      background-color: #E8F0FE;\n",
              "      border: none;\n",
              "      border-radius: 50%;\n",
              "      cursor: pointer;\n",
              "      display: none;\n",
              "      fill: #1967D2;\n",
              "      height: 32px;\n",
              "      padding: 0 0 0 0;\n",
              "      width: 32px;\n",
              "    }\n",
              "\n",
              "    .colab-df-convert:hover {\n",
              "      background-color: #E2EBFA;\n",
              "      box-shadow: 0px 1px 2px rgba(60, 64, 67, 0.3), 0px 1px 3px 1px rgba(60, 64, 67, 0.15);\n",
              "      fill: #174EA6;\n",
              "    }\n",
              "\n",
              "    [theme=dark] .colab-df-convert {\n",
              "      background-color: #3B4455;\n",
              "      fill: #D2E3FC;\n",
              "    }\n",
              "\n",
              "    [theme=dark] .colab-df-convert:hover {\n",
              "      background-color: #434B5C;\n",
              "      box-shadow: 0px 1px 3px 1px rgba(0, 0, 0, 0.15);\n",
              "      filter: drop-shadow(0px 1px 2px rgba(0, 0, 0, 0.3));\n",
              "      fill: #FFFFFF;\n",
              "    }\n",
              "  </style>\n",
              "\n",
              "      <script>\n",
              "        const buttonEl =\n",
              "          document.querySelector('#df-9874fd36-3e9a-4b07-80ff-4886572dd9a8 button.colab-df-convert');\n",
              "        buttonEl.style.display =\n",
              "          google.colab.kernel.accessAllowed ? 'block' : 'none';\n",
              "\n",
              "        async function convertToInteractive(key) {\n",
              "          const element = document.querySelector('#df-9874fd36-3e9a-4b07-80ff-4886572dd9a8');\n",
              "          const dataTable =\n",
              "            await google.colab.kernel.invokeFunction('convertToInteractive',\n",
              "                                                     [key], {});\n",
              "          if (!dataTable) return;\n",
              "\n",
              "          const docLinkHtml = 'Like what you see? Visit the ' +\n",
              "            '<a target=\"_blank\" href=https://colab.research.google.com/notebooks/data_table.ipynb>data table notebook</a>'\n",
              "            + ' to learn more about interactive tables.';\n",
              "          element.innerHTML = '';\n",
              "          dataTable['output_type'] = 'display_data';\n",
              "          await google.colab.output.renderOutput(dataTable, element);\n",
              "          const docLink = document.createElement('div');\n",
              "          docLink.innerHTML = docLinkHtml;\n",
              "          element.appendChild(docLink);\n",
              "        }\n",
              "      </script>\n",
              "    </div>\n",
              "  </div>\n",
              "  "
            ]
          },
          "metadata": {},
          "execution_count": 170
        }
      ]
    },
    {
      "cell_type": "code",
      "source": [
        "sns.pairplot(Data.loc[:,Cuantitativas], diag_kind = 'hist', corner = True)"
      ],
      "metadata": {
        "colab": {
          "base_uri": "https://localhost:8080/",
          "height": 0
        },
        "id": "PrXth5xxUYDp",
        "outputId": "3dda9ec9-e815-4f9c-e1e1-34366913f077"
      },
      "execution_count": 171,
      "outputs": [
        {
          "output_type": "execute_result",
          "data": {
            "text/plain": [
              "<seaborn.axisgrid.PairGrid at 0x7fc8ba6000d0>"
            ]
          },
          "metadata": {},
          "execution_count": 171
        },
        {
          "output_type": "display_data",
          "data": {
            "text/plain": [
              "<Figure size 900x900 with 20 Axes>"
            ],
            "image/png": "[encoded data removed]"
          },
          "metadata": {
            "needs_background": "light"
          }
        }
      ]
    },
    {
      "cell_type": "markdown",
      "source": [
        "Para analizar las asociaciones de lass variables cuantitativos con el apoyo eduacativo adicional se procede a realizar el grafico de Box-Plot para observar como varia el comportamiento es estas variables númericas apartir de las dos modalidades que toma la variable 'schoolsup', posteriormente se realiza una prueba $ANOVA$ para constrastar que, en caso de que hallan diferencias en media, sean significativas, por lo tanto, se desea juzgar el siguiente sistema de hipotesis:\n",
        "\n",
        "$$\n",
        "\\left\\{\n",
        "\\begin{array}{ll}\n",
        "H_{0}: &  \\mu_1 = \\mu_2 =\\ldots=\\mu_a \\\\\n",
        "H_{1}: & \\mu_i \\neq \\mu_j \\thinspace \\thinspace \\forall_{i \\neq j}\n",
        "\\end{array}\n",
        "\\right.\n",
        "$$"
      ],
      "metadata": {
        "id": "Z0wLuwo4T857"
      }
    },
    {
      "cell_type": "code",
      "source": [
        "fig, ax = plt.subplots(1, 1, figsize=(8, 4))\n",
        "sns.boxplot(x = 'age', y= 'activities', data = Data, ax=ax)"
      ],
      "metadata": {
        "colab": {
          "base_uri": "https://localhost:8080/",
          "height": 0
        },
        "id": "Yz_Ns7sxMxDm",
        "outputId": "fe9f0bf7-f58c-4630-c2df-88fc153999b1"
      },
      "execution_count": 172,
      "outputs": [
        {
          "output_type": "execute_result",
          "data": {
            "text/plain": [
              "<matplotlib.axes._subplots.AxesSubplot at 0x7fc8ba3f4450>"
            ]
          },
          "metadata": {},
          "execution_count": 172
        },
        {
          "output_type": "display_data",
          "data": {
            "text/plain": [
              "<Figure size 576x288 with 1 Axes>"
            ],
            "image/png": "[encoded data removed]"
          },
          "metadata": {
            "needs_background": "light"
          }
        }
      ]
    },
    {
      "cell_type": "code",
      "source": [
        "pg.anova(data = Data, dv = 'age', between = 'activities', detailed = True )"
      ],
      "metadata": {
        "colab": {
          "base_uri": "https://localhost:8080/",
          "height": 0
        },
        "id": "czePcZUEQLE8",
        "outputId": "4351cc87-dcb6-419f-ed03-e66e0ccede41"
      },
      "execution_count": 173,
      "outputs": [
        {
          "output_type": "execute_result",
          "data": {
            "text/plain": [
              "       Source          SS   DF        MS         F     p-unc       np2\n",
              "0  activities    2.746847    1  2.746847  1.849232  0.174349  0.002863\n",
              "1      Within  956.596806  644  1.485399       NaN       NaN       NaN"
            ],
            "text/html": [
              "\n",
              "  <div id=\"df-d1db3dcb-d787-4e8c-a042-083492dacf4b\">\n",
              "    <div class=\"colab-df-container\">\n",
              "      <div>\n",
              "<style scoped>\n",
              "    .dataframe tbody tr th:only-of-type {\n",
              "        vertical-align: middle;\n",
              "    }\n",
              "\n",
              "    .dataframe tbody tr th {\n",
              "        vertical-align: top;\n",
              "    }\n",
              "\n",
              "    .dataframe thead th {\n",
              "        text-align: right;\n",
              "    }\n",
              "</style>\n",
              "<table border=\"1\" class=\"dataframe\">\n",
              "  <thead>\n",
              "    <tr style=\"text-align: right;\">\n",
              "      <th></th>\n",
              "      <th>Source</th>\n",
              "      <th>SS</th>\n",
              "      <th>DF</th>\n",
              "      <th>MS</th>\n",
              "      <th>F</th>\n",
              "      <th>p-unc</th>\n",
              "      <th>np2</th>\n",
              "    </tr>\n",
              "  </thead>\n",
              "  <tbody>\n",
              "    <tr>\n",
              "      <th>0</th>\n",
              "      <td>activities</td>\n",
              "      <td>2.746847</td>\n",
              "      <td>1</td>\n",
              "      <td>2.746847</td>\n",
              "      <td>1.849232</td>\n",
              "      <td>0.174349</td>\n",
              "      <td>0.002863</td>\n",
              "    </tr>\n",
              "    <tr>\n",
              "      <th>1</th>\n",
              "      <td>Within</td>\n",
              "      <td>956.596806</td>\n",
              "      <td>644</td>\n",
              "      <td>1.485399</td>\n",
              "      <td>NaN</td>\n",
              "      <td>NaN</td>\n",
              "      <td>NaN</td>\n",
              "    </tr>\n",
              "  </tbody>\n",
              "</table>\n",
              "</div>\n",
              "      <button class=\"colab-df-convert\" onclick=\"convertToInteractive('df-d1db3dcb-d787-4e8c-a042-083492dacf4b')\"\n",
              "              title=\"Convert this dataframe to an interactive table.\"\n",
              "              style=\"display:none;\">\n",
              "        \n",
              "  <svg xmlns=\"http://www.w3.org/2000/svg\" height=\"24px\"viewBox=\"0 0 24 24\"\n",
              "       width=\"24px\">\n",
              "    <path d=\"M0 0h24v24H0V0z\" fill=\"none\"/>\n",
              "    <path d=\"M18.56 5.44l.94 2.06.94-2.06 2.06-.94-2.06-.94-.94-2.06-.94 2.06-2.06.94zm-11 1L8.5 8.5l.94-2.06 2.06-.94-2.06-.94L8.5 2.5l-.94 2.06-2.06.94zm10 10l.94 2.06.94-2.06 2.06-.94-2.06-.94-.94-2.06-.94 2.06-2.06.94z\"/><path d=\"M17.41 7.96l-1.37-1.37c-.4-.4-.92-.59-1.43-.59-.52 0-1.04.2-1.43.59L10.3 9.45l-7.72 7.72c-.78.78-.78 2.05 0 2.83L4 21.41c.39.39.9.59 1.41.59.51 0 1.02-.2 1.41-.59l7.78-7.78 2.81-2.81c.8-.78.8-2.07 0-2.86zM5.41 20L4 18.59l7.72-7.72 1.47 1.35L5.41 20z\"/>\n",
              "  </svg>\n",
              "      </button>\n",
              "      \n",
              "  <style>\n",
              "    .colab-df-container {\n",
              "      display:flex;\n",
              "      flex-wrap:wrap;\n",
              "      gap: 12px;\n",
              "    }\n",
              "\n",
              "    .colab-df-convert {\n",
              "      background-color: #E8F0FE;\n",
              "      border: none;\n",
              "      border-radius: 50%;\n",
              "      cursor: pointer;\n",
              "      display: none;\n",
              "      fill: #1967D2;\n",
              "      height: 32px;\n",
              "      padding: 0 0 0 0;\n",
              "      width: 32px;\n",
              "    }\n",
              "\n",
              "    .colab-df-convert:hover {\n",
              "      background-color: #E2EBFA;\n",
              "      box-shadow: 0px 1px 2px rgba(60, 64, 67, 0.3), 0px 1px 3px 1px rgba(60, 64, 67, 0.15);\n",
              "      fill: #174EA6;\n",
              "    }\n",
              "\n",
              "    [theme=dark] .colab-df-convert {\n",
              "      background-color: #3B4455;\n",
              "      fill: #D2E3FC;\n",
              "    }\n",
              "\n",
              "    [theme=dark] .colab-df-convert:hover {\n",
              "      background-color: #434B5C;\n",
              "      box-shadow: 0px 1px 3px 1px rgba(0, 0, 0, 0.15);\n",
              "      filter: drop-shadow(0px 1px 2px rgba(0, 0, 0, 0.3));\n",
              "      fill: #FFFFFF;\n",
              "    }\n",
              "  </style>\n",
              "\n",
              "      <script>\n",
              "        const buttonEl =\n",
              "          document.querySelector('#df-d1db3dcb-d787-4e8c-a042-083492dacf4b button.colab-df-convert');\n",
              "        buttonEl.style.display =\n",
              "          google.colab.kernel.accessAllowed ? 'block' : 'none';\n",
              "\n",
              "        async function convertToInteractive(key) {\n",
              "          const element = document.querySelector('#df-d1db3dcb-d787-4e8c-a042-083492dacf4b');\n",
              "          const dataTable =\n",
              "            await google.colab.kernel.invokeFunction('convertToInteractive',\n",
              "                                                     [key], {});\n",
              "          if (!dataTable) return;\n",
              "\n",
              "          const docLinkHtml = 'Like what you see? Visit the ' +\n",
              "            '<a target=\"_blank\" href=https://colab.research.google.com/notebooks/data_table.ipynb>data table notebook</a>'\n",
              "            + ' to learn more about interactive tables.';\n",
              "          element.innerHTML = '';\n",
              "          dataTable['output_type'] = 'display_data';\n",
              "          await google.colab.output.renderOutput(dataTable, element);\n",
              "          const docLink = document.createElement('div');\n",
              "          docLink.innerHTML = docLinkHtml;\n",
              "          element.appendChild(docLink);\n",
              "        }\n",
              "      </script>\n",
              "    </div>\n",
              "  </div>\n",
              "  "
            ]
          },
          "metadata": {},
          "execution_count": 173
        }
      ]
    },
    {
      "cell_type": "code",
      "source": [
        "fig, ax = plt.subplots(1, 1, figsize=(8, 4))\n",
        "sns.boxplot(x = 'absences', y= 'activities', data = Data, ax=ax)"
      ],
      "metadata": {
        "colab": {
          "base_uri": "https://localhost:8080/",
          "height": 0
        },
        "id": "SHrLufZaPvLk",
        "outputId": "49196afb-73d3-4a5e-cb81-63977026e7cc"
      },
      "execution_count": 174,
      "outputs": [
        {
          "output_type": "execute_result",
          "data": {
            "text/plain": [
              "<matplotlib.axes._subplots.AxesSubplot at 0x7fc8ba449e90>"
            ]
          },
          "metadata": {},
          "execution_count": 174
        },
        {
          "output_type": "display_data",
          "data": {
            "text/plain": [
              "<Figure size 576x288 with 1 Axes>"
            ],
            "image/png": "[encoded data removed]"
          },
          "metadata": {
            "needs_background": "light"
          }
        }
      ]
    },
    {
      "cell_type": "code",
      "source": [
        "pg.anova(data = Data, dv = 'absences', between = 'activities', detailed = True )"
      ],
      "metadata": {
        "colab": {
          "base_uri": "https://localhost:8080/",
          "height": 0
        },
        "id": "LCl2fjLQQSgP",
        "outputId": "00c7ae6b-b226-4acd-aebf-53dba1ac5058"
      },
      "execution_count": 175,
      "outputs": [
        {
          "output_type": "execute_result",
          "data": {
            "text/plain": [
              "       Source            SS   DF         MS         F     p-unc       np2\n",
              "0  activities      1.867358    1   1.867358  0.088486  0.766206  0.000137\n",
              "1      Within  13590.530475  644  21.103308       NaN       NaN       NaN"
            ],
            "text/html": [
              "\n",
              "  <div id=\"df-ed83caf3-3d29-4879-bda3-17f0ee286aee\">\n",
              "    <div class=\"colab-df-container\">\n",
              "      <div>\n",
              "<style scoped>\n",
              "    .dataframe tbody tr th:only-of-type {\n",
              "        vertical-align: middle;\n",
              "    }\n",
              "\n",
              "    .dataframe tbody tr th {\n",
              "        vertical-align: top;\n",
              "    }\n",
              "\n",
              "    .dataframe thead th {\n",
              "        text-align: right;\n",
              "    }\n",
              "</style>\n",
              "<table border=\"1\" class=\"dataframe\">\n",
              "  <thead>\n",
              "    <tr style=\"text-align: right;\">\n",
              "      <th></th>\n",
              "      <th>Source</th>\n",
              "      <th>SS</th>\n",
              "      <th>DF</th>\n",
              "      <th>MS</th>\n",
              "      <th>F</th>\n",
              "      <th>p-unc</th>\n",
              "      <th>np2</th>\n",
              "    </tr>\n",
              "  </thead>\n",
              "  <tbody>\n",
              "    <tr>\n",
              "      <th>0</th>\n",
              "      <td>activities</td>\n",
              "      <td>1.867358</td>\n",
              "      <td>1</td>\n",
              "      <td>1.867358</td>\n",
              "      <td>0.088486</td>\n",
              "      <td>0.766206</td>\n",
              "      <td>0.000137</td>\n",
              "    </tr>\n",
              "    <tr>\n",
              "      <th>1</th>\n",
              "      <td>Within</td>\n",
              "      <td>13590.530475</td>\n",
              "      <td>644</td>\n",
              "      <td>21.103308</td>\n",
              "      <td>NaN</td>\n",
              "      <td>NaN</td>\n",
              "      <td>NaN</td>\n",
              "    </tr>\n",
              "  </tbody>\n",
              "</table>\n",
              "</div>\n",
              "      <button class=\"colab-df-convert\" onclick=\"convertToInteractive('df-ed83caf3-3d29-4879-bda3-17f0ee286aee')\"\n",
              "              title=\"Convert this dataframe to an interactive table.\"\n",
              "              style=\"display:none;\">\n",
              "        \n",
              "  <svg xmlns=\"http://www.w3.org/2000/svg\" height=\"24px\"viewBox=\"0 0 24 24\"\n",
              "       width=\"24px\">\n",
              "    <path d=\"M0 0h24v24H0V0z\" fill=\"none\"/>\n",
              "    <path d=\"M18.56 5.44l.94 2.06.94-2.06 2.06-.94-2.06-.94-.94-2.06-.94 2.06-2.06.94zm-11 1L8.5 8.5l.94-2.06 2.06-.94-2.06-.94L8.5 2.5l-.94 2.06-2.06.94zm10 10l.94 2.06.94-2.06 2.06-.94-2.06-.94-.94-2.06-.94 2.06-2.06.94z\"/><path d=\"M17.41 7.96l-1.37-1.37c-.4-.4-.92-.59-1.43-.59-.52 0-1.04.2-1.43.59L10.3 9.45l-7.72 7.72c-.78.78-.78 2.05 0 2.83L4 21.41c.39.39.9.59 1.41.59.51 0 1.02-.2 1.41-.59l7.78-7.78 2.81-2.81c.8-.78.8-2.07 0-2.86zM5.41 20L4 18.59l7.72-7.72 1.47 1.35L5.41 20z\"/>\n",
              "  </svg>\n",
              "      </button>\n",
              "      \n",
              "  <style>\n",
              "    .colab-df-container {\n",
              "      display:flex;\n",
              "      flex-wrap:wrap;\n",
              "      gap: 12px;\n",
              "    }\n",
              "\n",
              "    .colab-df-convert {\n",
              "      background-color: #E8F0FE;\n",
              "      border: none;\n",
              "      border-radius: 50%;\n",
              "      cursor: pointer;\n",
              "      display: none;\n",
              "      fill: #1967D2;\n",
              "      height: 32px;\n",
              "      padding: 0 0 0 0;\n",
              "      width: 32px;\n",
              "    }\n",
              "\n",
              "    .colab-df-convert:hover {\n",
              "      background-color: #E2EBFA;\n",
              "      box-shadow: 0px 1px 2px rgba(60, 64, 67, 0.3), 0px 1px 3px 1px rgba(60, 64, 67, 0.15);\n",
              "      fill: #174EA6;\n",
              "    }\n",
              "\n",
              "    [theme=dark] .colab-df-convert {\n",
              "      background-color: #3B4455;\n",
              "      fill: #D2E3FC;\n",
              "    }\n",
              "\n",
              "    [theme=dark] .colab-df-convert:hover {\n",
              "      background-color: #434B5C;\n",
              "      box-shadow: 0px 1px 3px 1px rgba(0, 0, 0, 0.15);\n",
              "      filter: drop-shadow(0px 1px 2px rgba(0, 0, 0, 0.3));\n",
              "      fill: #FFFFFF;\n",
              "    }\n",
              "  </style>\n",
              "\n",
              "      <script>\n",
              "        const buttonEl =\n",
              "          document.querySelector('#df-ed83caf3-3d29-4879-bda3-17f0ee286aee button.colab-df-convert');\n",
              "        buttonEl.style.display =\n",
              "          google.colab.kernel.accessAllowed ? 'block' : 'none';\n",
              "\n",
              "        async function convertToInteractive(key) {\n",
              "          const element = document.querySelector('#df-ed83caf3-3d29-4879-bda3-17f0ee286aee');\n",
              "          const dataTable =\n",
              "            await google.colab.kernel.invokeFunction('convertToInteractive',\n",
              "                                                     [key], {});\n",
              "          if (!dataTable) return;\n",
              "\n",
              "          const docLinkHtml = 'Like what you see? Visit the ' +\n",
              "            '<a target=\"_blank\" href=https://colab.research.google.com/notebooks/data_table.ipynb>data table notebook</a>'\n",
              "            + ' to learn more about interactive tables.';\n",
              "          element.innerHTML = '';\n",
              "          dataTable['output_type'] = 'display_data';\n",
              "          await google.colab.output.renderOutput(dataTable, element);\n",
              "          const docLink = document.createElement('div');\n",
              "          docLink.innerHTML = docLinkHtml;\n",
              "          element.appendChild(docLink);\n",
              "        }\n",
              "      </script>\n",
              "    </div>\n",
              "  </div>\n",
              "  "
            ]
          },
          "metadata": {},
          "execution_count": 175
        }
      ]
    },
    {
      "cell_type": "code",
      "source": [
        "fig, ax = plt.subplots(1, 1, figsize=(8, 4))\n",
        "sns.boxplot(x = 'G1', y= 'activities', data = Data, ax=ax)"
      ],
      "metadata": {
        "colab": {
          "base_uri": "https://localhost:8080/",
          "height": 0
        },
        "id": "HQbNo50rMr_b",
        "outputId": "df1cad79-d389-4385-ec45-98a84402beb1"
      },
      "execution_count": 176,
      "outputs": [
        {
          "output_type": "execute_result",
          "data": {
            "text/plain": [
              "<matplotlib.axes._subplots.AxesSubplot at 0x7fc8b9449290>"
            ]
          },
          "metadata": {},
          "execution_count": 176
        },
        {
          "output_type": "display_data",
          "data": {
            "text/plain": [
              "<Figure size 576x288 with 1 Axes>"
            ],
            "image/png": "[encoded data removed]"
          },
          "metadata": {
            "needs_background": "light"
          }
        }
      ]
    },
    {
      "cell_type": "code",
      "source": [
        "pg.anova(data = Data, dv = 'G1', between = 'activities', detailed = True )"
      ],
      "metadata": {
        "colab": {
          "base_uri": "https://localhost:8080/",
          "height": 0
        },
        "id": "nUG7F-DCQWcj",
        "outputId": "41ad1c1d-b576-4325-bddc-8c5a1685543d"
      },
      "execution_count": 177,
      "outputs": [
        {
          "output_type": "execute_result",
          "data": {
            "text/plain": [
              "       Source           SS   DF         MS         F     p-unc       np2\n",
              "0  activities    31.404619    1  31.404619  4.185935  0.041166  0.006458\n",
              "1      Within  4831.555134  644   7.502415       NaN       NaN       NaN"
            ],
            "text/html": [
              "\n",
              "  <div id=\"df-200fd68c-a7fe-4a24-b624-8e92eacea02e\">\n",
              "    <div class=\"colab-df-container\">\n",
              "      <div>\n",
              "<style scoped>\n",
              "    .dataframe tbody tr th:only-of-type {\n",
              "        vertical-align: middle;\n",
              "    }\n",
              "\n",
              "    .dataframe tbody tr th {\n",
              "        vertical-align: top;\n",
              "    }\n",
              "\n",
              "    .dataframe thead th {\n",
              "        text-align: right;\n",
              "    }\n",
              "</style>\n",
              "<table border=\"1\" class=\"dataframe\">\n",
              "  <thead>\n",
              "    <tr style=\"text-align: right;\">\n",
              "      <th></th>\n",
              "      <th>Source</th>\n",
              "      <th>SS</th>\n",
              "      <th>DF</th>\n",
              "      <th>MS</th>\n",
              "      <th>F</th>\n",
              "      <th>p-unc</th>\n",
              "      <th>np2</th>\n",
              "    </tr>\n",
              "  </thead>\n",
              "  <tbody>\n",
              "    <tr>\n",
              "      <th>0</th>\n",
              "      <td>activities</td>\n",
              "      <td>31.404619</td>\n",
              "      <td>1</td>\n",
              "      <td>31.404619</td>\n",
              "      <td>4.185935</td>\n",
              "      <td>0.041166</td>\n",
              "      <td>0.006458</td>\n",
              "    </tr>\n",
              "    <tr>\n",
              "      <th>1</th>\n",
              "      <td>Within</td>\n",
              "      <td>4831.555134</td>\n",
              "      <td>644</td>\n",
              "      <td>7.502415</td>\n",
              "      <td>NaN</td>\n",
              "      <td>NaN</td>\n",
              "      <td>NaN</td>\n",
              "    </tr>\n",
              "  </tbody>\n",
              "</table>\n",
              "</div>\n",
              "      <button class=\"colab-df-convert\" onclick=\"convertToInteractive('df-200fd68c-a7fe-4a24-b624-8e92eacea02e')\"\n",
              "              title=\"Convert this dataframe to an interactive table.\"\n",
              "              style=\"display:none;\">\n",
              "        \n",
              "  <svg xmlns=\"http://www.w3.org/2000/svg\" height=\"24px\"viewBox=\"0 0 24 24\"\n",
              "       width=\"24px\">\n",
              "    <path d=\"M0 0h24v24H0V0z\" fill=\"none\"/>\n",
              "    <path d=\"M18.56 5.44l.94 2.06.94-2.06 2.06-.94-2.06-.94-.94-2.06-.94 2.06-2.06.94zm-11 1L8.5 8.5l.94-2.06 2.06-.94-2.06-.94L8.5 2.5l-.94 2.06-2.06.94zm10 10l.94 2.06.94-2.06 2.06-.94-2.06-.94-.94-2.06-.94 2.06-2.06.94z\"/><path d=\"M17.41 7.96l-1.37-1.37c-.4-.4-.92-.59-1.43-.59-.52 0-1.04.2-1.43.59L10.3 9.45l-7.72 7.72c-.78.78-.78 2.05 0 2.83L4 21.41c.39.39.9.59 1.41.59.51 0 1.02-.2 1.41-.59l7.78-7.78 2.81-2.81c.8-.78.8-2.07 0-2.86zM5.41 20L4 18.59l7.72-7.72 1.47 1.35L5.41 20z\"/>\n",
              "  </svg>\n",
              "      </button>\n",
              "      \n",
              "  <style>\n",
              "    .colab-df-container {\n",
              "      display:flex;\n",
              "      flex-wrap:wrap;\n",
              "      gap: 12px;\n",
              "    }\n",
              "\n",
              "    .colab-df-convert {\n",
              "      background-color: #E8F0FE;\n",
              "      border: none;\n",
              "      border-radius: 50%;\n",
              "      cursor: pointer;\n",
              "      display: none;\n",
              "      fill: #1967D2;\n",
              "      height: 32px;\n",
              "      padding: 0 0 0 0;\n",
              "      width: 32px;\n",
              "    }\n",
              "\n",
              "    .colab-df-convert:hover {\n",
              "      background-color: #E2EBFA;\n",
              "      box-shadow: 0px 1px 2px rgba(60, 64, 67, 0.3), 0px 1px 3px 1px rgba(60, 64, 67, 0.15);\n",
              "      fill: #174EA6;\n",
              "    }\n",
              "\n",
              "    [theme=dark] .colab-df-convert {\n",
              "      background-color: #3B4455;\n",
              "      fill: #D2E3FC;\n",
              "    }\n",
              "\n",
              "    [theme=dark] .colab-df-convert:hover {\n",
              "      background-color: #434B5C;\n",
              "      box-shadow: 0px 1px 3px 1px rgba(0, 0, 0, 0.15);\n",
              "      filter: drop-shadow(0px 1px 2px rgba(0, 0, 0, 0.3));\n",
              "      fill: #FFFFFF;\n",
              "    }\n",
              "  </style>\n",
              "\n",
              "      <script>\n",
              "        const buttonEl =\n",
              "          document.querySelector('#df-200fd68c-a7fe-4a24-b624-8e92eacea02e button.colab-df-convert');\n",
              "        buttonEl.style.display =\n",
              "          google.colab.kernel.accessAllowed ? 'block' : 'none';\n",
              "\n",
              "        async function convertToInteractive(key) {\n",
              "          const element = document.querySelector('#df-200fd68c-a7fe-4a24-b624-8e92eacea02e');\n",
              "          const dataTable =\n",
              "            await google.colab.kernel.invokeFunction('convertToInteractive',\n",
              "                                                     [key], {});\n",
              "          if (!dataTable) return;\n",
              "\n",
              "          const docLinkHtml = 'Like what you see? Visit the ' +\n",
              "            '<a target=\"_blank\" href=https://colab.research.google.com/notebooks/data_table.ipynb>data table notebook</a>'\n",
              "            + ' to learn more about interactive tables.';\n",
              "          element.innerHTML = '';\n",
              "          dataTable['output_type'] = 'display_data';\n",
              "          await google.colab.output.renderOutput(dataTable, element);\n",
              "          const docLink = document.createElement('div');\n",
              "          docLink.innerHTML = docLinkHtml;\n",
              "          element.appendChild(docLink);\n",
              "        }\n",
              "      </script>\n",
              "    </div>\n",
              "  </div>\n",
              "  "
            ]
          },
          "metadata": {},
          "execution_count": 177
        }
      ]
    },
    {
      "cell_type": "code",
      "source": [
        "fig, ax = plt.subplots(1, 1, figsize=(8, 4))\n",
        "sns.boxplot(x = 'G2', y= 'activities', data = Data, ax=ax)"
      ],
      "metadata": {
        "colab": {
          "base_uri": "https://localhost:8080/",
          "height": 0
        },
        "id": "Cx1ldA13P8O9",
        "outputId": "349985e7-f5a4-4b46-9672-b78dd5cdd526"
      },
      "execution_count": 178,
      "outputs": [
        {
          "output_type": "execute_result",
          "data": {
            "text/plain": [
              "<matplotlib.axes._subplots.AxesSubplot at 0x7fc8b936d510>"
            ]
          },
          "metadata": {},
          "execution_count": 178
        },
        {
          "output_type": "display_data",
          "data": {
            "text/plain": [
              "<Figure size 576x288 with 1 Axes>"
            ],
            "image/png": "[encoded data removed]"
          },
          "metadata": {
            "needs_background": "light"
          }
        }
      ]
    },
    {
      "cell_type": "code",
      "source": [
        "pg.anova(data = Data, dv = 'G2', between = 'activities', detailed = True )"
      ],
      "metadata": {
        "colab": {
          "base_uri": "https://localhost:8080/",
          "height": 0
        },
        "id": "eN-IULQqQZRH",
        "outputId": "e711bcc1-a3a6-40fb-ee3e-97b2a193347a"
      },
      "execution_count": 179,
      "outputs": [
        {
          "output_type": "execute_result",
          "data": {
            "text/plain": [
              "       Source           SS   DF         MS         F     p-unc      np2\n",
              "0  activities    23.889069    1  23.889069  2.833229  0.092817  0.00438\n",
              "1      Within  5430.044368  644   8.431746       NaN       NaN      NaN"
            ],
            "text/html": [
              "\n",
              "  <div id=\"df-ccdbca22-de73-4998-a996-95153dcf1789\">\n",
              "    <div class=\"colab-df-container\">\n",
              "      <div>\n",
              "<style scoped>\n",
              "    .dataframe tbody tr th:only-of-type {\n",
              "        vertical-align: middle;\n",
              "    }\n",
              "\n",
              "    .dataframe tbody tr th {\n",
              "        vertical-align: top;\n",
              "    }\n",
              "\n",
              "    .dataframe thead th {\n",
              "        text-align: right;\n",
              "    }\n",
              "</style>\n",
              "<table border=\"1\" class=\"dataframe\">\n",
              "  <thead>\n",
              "    <tr style=\"text-align: right;\">\n",
              "      <th></th>\n",
              "      <th>Source</th>\n",
              "      <th>SS</th>\n",
              "      <th>DF</th>\n",
              "      <th>MS</th>\n",
              "      <th>F</th>\n",
              "      <th>p-unc</th>\n",
              "      <th>np2</th>\n",
              "    </tr>\n",
              "  </thead>\n",
              "  <tbody>\n",
              "    <tr>\n",
              "      <th>0</th>\n",
              "      <td>activities</td>\n",
              "      <td>23.889069</td>\n",
              "      <td>1</td>\n",
              "      <td>23.889069</td>\n",
              "      <td>2.833229</td>\n",
              "      <td>0.092817</td>\n",
              "      <td>0.00438</td>\n",
              "    </tr>\n",
              "    <tr>\n",
              "      <th>1</th>\n",
              "      <td>Within</td>\n",
              "      <td>5430.044368</td>\n",
              "      <td>644</td>\n",
              "      <td>8.431746</td>\n",
              "      <td>NaN</td>\n",
              "      <td>NaN</td>\n",
              "      <td>NaN</td>\n",
              "    </tr>\n",
              "  </tbody>\n",
              "</table>\n",
              "</div>\n",
              "      <button class=\"colab-df-convert\" onclick=\"convertToInteractive('df-ccdbca22-de73-4998-a996-95153dcf1789')\"\n",
              "              title=\"Convert this dataframe to an interactive table.\"\n",
              "              style=\"display:none;\">\n",
              "        \n",
              "  <svg xmlns=\"http://www.w3.org/2000/svg\" height=\"24px\"viewBox=\"0 0 24 24\"\n",
              "       width=\"24px\">\n",
              "    <path d=\"M0 0h24v24H0V0z\" fill=\"none\"/>\n",
              "    <path d=\"M18.56 5.44l.94 2.06.94-2.06 2.06-.94-2.06-.94-.94-2.06-.94 2.06-2.06.94zm-11 1L8.5 8.5l.94-2.06 2.06-.94-2.06-.94L8.5 2.5l-.94 2.06-2.06.94zm10 10l.94 2.06.94-2.06 2.06-.94-2.06-.94-.94-2.06-.94 2.06-2.06.94z\"/><path d=\"M17.41 7.96l-1.37-1.37c-.4-.4-.92-.59-1.43-.59-.52 0-1.04.2-1.43.59L10.3 9.45l-7.72 7.72c-.78.78-.78 2.05 0 2.83L4 21.41c.39.39.9.59 1.41.59.51 0 1.02-.2 1.41-.59l7.78-7.78 2.81-2.81c.8-.78.8-2.07 0-2.86zM5.41 20L4 18.59l7.72-7.72 1.47 1.35L5.41 20z\"/>\n",
              "  </svg>\n",
              "      </button>\n",
              "      \n",
              "  <style>\n",
              "    .colab-df-container {\n",
              "      display:flex;\n",
              "      flex-wrap:wrap;\n",
              "      gap: 12px;\n",
              "    }\n",
              "\n",
              "    .colab-df-convert {\n",
              "      background-color: #E8F0FE;\n",
              "      border: none;\n",
              "      border-radius: 50%;\n",
              "      cursor: pointer;\n",
              "      display: none;\n",
              "      fill: #1967D2;\n",
              "      height: 32px;\n",
              "      padding: 0 0 0 0;\n",
              "      width: 32px;\n",
              "    }\n",
              "\n",
              "    .colab-df-convert:hover {\n",
              "      background-color: #E2EBFA;\n",
              "      box-shadow: 0px 1px 2px rgba(60, 64, 67, 0.3), 0px 1px 3px 1px rgba(60, 64, 67, 0.15);\n",
              "      fill: #174EA6;\n",
              "    }\n",
              "\n",
              "    [theme=dark] .colab-df-convert {\n",
              "      background-color: #3B4455;\n",
              "      fill: #D2E3FC;\n",
              "    }\n",
              "\n",
              "    [theme=dark] .colab-df-convert:hover {\n",
              "      background-color: #434B5C;\n",
              "      box-shadow: 0px 1px 3px 1px rgba(0, 0, 0, 0.15);\n",
              "      filter: drop-shadow(0px 1px 2px rgba(0, 0, 0, 0.3));\n",
              "      fill: #FFFFFF;\n",
              "    }\n",
              "  </style>\n",
              "\n",
              "      <script>\n",
              "        const buttonEl =\n",
              "          document.querySelector('#df-ccdbca22-de73-4998-a996-95153dcf1789 button.colab-df-convert');\n",
              "        buttonEl.style.display =\n",
              "          google.colab.kernel.accessAllowed ? 'block' : 'none';\n",
              "\n",
              "        async function convertToInteractive(key) {\n",
              "          const element = document.querySelector('#df-ccdbca22-de73-4998-a996-95153dcf1789');\n",
              "          const dataTable =\n",
              "            await google.colab.kernel.invokeFunction('convertToInteractive',\n",
              "                                                     [key], {});\n",
              "          if (!dataTable) return;\n",
              "\n",
              "          const docLinkHtml = 'Like what you see? Visit the ' +\n",
              "            '<a target=\"_blank\" href=https://colab.research.google.com/notebooks/data_table.ipynb>data table notebook</a>'\n",
              "            + ' to learn more about interactive tables.';\n",
              "          element.innerHTML = '';\n",
              "          dataTable['output_type'] = 'display_data';\n",
              "          await google.colab.output.renderOutput(dataTable, element);\n",
              "          const docLink = document.createElement('div');\n",
              "          docLink.innerHTML = docLinkHtml;\n",
              "          element.appendChild(docLink);\n",
              "        }\n",
              "      </script>\n",
              "    </div>\n",
              "  </div>\n",
              "  "
            ]
          },
          "metadata": {},
          "execution_count": 179
        }
      ]
    },
    {
      "cell_type": "code",
      "source": [
        "fig, ax = plt.subplots(1, 1, figsize=(8, 4))\n",
        "sns.boxplot(x = 'G3', y= 'activities', data = Data, ax=ax)"
      ],
      "metadata": {
        "colab": {
          "base_uri": "https://localhost:8080/",
          "height": 0
        },
        "id": "yiecN3vaP-oZ",
        "outputId": "ee11c5fb-9ad5-4352-80e7-b3e5fa773d9a"
      },
      "execution_count": 180,
      "outputs": [
        {
          "output_type": "execute_result",
          "data": {
            "text/plain": [
              "<matplotlib.axes._subplots.AxesSubplot at 0x7fc8b92f4290>"
            ]
          },
          "metadata": {},
          "execution_count": 180
        },
        {
          "output_type": "display_data",
          "data": {
            "text/plain": [
              "<Figure size 576x288 with 1 Axes>"
            ],
            "image/png": "[encoded data removed]"
          },
          "metadata": {
            "needs_background": "light"
          }
        }
      ]
    },
    {
      "cell_type": "code",
      "source": [
        "pg.anova(data = Data, dv = 'G3', between = 'activities', detailed = True )"
      ],
      "metadata": {
        "colab": {
          "base_uri": "https://localhost:8080/",
          "height": 0
        },
        "id": "8ZCC0LtiQcED",
        "outputId": "6cc7e1f3-90a4-471e-8fa1-64c188c76b2e"
      },
      "execution_count": 181,
      "outputs": [
        {
          "output_type": "execute_result",
          "data": {
            "text/plain": [
              "       Source           SS   DF         MS         F     p-unc       np2\n",
              "0  activities    22.899030    1  22.899030  2.205956  0.137968  0.003414\n",
              "1      Within  6685.071558  644  10.380546       NaN       NaN       NaN"
            ],
            "text/html": [
              "\n",
              "  <div id=\"df-1a875dda-ba5e-4189-b83f-97936d263e7c\">\n",
              "    <div class=\"colab-df-container\">\n",
              "      <div>\n",
              "<style scoped>\n",
              "    .dataframe tbody tr th:only-of-type {\n",
              "        vertical-align: middle;\n",
              "    }\n",
              "\n",
              "    .dataframe tbody tr th {\n",
              "        vertical-align: top;\n",
              "    }\n",
              "\n",
              "    .dataframe thead th {\n",
              "        text-align: right;\n",
              "    }\n",
              "</style>\n",
              "<table border=\"1\" class=\"dataframe\">\n",
              "  <thead>\n",
              "    <tr style=\"text-align: right;\">\n",
              "      <th></th>\n",
              "      <th>Source</th>\n",
              "      <th>SS</th>\n",
              "      <th>DF</th>\n",
              "      <th>MS</th>\n",
              "      <th>F</th>\n",
              "      <th>p-unc</th>\n",
              "      <th>np2</th>\n",
              "    </tr>\n",
              "  </thead>\n",
              "  <tbody>\n",
              "    <tr>\n",
              "      <th>0</th>\n",
              "      <td>activities</td>\n",
              "      <td>22.899030</td>\n",
              "      <td>1</td>\n",
              "      <td>22.899030</td>\n",
              "      <td>2.205956</td>\n",
              "      <td>0.137968</td>\n",
              "      <td>0.003414</td>\n",
              "    </tr>\n",
              "    <tr>\n",
              "      <th>1</th>\n",
              "      <td>Within</td>\n",
              "      <td>6685.071558</td>\n",
              "      <td>644</td>\n",
              "      <td>10.380546</td>\n",
              "      <td>NaN</td>\n",
              "      <td>NaN</td>\n",
              "      <td>NaN</td>\n",
              "    </tr>\n",
              "  </tbody>\n",
              "</table>\n",
              "</div>\n",
              "      <button class=\"colab-df-convert\" onclick=\"convertToInteractive('df-1a875dda-ba5e-4189-b83f-97936d263e7c')\"\n",
              "              title=\"Convert this dataframe to an interactive table.\"\n",
              "              style=\"display:none;\">\n",
              "        \n",
              "  <svg xmlns=\"http://www.w3.org/2000/svg\" height=\"24px\"viewBox=\"0 0 24 24\"\n",
              "       width=\"24px\">\n",
              "    <path d=\"M0 0h24v24H0V0z\" fill=\"none\"/>\n",
              "    <path d=\"M18.56 5.44l.94 2.06.94-2.06 2.06-.94-2.06-.94-.94-2.06-.94 2.06-2.06.94zm-11 1L8.5 8.5l.94-2.06 2.06-.94-2.06-.94L8.5 2.5l-.94 2.06-2.06.94zm10 10l.94 2.06.94-2.06 2.06-.94-2.06-.94-.94-2.06-.94 2.06-2.06.94z\"/><path d=\"M17.41 7.96l-1.37-1.37c-.4-.4-.92-.59-1.43-.59-.52 0-1.04.2-1.43.59L10.3 9.45l-7.72 7.72c-.78.78-.78 2.05 0 2.83L4 21.41c.39.39.9.59 1.41.59.51 0 1.02-.2 1.41-.59l7.78-7.78 2.81-2.81c.8-.78.8-2.07 0-2.86zM5.41 20L4 18.59l7.72-7.72 1.47 1.35L5.41 20z\"/>\n",
              "  </svg>\n",
              "      </button>\n",
              "      \n",
              "  <style>\n",
              "    .colab-df-container {\n",
              "      display:flex;\n",
              "      flex-wrap:wrap;\n",
              "      gap: 12px;\n",
              "    }\n",
              "\n",
              "    .colab-df-convert {\n",
              "      background-color: #E8F0FE;\n",
              "      border: none;\n",
              "      border-radius: 50%;\n",
              "      cursor: pointer;\n",
              "      display: none;\n",
              "      fill: #1967D2;\n",
              "      height: 32px;\n",
              "      padding: 0 0 0 0;\n",
              "      width: 32px;\n",
              "    }\n",
              "\n",
              "    .colab-df-convert:hover {\n",
              "      background-color: #E2EBFA;\n",
              "      box-shadow: 0px 1px 2px rgba(60, 64, 67, 0.3), 0px 1px 3px 1px rgba(60, 64, 67, 0.15);\n",
              "      fill: #174EA6;\n",
              "    }\n",
              "\n",
              "    [theme=dark] .colab-df-convert {\n",
              "      background-color: #3B4455;\n",
              "      fill: #D2E3FC;\n",
              "    }\n",
              "\n",
              "    [theme=dark] .colab-df-convert:hover {\n",
              "      background-color: #434B5C;\n",
              "      box-shadow: 0px 1px 3px 1px rgba(0, 0, 0, 0.15);\n",
              "      filter: drop-shadow(0px 1px 2px rgba(0, 0, 0, 0.3));\n",
              "      fill: #FFFFFF;\n",
              "    }\n",
              "  </style>\n",
              "\n",
              "      <script>\n",
              "        const buttonEl =\n",
              "          document.querySelector('#df-1a875dda-ba5e-4189-b83f-97936d263e7c button.colab-df-convert');\n",
              "        buttonEl.style.display =\n",
              "          google.colab.kernel.accessAllowed ? 'block' : 'none';\n",
              "\n",
              "        async function convertToInteractive(key) {\n",
              "          const element = document.querySelector('#df-1a875dda-ba5e-4189-b83f-97936d263e7c');\n",
              "          const dataTable =\n",
              "            await google.colab.kernel.invokeFunction('convertToInteractive',\n",
              "                                                     [key], {});\n",
              "          if (!dataTable) return;\n",
              "\n",
              "          const docLinkHtml = 'Like what you see? Visit the ' +\n",
              "            '<a target=\"_blank\" href=https://colab.research.google.com/notebooks/data_table.ipynb>data table notebook</a>'\n",
              "            + ' to learn more about interactive tables.';\n",
              "          element.innerHTML = '';\n",
              "          dataTable['output_type'] = 'display_data';\n",
              "          await google.colab.output.renderOutput(dataTable, element);\n",
              "          const docLink = document.createElement('div');\n",
              "          docLink.innerHTML = docLinkHtml;\n",
              "          element.appendChild(docLink);\n",
              "        }\n",
              "      </script>\n",
              "    </div>\n",
              "  </div>\n",
              "  "
            ]
          },
          "metadata": {},
          "execution_count": 181
        }
      ]
    },
    {
      "cell_type": "markdown",
      "source": [
        "A un nivel de significancia del $5$%, Se encontro que unicamente el promedio del primer corte presenta una diferencia en media en las modalidades de las actividades extracurriculares, es decir, el hecho que el estudiante tenga o no actividades extracurriculares depende de la nota del primer corte."
      ],
      "metadata": {
        "id": "7WSJzSxSS0x1"
      }
    },
    {
      "cell_type": "markdown",
      "source": [
        "Las variables que son relevantes para el modelo son el colegio, el sexo, si los padren convives, educación de la madre, trabajo de la madre, razon para elegir la escuela, si tiene internet en la casa y el tiempo libre despues de la escuela y la nota del primer corte, de las cuales, para la estimación del modelo que se realizara en el siguiente apartado, se utilizaran las variable colegio, sexo, si los padren viven juntos, si tiene internet en la casa y las nota del primer corte\n"
      ],
      "metadata": {
        "id": "rOQ2bDGqVZCs"
      }
    },
    {
      "cell_type": "markdown",
      "source": [
        "# Algoritmo de clasificación\n"
      ],
      "metadata": {
        "id": "oSW0AX8EV6vD"
      }
    },
    {
      "cell_type": "markdown",
      "source": [
        "- $C:$ Controla la complejidad del modelo. un valor pequeño para $C$ significa un modelo menos completo\n",
        "\n",
        "- $penalty:$ Tipo de regularización, $l_1$ y $l_2$"
      ],
      "metadata": {
        "id": "92qs-eIqebB3"
      }
    },
    {
      "cell_type": "code",
      "source": [
        "selec = ['school', 'sex', 'Pstatus', 'internet', 'G1']"
      ],
      "metadata": {
        "id": "WZELocaOWEz0"
      },
      "execution_count": 182,
      "outputs": []
    },
    {
      "cell_type": "code",
      "source": [
        "school_dummy = pd.get_dummies(Data['school'])\n",
        "sex_dummy = pd.get_dummies(Data['sex'])\n",
        "Pstatus_dummy = pd.get_dummies(Data['Pstatus'])\n",
        "internet_dummy = pd.get_dummies(Data['internet'])"
      ],
      "metadata": {
        "id": "jjle7g72Phcn"
      },
      "execution_count": 183,
      "outputs": []
    },
    {
      "cell_type": "code",
      "source": [
        "school_dummy = school_dummy.loc[:,['GP']] # \n",
        "sex_dummy = sex_dummy.loc[:,['M']] # F: categoria de referencia\n",
        "Pstatus_dummy = Pstatus_dummy.loc[:,['T']] # A\n",
        "internet_dummy = internet_dummy.loc[:,['yes']] # No"
      ],
      "metadata": {
        "id": "0P7Voz-ZP2Q5"
      },
      "execution_count": 184,
      "outputs": []
    },
    {
      "cell_type": "code",
      "source": [
        "G1 = (Data['G1'] - Data['G1'].mean())/np.std(Data['G1'])"
      ],
      "metadata": {
        "id": "BfikSoJQxQ8a"
      },
      "execution_count": 185,
      "outputs": []
    },
    {
      "cell_type": "code",
      "source": [
        "X = np.c_[G1, school_dummy, sex_dummy, Pstatus_dummy, internet_dummy ]"
      ],
      "metadata": {
        "id": "RAUE628GP3dm"
      },
      "execution_count": 186,
      "outputs": []
    },
    {
      "cell_type": "code",
      "source": [
        "y = Data[['activities']]"
      ],
      "metadata": {
        "id": "RNLxURKuSK7X"
      },
      "execution_count": 187,
      "outputs": []
    },
    {
      "cell_type": "code",
      "source": [
        "y = y.replace(['yes', 'no'], [1,0])\n",
        "y = np.c_[y]"
      ],
      "metadata": {
        "id": "tAY8oXN0SULH"
      },
      "execution_count": 188,
      "outputs": []
    },
    {
      "cell_type": "markdown",
      "source": [
        "## Modelo con todo el DataSet\n"
      ],
      "metadata": {
        "id": "97oiOXPTUs_V"
      }
    },
    {
      "cell_type": "code",
      "source": [
        "param_grid = {'C':[.2, .5, .8], 'penalty':['l1', 'l2', 'none']}"
      ],
      "metadata": {
        "id": "Xsev-f1gluSC"
      },
      "execution_count": 189,
      "outputs": []
    },
    {
      "cell_type": "code",
      "source": [
        "grilla = pd.DataFrame()\n",
        "C = []\n",
        "penalty = []"
      ],
      "metadata": {
        "id": "gdTgowJconZn"
      },
      "execution_count": 190,
      "outputs": []
    },
    {
      "cell_type": "code",
      "source": [
        "for i in range(3):\n",
        "  for j in range(3):\n",
        "    C.append(param_grid['C'][i])\n",
        "    penalty.append(param_grid['penalty'][j])"
      ],
      "metadata": {
        "id": "fIqpZB5mn_tA"
      },
      "execution_count": 191,
      "outputs": []
    },
    {
      "cell_type": "code",
      "source": [
        "grilla['C'] = C\n",
        "grilla['penalty'] = penalty\n",
        "grilla['solver'] = ['liblinear', 'lbfgs', 'lbfgs']*3"
      ],
      "metadata": {
        "id": "ZBR6V1QVpVzr"
      },
      "execution_count": 192,
      "outputs": []
    },
    {
      "cell_type": "code",
      "source": [
        "grilla"
      ],
      "metadata": {
        "colab": {
          "base_uri": "https://localhost:8080/",
          "height": 332
        },
        "id": "O7RAuxdiEK1G",
        "outputId": "56279a33-d96d-477c-f924-c03eca4e218e"
      },
      "execution_count": 193,
      "outputs": [
        {
          "output_type": "execute_result",
          "data": {
            "text/plain": [
              "     C penalty     solver\n",
              "0  0.2      l1  liblinear\n",
              "1  0.2      l2      lbfgs\n",
              "2  0.2    none      lbfgs\n",
              "3  0.5      l1  liblinear\n",
              "4  0.5      l2      lbfgs\n",
              "5  0.5    none      lbfgs\n",
              "6  0.8      l1  liblinear\n",
              "7  0.8      l2      lbfgs\n",
              "8  0.8    none      lbfgs"
            ],
            "text/html": [
              "\n",
              "  <div id=\"df-3c351275-5049-471c-9116-70822e7029a7\">\n",
              "    <div class=\"colab-df-container\">\n",
              "      <div>\n",
              "<style scoped>\n",
              "    .dataframe tbody tr th:only-of-type {\n",
              "        vertical-align: middle;\n",
              "    }\n",
              "\n",
              "    .dataframe tbody tr th {\n",
              "        vertical-align: top;\n",
              "    }\n",
              "\n",
              "    .dataframe thead th {\n",
              "        text-align: right;\n",
              "    }\n",
              "</style>\n",
              "<table border=\"1\" class=\"dataframe\">\n",
              "  <thead>\n",
              "    <tr style=\"text-align: right;\">\n",
              "      <th></th>\n",
              "      <th>C</th>\n",
              "      <th>penalty</th>\n",
              "      <th>solver</th>\n",
              "    </tr>\n",
              "  </thead>\n",
              "  <tbody>\n",
              "    <tr>\n",
              "      <th>0</th>\n",
              "      <td>0.2</td>\n",
              "      <td>l1</td>\n",
              "      <td>liblinear</td>\n",
              "    </tr>\n",
              "    <tr>\n",
              "      <th>1</th>\n",
              "      <td>0.2</td>\n",
              "      <td>l2</td>\n",
              "      <td>lbfgs</td>\n",
              "    </tr>\n",
              "    <tr>\n",
              "      <th>2</th>\n",
              "      <td>0.2</td>\n",
              "      <td>none</td>\n",
              "      <td>lbfgs</td>\n",
              "    </tr>\n",
              "    <tr>\n",
              "      <th>3</th>\n",
              "      <td>0.5</td>\n",
              "      <td>l1</td>\n",
              "      <td>liblinear</td>\n",
              "    </tr>\n",
              "    <tr>\n",
              "      <th>4</th>\n",
              "      <td>0.5</td>\n",
              "      <td>l2</td>\n",
              "      <td>lbfgs</td>\n",
              "    </tr>\n",
              "    <tr>\n",
              "      <th>5</th>\n",
              "      <td>0.5</td>\n",
              "      <td>none</td>\n",
              "      <td>lbfgs</td>\n",
              "    </tr>\n",
              "    <tr>\n",
              "      <th>6</th>\n",
              "      <td>0.8</td>\n",
              "      <td>l1</td>\n",
              "      <td>liblinear</td>\n",
              "    </tr>\n",
              "    <tr>\n",
              "      <th>7</th>\n",
              "      <td>0.8</td>\n",
              "      <td>l2</td>\n",
              "      <td>lbfgs</td>\n",
              "    </tr>\n",
              "    <tr>\n",
              "      <th>8</th>\n",
              "      <td>0.8</td>\n",
              "      <td>none</td>\n",
              "      <td>lbfgs</td>\n",
              "    </tr>\n",
              "  </tbody>\n",
              "</table>\n",
              "</div>\n",
              "      <button class=\"colab-df-convert\" onclick=\"convertToInteractive('df-3c351275-5049-471c-9116-70822e7029a7')\"\n",
              "              title=\"Convert this dataframe to an interactive table.\"\n",
              "              style=\"display:none;\">\n",
              "        \n",
              "  <svg xmlns=\"http://www.w3.org/2000/svg\" height=\"24px\"viewBox=\"0 0 24 24\"\n",
              "       width=\"24px\">\n",
              "    <path d=\"M0 0h24v24H0V0z\" fill=\"none\"/>\n",
              "    <path d=\"M18.56 5.44l.94 2.06.94-2.06 2.06-.94-2.06-.94-.94-2.06-.94 2.06-2.06.94zm-11 1L8.5 8.5l.94-2.06 2.06-.94-2.06-.94L8.5 2.5l-.94 2.06-2.06.94zm10 10l.94 2.06.94-2.06 2.06-.94-2.06-.94-.94-2.06-.94 2.06-2.06.94z\"/><path d=\"M17.41 7.96l-1.37-1.37c-.4-.4-.92-.59-1.43-.59-.52 0-1.04.2-1.43.59L10.3 9.45l-7.72 7.72c-.78.78-.78 2.05 0 2.83L4 21.41c.39.39.9.59 1.41.59.51 0 1.02-.2 1.41-.59l7.78-7.78 2.81-2.81c.8-.78.8-2.07 0-2.86zM5.41 20L4 18.59l7.72-7.72 1.47 1.35L5.41 20z\"/>\n",
              "  </svg>\n",
              "      </button>\n",
              "      \n",
              "  <style>\n",
              "    .colab-df-container {\n",
              "      display:flex;\n",
              "      flex-wrap:wrap;\n",
              "      gap: 12px;\n",
              "    }\n",
              "\n",
              "    .colab-df-convert {\n",
              "      background-color: #E8F0FE;\n",
              "      border: none;\n",
              "      border-radius: 50%;\n",
              "      cursor: pointer;\n",
              "      display: none;\n",
              "      fill: #1967D2;\n",
              "      height: 32px;\n",
              "      padding: 0 0 0 0;\n",
              "      width: 32px;\n",
              "    }\n",
              "\n",
              "    .colab-df-convert:hover {\n",
              "      background-color: #E2EBFA;\n",
              "      box-shadow: 0px 1px 2px rgba(60, 64, 67, 0.3), 0px 1px 3px 1px rgba(60, 64, 67, 0.15);\n",
              "      fill: #174EA6;\n",
              "    }\n",
              "\n",
              "    [theme=dark] .colab-df-convert {\n",
              "      background-color: #3B4455;\n",
              "      fill: #D2E3FC;\n",
              "    }\n",
              "\n",
              "    [theme=dark] .colab-df-convert:hover {\n",
              "      background-color: #434B5C;\n",
              "      box-shadow: 0px 1px 3px 1px rgba(0, 0, 0, 0.15);\n",
              "      filter: drop-shadow(0px 1px 2px rgba(0, 0, 0, 0.3));\n",
              "      fill: #FFFFFF;\n",
              "    }\n",
              "  </style>\n",
              "\n",
              "      <script>\n",
              "        const buttonEl =\n",
              "          document.querySelector('#df-3c351275-5049-471c-9116-70822e7029a7 button.colab-df-convert');\n",
              "        buttonEl.style.display =\n",
              "          google.colab.kernel.accessAllowed ? 'block' : 'none';\n",
              "\n",
              "        async function convertToInteractive(key) {\n",
              "          const element = document.querySelector('#df-3c351275-5049-471c-9116-70822e7029a7');\n",
              "          const dataTable =\n",
              "            await google.colab.kernel.invokeFunction('convertToInteractive',\n",
              "                                                     [key], {});\n",
              "          if (!dataTable) return;\n",
              "\n",
              "          const docLinkHtml = 'Like what you see? Visit the ' +\n",
              "            '<a target=\"_blank\" href=https://colab.research.google.com/notebooks/data_table.ipynb>data table notebook</a>'\n",
              "            + ' to learn more about interactive tables.';\n",
              "          element.innerHTML = '';\n",
              "          dataTable['output_type'] = 'display_data';\n",
              "          await google.colab.output.renderOutput(dataTable, element);\n",
              "          const docLink = document.createElement('div');\n",
              "          docLink.innerHTML = docLinkHtml;\n",
              "          element.appendChild(docLink);\n",
              "        }\n",
              "      </script>\n",
              "    </div>\n",
              "  </div>\n",
              "  "
            ]
          },
          "metadata": {},
          "execution_count": 193
        }
      ]
    },
    {
      "cell_type": "code",
      "source": [
        "exactitud_com = []\n",
        "precision_com = []"
      ],
      "metadata": {
        "id": "ruG6HYEaELVz"
      },
      "execution_count": 194,
      "outputs": []
    },
    {
      "cell_type": "code",
      "source": [
        "for i in range(9):\n",
        "  RL = LogisticRegression(C = grilla['C'][i], penalty = grilla['penalty'][i], solver = grilla['solver'][i])\n",
        "  RL.fit(X,y)\n",
        "  y_pred = RL.predict(X)\n",
        "  exactitud_com.append((metrics.accuracy_score(y, y_pred)))\n",
        "  precision_com.append((metrics.precision_score(y, y_pred)))"
      ],
      "metadata": {
        "id": "mKP602R9CTfT"
      },
      "execution_count": null,
      "outputs": []
    },
    {
      "cell_type": "markdown",
      "source": [
        "## Modelo con los datos de entrenamiento"
      ],
      "metadata": {
        "id": "r4Rm0Le4Sl8p"
      }
    },
    {
      "cell_type": "code",
      "source": [
        "exactitud_ent = []\n",
        "precision_ent = []"
      ],
      "metadata": {
        "id": "Cer2aV2rTyum"
      },
      "execution_count": 196,
      "outputs": []
    },
    {
      "cell_type": "code",
      "source": [
        "X_train, X_test, y_train, y_test = train_test_split(X, y, test_size=0.2, random_state=17)"
      ],
      "metadata": {
        "id": "zyazQdzNUEFe"
      },
      "execution_count": 197,
      "outputs": []
    },
    {
      "cell_type": "code",
      "source": [
        "for i in range(9):\n",
        "  RL = LogisticRegression(C = grilla['C'][i], penalty = grilla['penalty'][i], solver = grilla['solver'][i])\n",
        "  RL.fit(X_train,y_train)\n",
        "  y_pred = RL.predict(X_test)\n",
        "  exactitud_ent.append((metrics.accuracy_score(y_test, y_pred)))\n",
        "  precision_ent.append((metrics.precision_score(y_test, y_pred)))"
      ],
      "metadata": {
        "id": "R7uRe5EqUBm6"
      },
      "execution_count": null,
      "outputs": []
    },
    {
      "cell_type": "markdown",
      "source": [
        "## modelo utilizando K Fold Cross Validation"
      ],
      "metadata": {
        "id": "4eF0QpoeU904"
      }
    },
    {
      "cell_type": "code",
      "source": [
        "exactitud_kfold_5 , exactitud_kfold_10 ,precision_kfold_5, precision_kfold_10 = [] , [], [], []"
      ],
      "metadata": {
        "id": "un-AITZpVKFc"
      },
      "execution_count": 212,
      "outputs": []
    },
    {
      "cell_type": "code",
      "source": [
        "for i in range(9):\n",
        "  RL = LogisticRegression(C = grilla['C'][i], penalty = grilla['penalty'][i], solver = grilla['solver'][i])\n",
        "  RL.fit(X_train,y_train)\n",
        "\n",
        "  cv = KFold(n_splits = 5, random_state = 17, shuffle=True)\n",
        "  scores = cross_val_score(RL, X_train, y_train, scoring='precision', cv=cv, n_jobs=-1)\n",
        "  scores2 = cross_val_score(RL, X_train, y_train, scoring='accuracy', cv=cv, n_jobs=-1)\n",
        "  precision_kfold_5.append(abs(np.mean(scores)))\n",
        "  exactitud_kfold_5.append(abs(np.mean(scores2)))\n",
        "\n",
        "  cv = KFold(n_splits = 10, random_state = 17, shuffle=True)\n",
        "  scores = cross_val_score(RL, X_train, y_train, scoring='precision', cv=cv, n_jobs=-1)\n",
        "  scores2 = cross_val_score(RL, X_train, y_train, scoring='accuracy', cv=cv, n_jobs=-1)\n",
        " \n",
        "  precision_kfold_10.append(abs(np.mean(scores)))\n",
        "  exactitud_kfold_10.append(abs(np.mean(scores2)))\n"
      ],
      "metadata": {
        "id": "3-GPS8WBU4x5"
      },
      "execution_count": null,
      "outputs": []
    },
    {
      "cell_type": "code",
      "source": [
        "Cuadro_com = grilla.loc[:,['C', 'penalty']]"
      ],
      "metadata": {
        "id": "3qPuXiuhcCAQ"
      },
      "execution_count": 214,
      "outputs": []
    },
    {
      "cell_type": "code",
      "source": [
        "Cuadro_com['exactitud mod completo'] = exactitud_com \n",
        "Cuadro_com['precision mod completo'] = precision_com \n",
        "Cuadro_com['exactitud mod entrenamiento'] = exactitud_ent \n",
        "Cuadro_com['precision mod entrenamiento'] = precision_ent \n",
        "Cuadro_com['exactitud mod Kfold 5'] = exactitud_kfold_5\n",
        "Cuadro_com['precision mod Kfol 5'] = precision_kfold_5 \n",
        "Cuadro_com['exactitud mod Kfold 10'] = exactitud_kfold_10\n",
        "Cuadro_com['precision mod Kfol 10'] = precision_kfold_10"
      ],
      "metadata": {
        "id": "WkkJSPhNcKoD"
      },
      "execution_count": 215,
      "outputs": []
    },
    {
      "cell_type": "code",
      "source": [
        "Cuadro_com"
      ],
      "metadata": {
        "colab": {
          "base_uri": "https://localhost:8080/",
          "height": 332
        },
        "id": "ZYeJKyZ4afAk",
        "outputId": "b68aec24-8604-4041-8205-dc3f830d1064"
      },
      "execution_count": 216,
      "outputs": [
        {
          "output_type": "execute_result",
          "data": {
            "text/plain": [
              "     C penalty  exactitud mod completo  precision mod completo  \\\n",
              "0  0.2      l1                0.544892                0.536082   \n",
              "1  0.2      l2                0.563467                0.554098   \n",
              "2  0.2    none                0.565015                0.555921   \n",
              "3  0.5      l1                0.558824                0.551724   \n",
              "4  0.5      l2                0.560372                0.551495   \n",
              "5  0.5    none                0.565015                0.555921   \n",
              "6  0.8      l1                0.569659                0.559486   \n",
              "7  0.8      l2                0.565015                0.555921   \n",
              "8  0.8    none                0.565015                0.555921   \n",
              "\n",
              "   exactitud mod entrenamiento  precision mod entrenamiento  \\\n",
              "0                     0.507692                     0.492537   \n",
              "1                     0.484615                     0.469697   \n",
              "2                     0.476923                     0.465753   \n",
              "3                     0.484615                     0.470588   \n",
              "4                     0.476923                     0.465753   \n",
              "5                     0.476923                     0.465753   \n",
              "6                     0.476923                     0.462687   \n",
              "7                     0.476923                     0.465753   \n",
              "8                     0.476923                     0.465753   \n",
              "\n",
              "   exactitud mod Kfold 5  precision mod Kfol 5  exactitud mod Kfold 10  \\\n",
              "0               0.536725              0.545976                0.525452   \n",
              "1               0.558159              0.563152                0.564253   \n",
              "2               0.562061              0.564963                0.548680   \n",
              "3               0.536763              0.538036                0.552602   \n",
              "4               0.560101              0.564500                0.556486   \n",
              "5               0.562061              0.564963                0.548680   \n",
              "6               0.548432              0.549513                0.552564   \n",
              "7               0.560101              0.564500                0.554563   \n",
              "8               0.562061              0.564963                0.548680   \n",
              "\n",
              "   precision mod Kfol 10  \n",
              "0               0.532702  \n",
              "1               0.572275  \n",
              "2               0.555225  \n",
              "3               0.561573  \n",
              "4               0.566282  \n",
              "5               0.555225  \n",
              "6               0.562982  \n",
              "7               0.564776  \n",
              "8               0.555225  "
            ],
            "text/html": [
              "\n",
              "  <div id=\"df-6c0fee5d-4454-4111-a4d2-295904820ec7\">\n",
              "    <div class=\"colab-df-container\">\n",
              "      <div>\n",
              "<style scoped>\n",
              "    .dataframe tbody tr th:only-of-type {\n",
              "        vertical-align: middle;\n",
              "    }\n",
              "\n",
              "    .dataframe tbody tr th {\n",
              "        vertical-align: top;\n",
              "    }\n",
              "\n",
              "    .dataframe thead th {\n",
              "        text-align: right;\n",
              "    }\n",
              "</style>\n",
              "<table border=\"1\" class=\"dataframe\">\n",
              "  <thead>\n",
              "    <tr style=\"text-align: right;\">\n",
              "      <th></th>\n",
              "      <th>C</th>\n",
              "      <th>penalty</th>\n",
              "      <th>exactitud mod completo</th>\n",
              "      <th>precision mod completo</th>\n",
              "      <th>exactitud mod entrenamiento</th>\n",
              "      <th>precision mod entrenamiento</th>\n",
              "      <th>exactitud mod Kfold 5</th>\n",
              "      <th>precision mod Kfol 5</th>\n",
              "      <th>exactitud mod Kfold 10</th>\n",
              "      <th>precision mod Kfol 10</th>\n",
              "    </tr>\n",
              "  </thead>\n",
              "  <tbody>\n",
              "    <tr>\n",
              "      <th>0</th>\n",
              "      <td>0.2</td>\n",
              "      <td>l1</td>\n",
              "      <td>0.544892</td>\n",
              "      <td>0.536082</td>\n",
              "      <td>0.507692</td>\n",
              "      <td>0.492537</td>\n",
              "      <td>0.536725</td>\n",
              "      <td>0.545976</td>\n",
              "      <td>0.525452</td>\n",
              "      <td>0.532702</td>\n",
              "    </tr>\n",
              "    <tr>\n",
              "      <th>1</th>\n",
              "      <td>0.2</td>\n",
              "      <td>l2</td>\n",
              "      <td>0.563467</td>\n",
              "      <td>0.554098</td>\n",
              "      <td>0.484615</td>\n",
              "      <td>0.469697</td>\n",
              "      <td>0.558159</td>\n",
              "      <td>0.563152</td>\n",
              "      <td>0.564253</td>\n",
              "      <td>0.572275</td>\n",
              "    </tr>\n",
              "    <tr>\n",
              "      <th>2</th>\n",
              "      <td>0.2</td>\n",
              "      <td>none</td>\n",
              "      <td>0.565015</td>\n",
              "      <td>0.555921</td>\n",
              "      <td>0.476923</td>\n",
              "      <td>0.465753</td>\n",
              "      <td>0.562061</td>\n",
              "      <td>0.564963</td>\n",
              "      <td>0.548680</td>\n",
              "      <td>0.555225</td>\n",
              "    </tr>\n",
              "    <tr>\n",
              "      <th>3</th>\n",
              "      <td>0.5</td>\n",
              "      <td>l1</td>\n",
              "      <td>0.558824</td>\n",
              "      <td>0.551724</td>\n",
              "      <td>0.484615</td>\n",
              "      <td>0.470588</td>\n",
              "      <td>0.536763</td>\n",
              "      <td>0.538036</td>\n",
              "      <td>0.552602</td>\n",
              "      <td>0.561573</td>\n",
              "    </tr>\n",
              "    <tr>\n",
              "      <th>4</th>\n",
              "      <td>0.5</td>\n",
              "      <td>l2</td>\n",
              "      <td>0.560372</td>\n",
              "      <td>0.551495</td>\n",
              "      <td>0.476923</td>\n",
              "      <td>0.465753</td>\n",
              "      <td>0.560101</td>\n",
              "      <td>0.564500</td>\n",
              "      <td>0.556486</td>\n",
              "      <td>0.566282</td>\n",
              "    </tr>\n",
              "    <tr>\n",
              "      <th>5</th>\n",
              "      <td>0.5</td>\n",
              "      <td>none</td>\n",
              "      <td>0.565015</td>\n",
              "      <td>0.555921</td>\n",
              "      <td>0.476923</td>\n",
              "      <td>0.465753</td>\n",
              "      <td>0.562061</td>\n",
              "      <td>0.564963</td>\n",
              "      <td>0.548680</td>\n",
              "      <td>0.555225</td>\n",
              "    </tr>\n",
              "    <tr>\n",
              "      <th>6</th>\n",
              "      <td>0.8</td>\n",
              "      <td>l1</td>\n",
              "      <td>0.569659</td>\n",
              "      <td>0.559486</td>\n",
              "      <td>0.476923</td>\n",
              "      <td>0.462687</td>\n",
              "      <td>0.548432</td>\n",
              "      <td>0.549513</td>\n",
              "      <td>0.552564</td>\n",
              "      <td>0.562982</td>\n",
              "    </tr>\n",
              "    <tr>\n",
              "      <th>7</th>\n",
              "      <td>0.8</td>\n",
              "      <td>l2</td>\n",
              "      <td>0.565015</td>\n",
              "      <td>0.555921</td>\n",
              "      <td>0.476923</td>\n",
              "      <td>0.465753</td>\n",
              "      <td>0.560101</td>\n",
              "      <td>0.564500</td>\n",
              "      <td>0.554563</td>\n",
              "      <td>0.564776</td>\n",
              "    </tr>\n",
              "    <tr>\n",
              "      <th>8</th>\n",
              "      <td>0.8</td>\n",
              "      <td>none</td>\n",
              "      <td>0.565015</td>\n",
              "      <td>0.555921</td>\n",
              "      <td>0.476923</td>\n",
              "      <td>0.465753</td>\n",
              "      <td>0.562061</td>\n",
              "      <td>0.564963</td>\n",
              "      <td>0.548680</td>\n",
              "      <td>0.555225</td>\n",
              "    </tr>\n",
              "  </tbody>\n",
              "</table>\n",
              "</div>\n",
              "      <button class=\"colab-df-convert\" onclick=\"convertToInteractive('df-6c0fee5d-4454-4111-a4d2-295904820ec7')\"\n",
              "              title=\"Convert this dataframe to an interactive table.\"\n",
              "              style=\"display:none;\">\n",
              "        \n",
              "  <svg xmlns=\"http://www.w3.org/2000/svg\" height=\"24px\"viewBox=\"0 0 24 24\"\n",
              "       width=\"24px\">\n",
              "    <path d=\"M0 0h24v24H0V0z\" fill=\"none\"/>\n",
              "    <path d=\"M18.56 5.44l.94 2.06.94-2.06 2.06-.94-2.06-.94-.94-2.06-.94 2.06-2.06.94zm-11 1L8.5 8.5l.94-2.06 2.06-.94-2.06-.94L8.5 2.5l-.94 2.06-2.06.94zm10 10l.94 2.06.94-2.06 2.06-.94-2.06-.94-.94-2.06-.94 2.06-2.06.94z\"/><path d=\"M17.41 7.96l-1.37-1.37c-.4-.4-.92-.59-1.43-.59-.52 0-1.04.2-1.43.59L10.3 9.45l-7.72 7.72c-.78.78-.78 2.05 0 2.83L4 21.41c.39.39.9.59 1.41.59.51 0 1.02-.2 1.41-.59l7.78-7.78 2.81-2.81c.8-.78.8-2.07 0-2.86zM5.41 20L4 18.59l7.72-7.72 1.47 1.35L5.41 20z\"/>\n",
              "  </svg>\n",
              "      </button>\n",
              "      \n",
              "  <style>\n",
              "    .colab-df-container {\n",
              "      display:flex;\n",
              "      flex-wrap:wrap;\n",
              "      gap: 12px;\n",
              "    }\n",
              "\n",
              "    .colab-df-convert {\n",
              "      background-color: #E8F0FE;\n",
              "      border: none;\n",
              "      border-radius: 50%;\n",
              "      cursor: pointer;\n",
              "      display: none;\n",
              "      fill: #1967D2;\n",
              "      height: 32px;\n",
              "      padding: 0 0 0 0;\n",
              "      width: 32px;\n",
              "    }\n",
              "\n",
              "    .colab-df-convert:hover {\n",
              "      background-color: #E2EBFA;\n",
              "      box-shadow: 0px 1px 2px rgba(60, 64, 67, 0.3), 0px 1px 3px 1px rgba(60, 64, 67, 0.15);\n",
              "      fill: #174EA6;\n",
              "    }\n",
              "\n",
              "    [theme=dark] .colab-df-convert {\n",
              "      background-color: #3B4455;\n",
              "      fill: #D2E3FC;\n",
              "    }\n",
              "\n",
              "    [theme=dark] .colab-df-convert:hover {\n",
              "      background-color: #434B5C;\n",
              "      box-shadow: 0px 1px 3px 1px rgba(0, 0, 0, 0.15);\n",
              "      filter: drop-shadow(0px 1px 2px rgba(0, 0, 0, 0.3));\n",
              "      fill: #FFFFFF;\n",
              "    }\n",
              "  </style>\n",
              "\n",
              "      <script>\n",
              "        const buttonEl =\n",
              "          document.querySelector('#df-6c0fee5d-4454-4111-a4d2-295904820ec7 button.colab-df-convert');\n",
              "        buttonEl.style.display =\n",
              "          google.colab.kernel.accessAllowed ? 'block' : 'none';\n",
              "\n",
              "        async function convertToInteractive(key) {\n",
              "          const element = document.querySelector('#df-6c0fee5d-4454-4111-a4d2-295904820ec7');\n",
              "          const dataTable =\n",
              "            await google.colab.kernel.invokeFunction('convertToInteractive',\n",
              "                                                     [key], {});\n",
              "          if (!dataTable) return;\n",
              "\n",
              "          const docLinkHtml = 'Like what you see? Visit the ' +\n",
              "            '<a target=\"_blank\" href=https://colab.research.google.com/notebooks/data_table.ipynb>data table notebook</a>'\n",
              "            + ' to learn more about interactive tables.';\n",
              "          element.innerHTML = '';\n",
              "          dataTable['output_type'] = 'display_data';\n",
              "          await google.colab.output.renderOutput(dataTable, element);\n",
              "          const docLink = document.createElement('div');\n",
              "          docLink.innerHTML = docLinkHtml;\n",
              "          element.appendChild(docLink);\n",
              "        }\n",
              "      </script>\n",
              "    </div>\n",
              "  </div>\n",
              "  "
            ]
          },
          "metadata": {},
          "execution_count": 216
        }
      ]
    },
    {
      "cell_type": "markdown",
      "source": [
        "# Selección del modelo"
      ],
      "metadata": {
        "id": "JIG2CVLSd_y7"
      }
    },
    {
      "cell_type": "code",
      "source": [
        "Promedio_Exactitud = (Cuadro_com['exactitud mod completo'] + Cuadro_com['exactitud mod entrenamiento'] \n",
        "+ Cuadro_com['exactitud mod Kfold 5'] + Cuadro_com['exactitud mod Kfold 10'])/4"
      ],
      "metadata": {
        "id": "jCdkA_UDf8b8"
      },
      "execution_count": 217,
      "outputs": []
    },
    {
      "cell_type": "code",
      "source": [
        "Promedio_precision = (Cuadro_com['precision mod completo'] + Cuadro_com['precision mod entrenamiento'] \n",
        "+ Cuadro_com['precision mod Kfol 5'] + Cuadro_com['precision mod Kfol 10'])/4"
      ],
      "metadata": {
        "id": "w6cj3c_dgjUx"
      },
      "execution_count": 218,
      "outputs": []
    },
    {
      "cell_type": "code",
      "source": [
        "Final = Cuadro_com.loc[:, ['C', 'penalty']]\n",
        "Final['Exactitud promedio'] = Promedio_Exactitud\n",
        "Final['Precisión promedio'] = Promedio_precision"
      ],
      "metadata": {
        "id": "f3y1JFRKgW72"
      },
      "execution_count": 219,
      "outputs": []
    },
    {
      "cell_type": "code",
      "source": [
        "Final.iloc[[0,1,2,3,4,6,7]].sort_values(by = 'Exactitud promedio')"
      ],
      "metadata": {
        "colab": {
          "base_uri": "https://localhost:8080/",
          "height": 269
        },
        "id": "VMHlu7xpg8LF",
        "outputId": "06f6aeee-b6dc-42f7-ee0f-02b93f5df179"
      },
      "execution_count": 220,
      "outputs": [
        {
          "output_type": "execute_result",
          "data": {
            "text/plain": [
              "     C penalty  Exactitud promedio  Precisión promedio\n",
              "0  0.2      l1            0.528690            0.526824\n",
              "3  0.5      l1            0.533201            0.530480\n",
              "6  0.8      l1            0.536895            0.533667\n",
              "2  0.2    none            0.538170            0.535466\n",
              "4  0.5      l2            0.538470            0.537008\n",
              "7  0.8      l2            0.539150            0.537738\n",
              "1  0.2      l2            0.542624            0.539806"
            ],
            "text/html": [
              "\n",
              "  <div id=\"df-a07329dc-6695-4c08-a3d3-5c9c279ec994\">\n",
              "    <div class=\"colab-df-container\">\n",
              "      <div>\n",
              "<style scoped>\n",
              "    .dataframe tbody tr th:only-of-type {\n",
              "        vertical-align: middle;\n",
              "    }\n",
              "\n",
              "    .dataframe tbody tr th {\n",
              "        vertical-align: top;\n",
              "    }\n",
              "\n",
              "    .dataframe thead th {\n",
              "        text-align: right;\n",
              "    }\n",
              "</style>\n",
              "<table border=\"1\" class=\"dataframe\">\n",
              "  <thead>\n",
              "    <tr style=\"text-align: right;\">\n",
              "      <th></th>\n",
              "      <th>C</th>\n",
              "      <th>penalty</th>\n",
              "      <th>Exactitud promedio</th>\n",
              "      <th>Precisión promedio</th>\n",
              "    </tr>\n",
              "  </thead>\n",
              "  <tbody>\n",
              "    <tr>\n",
              "      <th>0</th>\n",
              "      <td>0.2</td>\n",
              "      <td>l1</td>\n",
              "      <td>0.528690</td>\n",
              "      <td>0.526824</td>\n",
              "    </tr>\n",
              "    <tr>\n",
              "      <th>3</th>\n",
              "      <td>0.5</td>\n",
              "      <td>l1</td>\n",
              "      <td>0.533201</td>\n",
              "      <td>0.530480</td>\n",
              "    </tr>\n",
              "    <tr>\n",
              "      <th>6</th>\n",
              "      <td>0.8</td>\n",
              "      <td>l1</td>\n",
              "      <td>0.536895</td>\n",
              "      <td>0.533667</td>\n",
              "    </tr>\n",
              "    <tr>\n",
              "      <th>2</th>\n",
              "      <td>0.2</td>\n",
              "      <td>none</td>\n",
              "      <td>0.538170</td>\n",
              "      <td>0.535466</td>\n",
              "    </tr>\n",
              "    <tr>\n",
              "      <th>4</th>\n",
              "      <td>0.5</td>\n",
              "      <td>l2</td>\n",
              "      <td>0.538470</td>\n",
              "      <td>0.537008</td>\n",
              "    </tr>\n",
              "    <tr>\n",
              "      <th>7</th>\n",
              "      <td>0.8</td>\n",
              "      <td>l2</td>\n",
              "      <td>0.539150</td>\n",
              "      <td>0.537738</td>\n",
              "    </tr>\n",
              "    <tr>\n",
              "      <th>1</th>\n",
              "      <td>0.2</td>\n",
              "      <td>l2</td>\n",
              "      <td>0.542624</td>\n",
              "      <td>0.539806</td>\n",
              "    </tr>\n",
              "  </tbody>\n",
              "</table>\n",
              "</div>\n",
              "      <button class=\"colab-df-convert\" onclick=\"convertToInteractive('df-a07329dc-6695-4c08-a3d3-5c9c279ec994')\"\n",
              "              title=\"Convert this dataframe to an interactive table.\"\n",
              "              style=\"display:none;\">\n",
              "        \n",
              "  <svg xmlns=\"http://www.w3.org/2000/svg\" height=\"24px\"viewBox=\"0 0 24 24\"\n",
              "       width=\"24px\">\n",
              "    <path d=\"M0 0h24v24H0V0z\" fill=\"none\"/>\n",
              "    <path d=\"M18.56 5.44l.94 2.06.94-2.06 2.06-.94-2.06-.94-.94-2.06-.94 2.06-2.06.94zm-11 1L8.5 8.5l.94-2.06 2.06-.94-2.06-.94L8.5 2.5l-.94 2.06-2.06.94zm10 10l.94 2.06.94-2.06 2.06-.94-2.06-.94-.94-2.06-.94 2.06-2.06.94z\"/><path d=\"M17.41 7.96l-1.37-1.37c-.4-.4-.92-.59-1.43-.59-.52 0-1.04.2-1.43.59L10.3 9.45l-7.72 7.72c-.78.78-.78 2.05 0 2.83L4 21.41c.39.39.9.59 1.41.59.51 0 1.02-.2 1.41-.59l7.78-7.78 2.81-2.81c.8-.78.8-2.07 0-2.86zM5.41 20L4 18.59l7.72-7.72 1.47 1.35L5.41 20z\"/>\n",
              "  </svg>\n",
              "      </button>\n",
              "      \n",
              "  <style>\n",
              "    .colab-df-container {\n",
              "      display:flex;\n",
              "      flex-wrap:wrap;\n",
              "      gap: 12px;\n",
              "    }\n",
              "\n",
              "    .colab-df-convert {\n",
              "      background-color: #E8F0FE;\n",
              "      border: none;\n",
              "      border-radius: 50%;\n",
              "      cursor: pointer;\n",
              "      display: none;\n",
              "      fill: #1967D2;\n",
              "      height: 32px;\n",
              "      padding: 0 0 0 0;\n",
              "      width: 32px;\n",
              "    }\n",
              "\n",
              "    .colab-df-convert:hover {\n",
              "      background-color: #E2EBFA;\n",
              "      box-shadow: 0px 1px 2px rgba(60, 64, 67, 0.3), 0px 1px 3px 1px rgba(60, 64, 67, 0.15);\n",
              "      fill: #174EA6;\n",
              "    }\n",
              "\n",
              "    [theme=dark] .colab-df-convert {\n",
              "      background-color: #3B4455;\n",
              "      fill: #D2E3FC;\n",
              "    }\n",
              "\n",
              "    [theme=dark] .colab-df-convert:hover {\n",
              "      background-color: #434B5C;\n",
              "      box-shadow: 0px 1px 3px 1px rgba(0, 0, 0, 0.15);\n",
              "      filter: drop-shadow(0px 1px 2px rgba(0, 0, 0, 0.3));\n",
              "      fill: #FFFFFF;\n",
              "    }\n",
              "  </style>\n",
              "\n",
              "      <script>\n",
              "        const buttonEl =\n",
              "          document.querySelector('#df-a07329dc-6695-4c08-a3d3-5c9c279ec994 button.colab-df-convert');\n",
              "        buttonEl.style.display =\n",
              "          google.colab.kernel.accessAllowed ? 'block' : 'none';\n",
              "\n",
              "        async function convertToInteractive(key) {\n",
              "          const element = document.querySelector('#df-a07329dc-6695-4c08-a3d3-5c9c279ec994');\n",
              "          const dataTable =\n",
              "            await google.colab.kernel.invokeFunction('convertToInteractive',\n",
              "                                                     [key], {});\n",
              "          if (!dataTable) return;\n",
              "\n",
              "          const docLinkHtml = 'Like what you see? Visit the ' +\n",
              "            '<a target=\"_blank\" href=https://colab.research.google.com/notebooks/data_table.ipynb>data table notebook</a>'\n",
              "            + ' to learn more about interactive tables.';\n",
              "          element.innerHTML = '';\n",
              "          dataTable['output_type'] = 'display_data';\n",
              "          await google.colab.output.renderOutput(dataTable, element);\n",
              "          const docLink = document.createElement('div');\n",
              "          docLink.innerHTML = docLinkHtml;\n",
              "          element.appendChild(docLink);\n",
              "        }\n",
              "      </script>\n",
              "    </div>\n",
              "  </div>\n",
              "  "
            ]
          },
          "metadata": {},
          "execution_count": 220
        }
      ]
    },
    {
      "cell_type": "markdown",
      "source": [
        "El mejor modelo según las metricas de precisión y exactitud fue el que se estimo por medio de la regularización $l_2$ con un valor de $C$ de $0.2$, el cual tiene una exactitud del $54.2624$% y una precisión de $53.9806$%, sin embargo, en comparación con el modelo que no usa ningún tipo de regularización no presenta cambios abruptos en terminos de estas metricas, ademas, este ultimo modelo es interpretable porque para su construcción no se penalizan los coeficiente, por lo tanto, es el modelo seleccionado."
      ],
      "metadata": {
        "id": "9PrxFJCPiM5p"
      }
    },
    {
      "cell_type": "markdown",
      "source": [
        "## Interpretación del modelo\n",
        "\n",
        "Con la finalidad de modelar si el estudiante tiene o no actividades extracurriculares, se utiliza como variables explicativas de un modelo de regresión logística el colegio, el sexo, si los padres viven juntos, si tiene internet en casa y el promedio del primer periodo en la nota de portugués."
      ],
      "metadata": {
        "id": "h9dgf4Y3lTTM"
      }
    },
    {
      "cell_type": "code",
      "source": [
        "RL = LogisticRegression(C = 0.2)\n",
        "RL.fit(X_train,y_train)"
      ],
      "metadata": {
        "id": "mT2iCDFelZn2"
      },
      "execution_count": null,
      "outputs": []
    },
    {
      "cell_type": "code",
      "source": [
        "RL.intercept_.round(3), RL.coef_.round(3)"
      ],
      "metadata": {
        "colab": {
          "base_uri": "https://localhost:8080/"
        },
        "id": "YrKQC8gCnG12",
        "outputId": "ab6df41c-ef36-4358-8827-69c72ff54829"
      },
      "execution_count": 229,
      "outputs": [
        {
          "output_type": "execute_result",
          "data": {
            "text/plain": [
              "(array([-0.965]), array([[0.222, 0.244, 0.488, 0.445, 0.228]]))"
            ]
          },
          "metadata": {},
          "execution_count": 229
        }
      ]
    },
    {
      "cell_type": "markdown",
      "source": [
        "Obteniendo el siguiente modelo:\n",
        "$$log(\\frac{\\pi}{1-\\pi})=-0.965 + 0.222x_{colegio}+\n",
        "0.224x_{sexo}+ 0.448x_{estado}+ 0.445_{internet} + 0.228x_{nota}$$\n",
        "\n",
        "Con $\\pi$ como la probabilidad de que el estudiante tenga actividades curriculares."
      ],
      "metadata": {
        "id": "FuAjQhBPoX64"
      }
    },
    {
      "cell_type": "markdown",
      "source": [
        "En cuanto a la interpretación del modelo, cuando el estudiante pertenece al colegio MS, es niña, sus padres viven separados, no tiene internet y su nota en el primer periodo de portugues es cero, se estima que el logaritmo del odds es $-0.965$.\n",
        "\n",
        "Cuando el estudiante pertece al colegio GP, se espera el logaritmo del odds aumente en 0.002 unidades en comparación a si el estudiante perteneciera al colegio MS, manteniendo constante las demas variables. Por otra parte, si el estudiante es hombre se espera que logaritmo del odd aumente en 0.224 unidades en comparación a si fuera mujer, dejando constante el resto de variables, en cuanto al estado en el se encuentran sus padres, si sus padres se encuentran juntos, el logaritmo del odd aumenta en 0.448 unidades en comparación a si sus padres estan separados, esto tambien, manteniendo las demas variables constantes. Si tiene internet en la casa, se espera que el logaritmo del odds aumente en 0.445 unidades en comparación a si no tiene internet manteniendo las demas variables constantes, por ultimo, en cuando la nota del primer corte, cuando esta aumenta en una unidad, se espera que el logaritmo del odd aumente en 0.228 unidades, esto tambien, manteniendo las demás variables constantes.\n",
        "\n",
        "\n"
      ],
      "metadata": {
        "id": "rzMCqX4MniGW"
      }
    }
  ]
}