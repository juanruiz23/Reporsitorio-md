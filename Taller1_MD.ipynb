{
 "cells": [
  {
   "cell_type": "code",
   "execution_count": 21,
   "id": "617c2c7b",
   "metadata": {},
   "outputs": [
    {
     "name": "stdout",
     "output_type": "stream",
     "text": [
      "Requirement already satisfied: dfply in c:\\users\\hp\\anaconda3\\lib\\site-packages (0.3.3)\n",
      "Requirement already satisfied: numpy in c:\\users\\hp\\anaconda3\\lib\\site-packages (from dfply) (1.21.5)\n",
      "Requirement already satisfied: pandas in c:\\users\\hp\\anaconda3\\lib\\site-packages (from dfply) (1.4.2)\n",
      "Requirement already satisfied: python-dateutil>=2.8.1 in c:\\users\\hp\\anaconda3\\lib\\site-packages (from pandas->dfply) (2.8.2)\n",
      "Requirement already satisfied: pytz>=2020.1 in c:\\users\\hp\\anaconda3\\lib\\site-packages (from pandas->dfply) (2021.3)\n",
      "Requirement already satisfied: six>=1.5 in c:\\users\\hp\\anaconda3\\lib\\site-packages (from python-dateutil>=2.8.1->pandas->dfply) (1.16.0)\n"
     ]
    }
   ],
   "source": [
    "!pip install dfply"
   ]
  },
  {
   "cell_type": "code",
   "execution_count": 22,
   "id": "cfbfc397",
   "metadata": {},
   "outputs": [],
   "source": [
    "import numpy as np\n",
    "from math import factorial\n",
    "from itertools import combinations\n",
    "import pandas as pd\n",
    "from dfply import *"
   ]
  },
  {
   "cell_type": "code",
   "execution_count": 5,
   "id": "ab715de4",
   "metadata": {},
   "outputs": [],
   "source": [
    "###############\n",
    "# Ejercicio 1 #\n",
    "###############"
   ]
  },
  {
   "cell_type": "code",
   "execution_count": 6,
   "id": "25a8f1fe",
   "metadata": {},
   "outputs": [],
   "source": [
    "def convertidor(f):\n",
    "    # f: Grados Fahrenheit (Puede ser un vector o un escalar)\n",
    "    # retorna la conversión de grados Fahrenheit a centígrados\n",
    "    print('f°','  ','c°')\n",
    "    for i in range(len(f)):\n",
    "        c = (5/9) * (f[i] - 32)\n",
    "        print(f[i],'  ',c)"
   ]
  },
  {
   "cell_type": "code",
   "execution_count": 7,
   "id": "852cdd11",
   "metadata": {},
   "outputs": [
    {
     "name": "stdout",
     "output_type": "stream",
     "text": [
      "f°    c°\n",
      "0    -17.77777777777778\n",
      "10    -12.222222222222223\n",
      "15    -9.444444444444445\n"
     ]
    }
   ],
   "source": [
    "convertidor([0,10,15])"
   ]
  },
  {
   "cell_type": "code",
   "execution_count": 8,
   "id": "233f452a",
   "metadata": {},
   "outputs": [],
   "source": [
    "###############\n",
    "# Ejercicio 2 #\n",
    "###############"
   ]
  },
  {
   "cell_type": "code",
   "execution_count": 9,
   "id": "384466cb",
   "metadata": {},
   "outputs": [],
   "source": [
    "def contraseña():  \n",
    "    # Al correr la linea se le pidara al usuario que ingrese una contraseña.\n",
    "    # Retorna Si la constraseña es correcta, en caso de no serlo, devuelve\n",
    "    # la razón por la cual no lo es.\n",
    "    Palabra = input('Introduzca una constraseña ')  \n",
    "    Caracter = ['*','_','!','$','%']\n",
    "    Logico_num = np.zeros(shape = len(Palabra)) ; Logico_may = np.zeros(shape = len(Palabra))\n",
    "    Logico_car = list()\n",
    "    for i in range(len(Palabra)):\n",
    "        Palabra = list(Palabra)\n",
    "        Logico_num[i] = Palabra[i].isdigit()\n",
    "        Logico_may[i] = Palabra[i].isupper()\n",
    "        for j in range(len(Caracter)):\n",
    "          Logico_car.append(Palabra[i] == Caracter[j])\n",
    "        \n",
    "    can_numero = Logico_num.sum() ; can_may = Logico_may.sum() ; can_car = np.array(Logico_car).sum()\n",
    "\n",
    "    if can_numero >= 1:\n",
    "        if can_may >= 1:\n",
    "            if can_car >= 1:\n",
    "                print('Constraseña aceptada')\n",
    "            else:\n",
    "                print('Falta al menos uno de los siguientes carácter especiales : *, _ , !, $, % ')\n",
    "        else:\n",
    "            print('Falta al menos una mayúscula')\n",
    "    else:\n",
    "        print('Falta al menos un carácter numérico')"
   ]
  },
  {
   "cell_type": "code",
   "execution_count": 10,
   "id": "4bde9c8d",
   "metadata": {},
   "outputs": [
    {
     "name": "stdout",
     "output_type": "stream",
     "text": [
      "Introduzca una constraseña Hola20\n",
      "Falta al menos uno de los siguientes carácter especiales : *, _ , !, $, % \n"
     ]
    }
   ],
   "source": [
    "contraseña()"
   ]
  },
  {
   "cell_type": "code",
   "execution_count": 11,
   "id": "429b1644",
   "metadata": {},
   "outputs": [
    {
     "name": "stdout",
     "output_type": "stream",
     "text": [
      "Introduzca una constraseña CadaDiaQu3Pasa!\n",
      "Constraseña aceptada\n"
     ]
    }
   ],
   "source": [
    "contraseña()"
   ]
  },
  {
   "cell_type": "code",
   "execution_count": 13,
   "id": "93ee95b9",
   "metadata": {},
   "outputs": [
    {
     "name": "stdout",
     "output_type": "stream",
     "text": [
      "Introduzca una constraseña soloMilo$$\n",
      "Falta al menos un carácter numérico\n"
     ]
    }
   ],
   "source": [
    "contraseña()"
   ]
  },
  {
   "cell_type": "code",
   "execution_count": 15,
   "id": "b55a5867",
   "metadata": {},
   "outputs": [
    {
     "name": "stdout",
     "output_type": "stream",
     "text": [
      "Introduzca una constraseña latierran0esplana!\n",
      "Falta al menos una mayúscula\n"
     ]
    }
   ],
   "source": [
    "contraseña()"
   ]
  },
  {
   "cell_type": "code",
   "execution_count": 17,
   "id": "049148c5",
   "metadata": {},
   "outputs": [
    {
     "name": "stdout",
     "output_type": "stream",
     "text": [
      "Introduzca una constraseña Cr7_the_best\n",
      "Constraseña aceptada\n"
     ]
    }
   ],
   "source": [
    "contraseña()"
   ]
  },
  {
   "cell_type": "code",
   "execution_count": 18,
   "id": "e1279ce7",
   "metadata": {},
   "outputs": [],
   "source": [
    "##############\n",
    "# Ejercicio 3#\n",
    "##############"
   ]
  },
  {
   "cell_type": "code",
   "execution_count": 23,
   "id": "4a256f54",
   "metadata": {},
   "outputs": [],
   "source": [
    "def ahorro():\n",
    "  # No es necesario introducir ningun argumento en la función.\n",
    "  # La función devuelve la forma de adquirir 6 libros sacando la mayor ganancia posible.\n",
    "  Libros = ['1', '2', '3', '4', '5', '6']\n",
    "  temp = list(combinations(Libros,3)) \n",
    "  Libros_precio = pd.Series([50000, 30000, 80000, 20000, 100000, 40000], index = Libros)\n",
    "  Suma , Minimo, Minimo_dobles = [], [], [] \n",
    "  for j in range(20):\n",
    "    Suma.append(Libros_precio[temp[j][0]] + Libros_precio[temp[j][1]] + Libros_precio[temp[j][2]])\n",
    "    Minimo.append(min([Libros_precio[temp[j][0]], Libros_precio[temp[j][1]], Libros_precio[temp[j][2]]]))\n",
    "  dobles = list(combinations(temp, 2))\n",
    "  Minimos_comb = pd.Series(Minimo, index = temp)\n",
    "  Almacenamiento = {'1':[0], '2':[0], '3':[0], '4':[0], '5':[0], '6':[0],}\n",
    "  Almacenamiento = pd.DataFrame(Almacenamiento)\n",
    "  for j in range(190):\n",
    "    Minimo_dobles.append(Minimos_comb[dobles[j][0]] + Minimos_comb[dobles[j][1]])\n",
    "    Nueva_fila = {'1' : dobles[j][0][0], '2' : dobles[j][0][1], '3' : dobles[j][0][2], '4' : dobles[j][1][0], '5' : dobles[j][1][1],'6': dobles[j][1][2]}\n",
    "    Almacenamiento = Almacenamiento.append(Nueva_fila, ignore_index=True)    \n",
    "  Almacenamiento = Almacenamiento.drop([0],axis=0)\n",
    "  Almacenamiento['Ahorro'] = Minimo_dobles\n",
    "  Almacenamiento.columns = ['var1','var2','var3','var4', 'var5', 'var6', 'Ahorro']\n",
    "  Almacenamiento = Almacenamiento.astype({'var1': 'int32', 'var2': 'int32', 'var3': 'int32', 'var4': 'int32', 'var5': 'int32', 'var6': 'int32'})\n",
    "  Base = (Almacenamiento >>\n",
    "        mutate(con = X.var1 + X.var2 + X.var3 + X.var4 + X.var5 + X.var6, \n",
    "               prod = X.var1 * X.var2 * X.var3 * X.var4 * X.var5 * X.var6))\n",
    "  Logico = Base['con'] + Base['prod'] == 741\n",
    "  Base = Base[Logico]\n",
    "\n",
    "  Comb_final = Base[Base['Ahorro'] == max(Base['Ahorro'])]\n",
    "  print('Combinación de libros 1: Libros',Comb_final.iloc[0][0],',',Comb_final.iloc[0][1],'y', Comb_final.iloc[0][2])\n",
    "  print('Combinación de libros 2: Libros',Comb_final.iloc[0][3],',',Comb_final.iloc[0][4],'y', Comb_final.iloc[0][5])\n",
    "  print('Total de dinero ahorrado:', int(Comb_final['Ahorro']))"
   ]
  },
  {
   "cell_type": "code",
   "execution_count": null,
   "id": "9bcab2b8",
   "metadata": {},
   "outputs": [],
   "source": [
    "ahorro() # Profe nose porque aqui en Jupyter no sirve esta función, en el Colab anexado si funciona, que pena :(: jajaja"
   ]
  }
 ],
 "metadata": {
  "kernelspec": {
   "display_name": "Python 3 (ipykernel)",
   "language": "python",
   "name": "python3"
  },
  "language_info": {
   "codemirror_mode": {
    "name": "ipython",
    "version": 3
   },
   "file_extension": ".py",
   "mimetype": "text/x-python",
   "name": "python",
   "nbconvert_exporter": "python",
   "pygments_lexer": "ipython3",
   "version": "3.9.12"
  }
 },
 "nbformat": 4,
 "nbformat_minor": 5
}
