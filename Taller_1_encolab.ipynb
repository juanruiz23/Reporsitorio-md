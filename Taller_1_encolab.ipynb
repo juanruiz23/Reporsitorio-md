{
  "cells": [
    {
      "cell_type": "markdown",
      "metadata": {
        "id": "nkIBlozi-Ac5"
      },
      "source": [
        "# TALLER 1\n",
        "# Juan Sebastián Ruiz Caro"
      ]
    },
    {
      "cell_type": "code",
      "execution_count": null,
      "metadata": {
        "colab": {
          "background_save": true
        },
        "id": "vtnjBXLhnF-S",
        "outputId": "fd85abe7-18ac-4cd0-cc89-ed27457d483e"
      },
      "outputs": [
        {
          "name": "stdout",
          "output_type": "stream",
          "text": [
            "Looking in indexes: https://pypi.org/simple, https://us-python.pkg.dev/colab-wheels/public/simple/\n",
            "Requirement already satisfied: dfply in /usr/local/lib/python3.7/dist-packages (0.3.3)\n",
            "Requirement already satisfied: pandas in /usr/local/lib/python3.7/dist-packages (from dfply) (1.3.5)\n",
            "Requirement already satisfied: numpy in /usr/local/lib/python3.7/dist-packages (from dfply) (1.21.6)\n",
            "Requirement already satisfied: python-dateutil>=2.7.3 in /usr/local/lib/python3.7/dist-packages (from pandas->dfply) (2.8.2)\n",
            "Requirement already satisfied: pytz>=2017.3 in /usr/local/lib/python3.7/dist-packages (from pandas->dfply) (2022.2.1)\n",
            "Requirement already satisfied: six>=1.5 in /usr/local/lib/python3.7/dist-packages (from python-dateutil>=2.7.3->pandas->dfply) (1.15.0)\n"
          ]
        }
      ],
      "source": [
        "!pip install dfply"
      ]
    },
    {
      "cell_type": "code",
      "execution_count": null,
      "metadata": {
        "colab": {
          "background_save": true
        },
        "id": "KhafMBGL-G85"
      },
      "outputs": [],
      "source": [
        "import numpy as np\n",
        "from math import factorial\n",
        "from itertools import combinations\n",
        "import pandas as pd\n",
        "from dfply import *"
      ]
    },
    {
      "cell_type": "markdown",
      "metadata": {
        "id": "nrklydqJ-Ec-"
      },
      "source": [
        "## Ejercicio 1"
      ]
    },
    {
      "cell_type": "code",
      "execution_count": null,
      "metadata": {
        "colab": {
          "background_save": true
        },
        "id": "A-l4GGEa-GG0"
      },
      "outputs": [],
      "source": [
        "def convertidor(f):\n",
        "    # f: Grados Fahrenheit (Puede ser un vector o un escalar)\n",
        "    # retorna la conversión de grados Fahrenheit a centígrados\n",
        "    print('f°','  ','c°')\n",
        "    for i in range(len(f)):\n",
        "        c = (5/9) * (f[i] - 32)\n",
        "        print(f[i],'  ',c)"
      ]
    },
    {
      "cell_type": "code",
      "execution_count": null,
      "metadata": {
        "colab": {
          "background_save": true
        },
        "id": "OE6Xg3r5-Lq2",
        "outputId": "b6d4840e-1841-407b-a282-78c8a9b52f20"
      },
      "outputs": [
        {
          "name": "stdout",
          "output_type": "stream",
          "text": [
            "f°    c°\n",
            "0    -17.77777777777778\n",
            "10    -12.222222222222223\n",
            "15    -9.444444444444445\n"
          ]
        }
      ],
      "source": [
        "convertidor([0,10,15])"
      ]
    },
    {
      "cell_type": "markdown",
      "metadata": {
        "id": "zV1nApS8-P42"
      },
      "source": [
        "## Ejercicio 2"
      ]
    },
    {
      "cell_type": "code",
      "execution_count": null,
      "metadata": {
        "colab": {
          "background_save": true
        },
        "id": "ABhqIdxR-QwF"
      },
      "outputs": [],
      "source": [
        "def contraseña():  \n",
        "    # Al correr la linea se le pidara al usuario que ingrese una contraseña.\n",
        "    # Retorna Si la constraseña es correcta, en caso de no serlo, devuelve\n",
        "    # la razón por la cual no lo es.\n",
        "    Palabra = input('Introduzca una constraseña ')  \n",
        "    Caracter = ['*','_','!','$','%']\n",
        "    Logico_num = np.zeros(shape = len(Palabra)) ; Logico_may = np.zeros(shape = len(Palabra))\n",
        "    Logico_car = list()\n",
        "    for i in range(len(Palabra)):\n",
        "        Palabra = list(Palabra)\n",
        "        Logico_num[i] = Palabra[i].isdigit()\n",
        "        Logico_may[i] = Palabra[i].isupper()\n",
        "        for j in range(len(Caracter)):\n",
        "          Logico_car.append(Palabra[i] == Caracter[j])\n",
        "        \n",
        "    can_numero = Logico_num.sum() ; can_may = Logico_may.sum() ; can_car = np.array(Logico_car).sum()\n",
        "\n",
        "    if can_numero >= 1:\n",
        "        if can_may >= 1:\n",
        "            if can_car >= 1:\n",
        "                print('Constraseña aceptada')\n",
        "            else:\n",
        "                print('Falta al menos uno de los siguientes carácter especiales : *, _ , !, $, % ')\n",
        "        else:\n",
        "            print('Falta al menos una mayúscula')\n",
        "    else:\n",
        "        print('Falta al menos un carácter numérico')\n"
      ]
    },
    {
      "cell_type": "code",
      "execution_count": 22,
      "metadata": {
        "colab": {
          "base_uri": "https://localhost:8080/"
        },
        "id": "5xgSd78QBIJG",
        "outputId": "123b49d6-90ff-4edc-809f-93c67fde4228"
      },
      "outputs": [
        {
          "output_type": "stream",
          "name": "stdout",
          "text": [
            "Introduzca una constraseña Hola20\n",
            "Falta al menos uno de los siguientes carácter especiales : *, _ , !, $, % \n"
          ]
        }
      ],
      "source": [
        "contraseña()"
      ]
    },
    {
      "cell_type": "code",
      "execution_count": 23,
      "metadata": {
        "colab": {
          "base_uri": "https://localhost:8080/"
        },
        "id": "DV_uf5tyBOu_",
        "outputId": "ed2b4c4f-0670-47f1-9816-590c99774360"
      },
      "outputs": [
        {
          "output_type": "stream",
          "name": "stdout",
          "text": [
            "Introduzca una constraseña CadaDiaQu3Pasa!\n",
            "Constraseña aceptada\n"
          ]
        }
      ],
      "source": [
        "contraseña()"
      ]
    },
    {
      "cell_type": "code",
      "execution_count": 24,
      "metadata": {
        "colab": {
          "base_uri": "https://localhost:8080/"
        },
        "id": "j59QmY9-Bifx",
        "outputId": "9d52f52c-1853-4987-8579-8ccdd8acda80"
      },
      "outputs": [
        {
          "output_type": "stream",
          "name": "stdout",
          "text": [
            "Introduzca una constraseña soloMilo$$\n",
            "Falta al menos un carácter numérico\n"
          ]
        }
      ],
      "source": [
        "contraseña()"
      ]
    },
    {
      "cell_type": "code",
      "source": [
        "contraseña()"
      ],
      "metadata": {
        "colab": {
          "base_uri": "https://localhost:8080/"
        },
        "id": "PzTu3azul4Dv",
        "outputId": "1f5480c1-b5a9-4ce5-815e-c910062096f2"
      },
      "execution_count": 26,
      "outputs": [
        {
          "output_type": "stream",
          "name": "stdout",
          "text": [
            "Introduzca una constraseña latierran0esplana!\n",
            "Falta al menos una mayúscula\n"
          ]
        }
      ]
    },
    {
      "cell_type": "code",
      "source": [
        "contraseña()"
      ],
      "metadata": {
        "colab": {
          "base_uri": "https://localhost:8080/"
        },
        "id": "TWVdBCJPl81m",
        "outputId": "bb158575-a239-4580-cb92-4ec042b3b8bc"
      },
      "execution_count": 27,
      "outputs": [
        {
          "output_type": "stream",
          "name": "stdout",
          "text": [
            "Introduzca una constraseña Cr7_the_best\n",
            "Constraseña aceptada\n"
          ]
        }
      ]
    },
    {
      "cell_type": "markdown",
      "metadata": {
        "id": "fuR_dN9sB64e"
      },
      "source": [
        "## Ejercicio 3"
      ]
    },
    {
      "cell_type": "code",
      "execution_count": 20,
      "metadata": {
        "id": "whw7FICUfahy"
      },
      "outputs": [],
      "source": [
        "def ahorro():\n",
        "  # No es necesario introducir ningun argumento en la función.\n",
        "  # La función devuelve la forma de adquirir 6 libros sacando la mayor ganancia posible.\n",
        "  Libros = ['1', '2', '3', '4', '5', '6']\n",
        "  temp = list(combinations(Libros,3)) \n",
        "  Libros_precio = pd.Series([50000, 30000, 80000, 20000, 100000, 40000], index = Libros)\n",
        "  Suma , Minimo, Minimo_dobles = [], [], [] \n",
        "  for j in range(20):\n",
        "    Suma.append(Libros_precio[temp[j][0]] + Libros_precio[temp[j][1]] + Libros_precio[temp[j][2]])\n",
        "    Minimo.append(min([Libros_precio[temp[j][0]], Libros_precio[temp[j][1]], Libros_precio[temp[j][2]]]))\n",
        "  dobles = list(combinations(temp, 2))\n",
        "  Minimos_comb = pd.Series(Minimo, index = temp)\n",
        "  Almacenamiento = {'1':[0], '2':[0], '3':[0], '4':[0], '5':[0], '6':[0],}\n",
        "  Almacenamiento = pd.DataFrame(Almacenamiento)\n",
        "  for j in range(190):\n",
        "    Minimo_dobles.append(Minimos_comb[dobles[j][0]] + Minimos_comb[dobles[j][1]])\n",
        "    Nueva_fila = {'1' : dobles[j][0][0], '2' : dobles[j][0][1], '3' : dobles[j][0][2], '4' : dobles[j][1][0], '5' : dobles[j][1][1],'6': dobles[j][1][2]}\n",
        "    Almacenamiento = Almacenamiento.append(Nueva_fila, ignore_index=True)    \n",
        "  Almacenamiento = Almacenamiento.drop([0],axis=0)\n",
        "  Almacenamiento['Ahorro'] = Minimo_dobles\n",
        "  Almacenamiento.columns = ['var1','var2','var3','var4', 'var5', 'var6', 'Ahorro']\n",
        "  Almacenamiento = Almacenamiento.astype({'var1': 'int32', 'var2': 'int32', 'var3': 'int32', 'var4': 'int32', 'var5': 'int32', 'var6': 'int32'})\n",
        "  Base = (Almacenamiento >>\n",
        "        mutate(con = X.var1 + X.var2 + X.var3 + X.var4 + X.var5 + X.var6, \n",
        "               prod = X.var1 * X.var2 * X.var3 * X.var4 * X.var5 * X.var6))\n",
        "  Logico = Base['con'] + Base['prod'] == 741\n",
        "  Base = Base[Logico]\n",
        "\n",
        "  Comb_final = Base[Base['Ahorro'] == max(Base['Ahorro'])]\n",
        "  print('Combinación de libros 1: Libros',Comb_final.iloc[0][0],',',Comb_final.iloc[0][1],'y', Comb_final.iloc[0][2])\n",
        "  print('Combinación de libros 2: Libros',Comb_final.iloc[0][3],',',Comb_final.iloc[0][4],'y', Comb_final.iloc[0][5])\n",
        "  print('Total de dinero ahorrado:', int(Comb_final['Ahorro']))"
      ]
    },
    {
      "cell_type": "code",
      "execution_count": 21,
      "metadata": {
        "colab": {
          "base_uri": "https://localhost:8080/"
        },
        "id": "DDA3i7Rrfv6l",
        "outputId": "6db9d381-0ff8-4515-ac94-c15e143b6dbc"
      },
      "outputs": [
        {
          "output_type": "stream",
          "name": "stdout",
          "text": [
            "Combinación de libros 1: Libros 1 , 3 y 5\n",
            "Combinación de libros 2: Libros 2 , 4 y 6\n",
            "Total de dinero ahorrado: 70000\n"
          ]
        }
      ],
      "source": [
        "ahorro()"
      ]
    },
    {
      "cell_type": "code",
      "execution_count": null,
      "metadata": {
        "id": "DMPbxxhZfyWr"
      },
      "outputs": [],
      "source": []
    }
  ],
  "metadata": {
    "colab": {
      "collapsed_sections": [],
      "provenance": []
    },
    "kernelspec": {
      "display_name": "Python 3",
      "name": "python3"
    },
    "language_info": {
      "name": "python"
    }
  },
  "nbformat": 4,
  "nbformat_minor": 0
}